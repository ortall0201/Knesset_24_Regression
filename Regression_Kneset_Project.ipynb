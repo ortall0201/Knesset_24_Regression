{
  "cells": [
    {
      "cell_type": "markdown",
      "metadata": {
        "id": "VJMOLmaUofwj"
      },
      "source": [
        "# Generating a 1 big dataset called \"combined_data.csv\" because i realized there should be a number of the session related to its csv' rows. (this file is better) - also notice the dataframe is called \"combined_df\".\n",
        "This dataset is a concatenation of several csv's saved in github under \"data\" folder (you need to download and run this code so it will allow you to upload the csv's in one click and generate the combined_data.csv."
      ]
    },
    {
      "cell_type": "code",
      "source": [
        "# Import necessary libraries\n",
        "from google.colab import files\n",
        "import pandas as pd\n",
        "\n",
        "# Step 1: Upload CSV files\n",
        "uploaded = files.upload()\n",
        "\n",
        "# Step 2: Define the function to process the uploaded CSV files\n",
        "def concatenate_csvs_with_session(filenames, output_file=\"combined_data.csv\"):\n",
        "    \"\"\"\n",
        "    This function takes a list of filenames, loads each CSV file, adds the session number\n",
        "    extracted from the filename to a 'session' column, concatenates them into a single DataFrame,\n",
        "    and saves the concatenated data to a CSV file.\n",
        "\n",
        "    :param filenames: List of CSV filenames (strings).\n",
        "    :param output_file: The name of the output CSV file to save the concatenated data.\n",
        "    :return: The combined DataFrame.\n",
        "    \"\"\"\n",
        "    # List to store individual DataFrames\n",
        "    dfs = []\n",
        "\n",
        "    # Loop through each file in the list of filenames and load them\n",
        "    for filename in filenames:\n",
        "        print(f\"Loading file: {filename}\")\n",
        "        df = pd.read_csv(filename)\n",
        "        # Extract session number from filename (assuming '24_' prefix in filenames)\n",
        "        session_number = filename.split('_')[1].split('.')[0]  # Extracts the part after '24_' and before '.csv'\n",
        "        df['session'] = session_number  # Add session column to the DataFrame\n",
        "        dfs.append(df)  # Append the DataFrame to the list\n",
        "\n",
        "    # Concatenate all the DataFrames into one large DataFrame\n",
        "    combined_df = pd.concat(dfs, ignore_index=True)\n",
        "    print(\"Combined DataFrame shape:\", combined_df.shape)\n",
        "    print(combined_df.head())  # Display the first few rows of the combined DataFrame\n",
        "\n",
        "    # Save the combined DataFrame to a CSV file\n",
        "    combined_df.to_csv(output_file, index=False)\n",
        "    print(f\"Combined DataFrame saved to {output_file}\")\n",
        "\n",
        "    return combined_df\n",
        "\n",
        "# Step 3: Example usage with the uploaded CSV filenames\n",
        "filenames = list(uploaded.keys())  # Get the filenames from the uploaded files\n",
        "combined_df = concatenate_csvs_with_session(filenames, output_file=\"combined_data.csv\")\n"
      ],
      "metadata": {
        "colab": {
          "base_uri": "https://localhost:8080/",
          "height": 1000
        },
        "id": "h_zUF6fdfNVX",
        "outputId": "bb4220db-7c40-4833-cf94-ae5ff0d60474"
      },
      "execution_count": 122,
      "outputs": [
        {
          "output_type": "display_data",
          "data": {
            "text/plain": [
              "<IPython.core.display.HTML object>"
            ],
            "text/html": [
              "\n",
              "     <input type=\"file\" id=\"files-fb4dc84b-8881-47f8-a4b8-3f16adaaf69f\" name=\"files[]\" multiple disabled\n",
              "        style=\"border:none\" />\n",
              "     <output id=\"result-fb4dc84b-8881-47f8-a4b8-3f16adaaf69f\">\n",
              "      Upload widget is only available when the cell has been executed in the\n",
              "      current browser session. Please rerun this cell to enable.\n",
              "      </output>\n",
              "      <script>// Copyright 2017 Google LLC\n",
              "//\n",
              "// Licensed under the Apache License, Version 2.0 (the \"License\");\n",
              "// you may not use this file except in compliance with the License.\n",
              "// You may obtain a copy of the License at\n",
              "//\n",
              "//      http://www.apache.org/licenses/LICENSE-2.0\n",
              "//\n",
              "// Unless required by applicable law or agreed to in writing, software\n",
              "// distributed under the License is distributed on an \"AS IS\" BASIS,\n",
              "// WITHOUT WARRANTIES OR CONDITIONS OF ANY KIND, either express or implied.\n",
              "// See the License for the specific language governing permissions and\n",
              "// limitations under the License.\n",
              "\n",
              "/**\n",
              " * @fileoverview Helpers for google.colab Python module.\n",
              " */\n",
              "(function(scope) {\n",
              "function span(text, styleAttributes = {}) {\n",
              "  const element = document.createElement('span');\n",
              "  element.textContent = text;\n",
              "  for (const key of Object.keys(styleAttributes)) {\n",
              "    element.style[key] = styleAttributes[key];\n",
              "  }\n",
              "  return element;\n",
              "}\n",
              "\n",
              "// Max number of bytes which will be uploaded at a time.\n",
              "const MAX_PAYLOAD_SIZE = 100 * 1024;\n",
              "\n",
              "function _uploadFiles(inputId, outputId) {\n",
              "  const steps = uploadFilesStep(inputId, outputId);\n",
              "  const outputElement = document.getElementById(outputId);\n",
              "  // Cache steps on the outputElement to make it available for the next call\n",
              "  // to uploadFilesContinue from Python.\n",
              "  outputElement.steps = steps;\n",
              "\n",
              "  return _uploadFilesContinue(outputId);\n",
              "}\n",
              "\n",
              "// This is roughly an async generator (not supported in the browser yet),\n",
              "// where there are multiple asynchronous steps and the Python side is going\n",
              "// to poll for completion of each step.\n",
              "// This uses a Promise to block the python side on completion of each step,\n",
              "// then passes the result of the previous step as the input to the next step.\n",
              "function _uploadFilesContinue(outputId) {\n",
              "  const outputElement = document.getElementById(outputId);\n",
              "  const steps = outputElement.steps;\n",
              "\n",
              "  const next = steps.next(outputElement.lastPromiseValue);\n",
              "  return Promise.resolve(next.value.promise).then((value) => {\n",
              "    // Cache the last promise value to make it available to the next\n",
              "    // step of the generator.\n",
              "    outputElement.lastPromiseValue = value;\n",
              "    return next.value.response;\n",
              "  });\n",
              "}\n",
              "\n",
              "/**\n",
              " * Generator function which is called between each async step of the upload\n",
              " * process.\n",
              " * @param {string} inputId Element ID of the input file picker element.\n",
              " * @param {string} outputId Element ID of the output display.\n",
              " * @return {!Iterable<!Object>} Iterable of next steps.\n",
              " */\n",
              "function* uploadFilesStep(inputId, outputId) {\n",
              "  const inputElement = document.getElementById(inputId);\n",
              "  inputElement.disabled = false;\n",
              "\n",
              "  const outputElement = document.getElementById(outputId);\n",
              "  outputElement.innerHTML = '';\n",
              "\n",
              "  const pickedPromise = new Promise((resolve) => {\n",
              "    inputElement.addEventListener('change', (e) => {\n",
              "      resolve(e.target.files);\n",
              "    });\n",
              "  });\n",
              "\n",
              "  const cancel = document.createElement('button');\n",
              "  inputElement.parentElement.appendChild(cancel);\n",
              "  cancel.textContent = 'Cancel upload';\n",
              "  const cancelPromise = new Promise((resolve) => {\n",
              "    cancel.onclick = () => {\n",
              "      resolve(null);\n",
              "    };\n",
              "  });\n",
              "\n",
              "  // Wait for the user to pick the files.\n",
              "  const files = yield {\n",
              "    promise: Promise.race([pickedPromise, cancelPromise]),\n",
              "    response: {\n",
              "      action: 'starting',\n",
              "    }\n",
              "  };\n",
              "\n",
              "  cancel.remove();\n",
              "\n",
              "  // Disable the input element since further picks are not allowed.\n",
              "  inputElement.disabled = true;\n",
              "\n",
              "  if (!files) {\n",
              "    return {\n",
              "      response: {\n",
              "        action: 'complete',\n",
              "      }\n",
              "    };\n",
              "  }\n",
              "\n",
              "  for (const file of files) {\n",
              "    const li = document.createElement('li');\n",
              "    li.append(span(file.name, {fontWeight: 'bold'}));\n",
              "    li.append(span(\n",
              "        `(${file.type || 'n/a'}) - ${file.size} bytes, ` +\n",
              "        `last modified: ${\n",
              "            file.lastModifiedDate ? file.lastModifiedDate.toLocaleDateString() :\n",
              "                                    'n/a'} - `));\n",
              "    const percent = span('0% done');\n",
              "    li.appendChild(percent);\n",
              "\n",
              "    outputElement.appendChild(li);\n",
              "\n",
              "    const fileDataPromise = new Promise((resolve) => {\n",
              "      const reader = new FileReader();\n",
              "      reader.onload = (e) => {\n",
              "        resolve(e.target.result);\n",
              "      };\n",
              "      reader.readAsArrayBuffer(file);\n",
              "    });\n",
              "    // Wait for the data to be ready.\n",
              "    let fileData = yield {\n",
              "      promise: fileDataPromise,\n",
              "      response: {\n",
              "        action: 'continue',\n",
              "      }\n",
              "    };\n",
              "\n",
              "    // Use a chunked sending to avoid message size limits. See b/62115660.\n",
              "    let position = 0;\n",
              "    do {\n",
              "      const length = Math.min(fileData.byteLength - position, MAX_PAYLOAD_SIZE);\n",
              "      const chunk = new Uint8Array(fileData, position, length);\n",
              "      position += length;\n",
              "\n",
              "      const base64 = btoa(String.fromCharCode.apply(null, chunk));\n",
              "      yield {\n",
              "        response: {\n",
              "          action: 'append',\n",
              "          file: file.name,\n",
              "          data: base64,\n",
              "        },\n",
              "      };\n",
              "\n",
              "      let percentDone = fileData.byteLength === 0 ?\n",
              "          100 :\n",
              "          Math.round((position / fileData.byteLength) * 100);\n",
              "      percent.textContent = `${percentDone}% done`;\n",
              "\n",
              "    } while (position < fileData.byteLength);\n",
              "  }\n",
              "\n",
              "  // All done.\n",
              "  yield {\n",
              "    response: {\n",
              "      action: 'complete',\n",
              "    }\n",
              "  };\n",
              "}\n",
              "\n",
              "scope.google = scope.google || {};\n",
              "scope.google.colab = scope.google.colab || {};\n",
              "scope.google.colab._files = {\n",
              "  _uploadFiles,\n",
              "  _uploadFilesContinue,\n",
              "};\n",
              "})(self);\n",
              "</script> "
            ]
          },
          "metadata": {}
        },
        {
          "output_type": "stream",
          "name": "stdout",
          "text": [
            "Saving 24_127.csv to 24_127.csv\n",
            "Saving 24_128.csv to 24_128.csv\n",
            "Saving 24_129.csv to 24_129.csv\n",
            "Saving 24_130.csv to 24_130.csv\n",
            "Saving 24_131.csv to 24_131.csv\n",
            "Saving 24_132.csv to 24_132.csv\n",
            "Saving 24_133.csv to 24_133.csv\n",
            "Saving 24_134.csv to 24_134.csv\n",
            "Saving 24_135.csv to 24_135.csv\n",
            "Saving 24_136.csv to 24_136.csv\n",
            "Saving 24_137.csv to 24_137.csv\n",
            "Saving 24_138.csv to 24_138.csv\n",
            "Saving 24_139.csv to 24_139.csv\n",
            "Loading file: 24_127.csv\n",
            "Loading file: 24_128.csv\n",
            "Loading file: 24_129.csv\n",
            "Loading file: 24_130.csv\n",
            "Loading file: 24_131.csv\n",
            "Loading file: 24_132.csv\n",
            "Loading file: 24_133.csv\n",
            "Loading file: 24_134.csv\n",
            "Loading file: 24_135.csv\n",
            "Loading file: 24_136.csv\n",
            "Loading file: 24_137.csv\n",
            "Loading file: 24_138.csv\n",
            "Loading file: 24_139.csv\n",
            "Combined DataFrame shape: (14418, 8)\n",
            "   knesset session   speaker party         role  \\\n",
            "0      NaN     127       NaN   NaN          NaN   \n",
            "1      NaN     127  מיקי לוי   NaN        היו\"ר   \n",
            "2      NaN     127  דן מרזוק   NaN  מזכיר הכנסת   \n",
            "3      NaN     127  מיקי לוי   NaN        היו\"ר   \n",
            "4      NaN     127  מיקי לוי   NaN        היו\"ר   \n",
            "\n",
            "                                                text  \\\n",
            "0                      דברי הכנסתחוברת כ\"וישיבה קכ\"ז   \n",
            "1  חברי הכנסת, היום ט' באייר התשפ\"ב, 10 במאי 2022...   \n",
            "2  ברשות יושב-ראש הכנסת, אני מתכבד להודיעכם, כי ה...   \n",
            "3                                          תודה רבה.   \n",
            "4  חברי הכנסת שמעוניינים לנאום נאומים בני דקה, בב...   \n",
            "\n",
            "                        subject sub_subject  \n",
            "0  מסמכים שהונחו על שולחן הכנסת         NaN  \n",
            "1  מסמכים שהונחו על שולחן הכנסת         NaN  \n",
            "2  מסמכים שהונחו על שולחן הכנסת         NaN  \n",
            "3                נאומים בני דקה         NaN  \n",
            "4                נאומים בני דקה         NaN  \n",
            "Combined DataFrame saved to combined_data.csv\n"
          ]
        }
      ]
    },
    {
      "cell_type": "markdown",
      "source": [
        "# Here is the direct function to use the combined_data.csv path without viewing the file (because it doesn't require download)"
      ],
      "metadata": {
        "id": "HVr5mT9NkmXO"
      }
    },
    {
      "cell_type": "code",
      "source": [
        "def csv_drive_path_generator(url):\n",
        "    \"\"\"\n",
        "    Generates a direct download link from a Google Drive URL to read CSV files.\n",
        "\n",
        "    Args:\n",
        "    url (str): Google Drive sharing link for the CSV file.\n",
        "\n",
        "    Returns:\n",
        "    str: Direct link to download the CSV file.\n",
        "    \"\"\"\n",
        "    # Extract the file ID from the Google Drive link\n",
        "    file_id = url.split('/')[-2]\n",
        "    # Create a direct download link\n",
        "    path = f'https://drive.google.com/uc?export=download&id={file_id}'\n",
        "\n",
        "    return path\n",
        "\n",
        "\n",
        "import pandas as pd\n",
        "\n",
        "# Replace this with your Google Drive file link\n",
        "drive_link = 'https://drive.google.com/file/d/10JrEo5da5m4g-Sb9RfzXYGalD0sQ4V9a/view?usp=drive_link'\n",
        "\n",
        "# Generate the direct download link\n",
        "csv_path = csv_drive_path_generator(drive_link)\n",
        "\n",
        "# Read the CSV directly into a DataFrame\n",
        "combined_df = pd.read_csv(csv_path)\n",
        "\n",
        "# Display the first few rows to confirm it's loaded correctly\n",
        "print(\"First few rows of the combined dataset:\")\n",
        "print(combined_df.head())\n",
        "\n",
        "# Get an overview of the dataset\n",
        "print(\"\\nCombined Dataset Information:\")\n",
        "print(combined_df.info())\n",
        "\n",
        "# Check for missing values\n",
        "print(\"\\nMissing values per column in the combined dataset:\")\n",
        "print(combined_df.isnull().sum())\n"
      ],
      "metadata": {
        "id": "ltPm9wtsjjxS"
      },
      "execution_count": null,
      "outputs": []
    },
    {
      "cell_type": "markdown",
      "source": [
        "# This is how to read the dataset, if you use the first link to generate the combined_data.csv"
      ],
      "metadata": {
        "id": "UnN_jCXqmsIW"
      }
    },
    {
      "cell_type": "code",
      "source": [
        "import pandas as pd\n",
        "combined_df = pd.read_csv(r'combined_data.csv')"
      ],
      "metadata": {
        "id": "goUBqg5mlRyK"
      },
      "execution_count": 193,
      "outputs": []
    },
    {
      "cell_type": "code",
      "execution_count": 194,
      "metadata": {
        "colab": {
          "base_uri": "https://localhost:8080/",
          "height": 276
        },
        "id": "xNpcTuXlfKj-",
        "outputId": "c13d94fb-7f5c-4e07-bf28-21423c53d03c"
      },
      "outputs": [
        {
          "output_type": "execute_result",
          "data": {
            "text/plain": [
              "   knesset  session   speaker party         role  \\\n",
              "0      NaN      127       NaN   NaN          NaN   \n",
              "1      NaN      127  מיקי לוי   NaN        היו\"ר   \n",
              "2      NaN      127  דן מרזוק   NaN  מזכיר הכנסת   \n",
              "3      NaN      127  מיקי לוי   NaN        היו\"ר   \n",
              "4      NaN      127  מיקי לוי   NaN        היו\"ר   \n",
              "\n",
              "                                                text  \\\n",
              "0                      דברי הכנסתחוברת כ\"וישיבה קכ\"ז   \n",
              "1  חברי הכנסת, היום ט' באייר התשפ\"ב, 10 במאי 2022...   \n",
              "2  ברשות יושב-ראש הכנסת, אני מתכבד להודיעכם, כי ה...   \n",
              "3                                          תודה רבה.   \n",
              "4  חברי הכנסת שמעוניינים לנאום נאומים בני דקה, בב...   \n",
              "\n",
              "                        subject sub_subject  \n",
              "0  מסמכים שהונחו על שולחן הכנסת         NaN  \n",
              "1  מסמכים שהונחו על שולחן הכנסת         NaN  \n",
              "2  מסמכים שהונחו על שולחן הכנסת         NaN  \n",
              "3                נאומים בני דקה         NaN  \n",
              "4                נאומים בני דקה         NaN  "
            ],
            "text/html": [
              "\n",
              "  <div id=\"df-56e5a250-b992-4334-8dac-abe77b1b52ff\" class=\"colab-df-container\">\n",
              "    <div>\n",
              "<style scoped>\n",
              "    .dataframe tbody tr th:only-of-type {\n",
              "        vertical-align: middle;\n",
              "    }\n",
              "\n",
              "    .dataframe tbody tr th {\n",
              "        vertical-align: top;\n",
              "    }\n",
              "\n",
              "    .dataframe thead th {\n",
              "        text-align: right;\n",
              "    }\n",
              "</style>\n",
              "<table border=\"1\" class=\"dataframe\">\n",
              "  <thead>\n",
              "    <tr style=\"text-align: right;\">\n",
              "      <th></th>\n",
              "      <th>knesset</th>\n",
              "      <th>session</th>\n",
              "      <th>speaker</th>\n",
              "      <th>party</th>\n",
              "      <th>role</th>\n",
              "      <th>text</th>\n",
              "      <th>subject</th>\n",
              "      <th>sub_subject</th>\n",
              "    </tr>\n",
              "  </thead>\n",
              "  <tbody>\n",
              "    <tr>\n",
              "      <th>0</th>\n",
              "      <td>NaN</td>\n",
              "      <td>127</td>\n",
              "      <td>NaN</td>\n",
              "      <td>NaN</td>\n",
              "      <td>NaN</td>\n",
              "      <td>דברי הכנסתחוברת כ\"וישיבה קכ\"ז</td>\n",
              "      <td>מסמכים שהונחו על שולחן הכנסת</td>\n",
              "      <td>NaN</td>\n",
              "    </tr>\n",
              "    <tr>\n",
              "      <th>1</th>\n",
              "      <td>NaN</td>\n",
              "      <td>127</td>\n",
              "      <td>מיקי לוי</td>\n",
              "      <td>NaN</td>\n",
              "      <td>היו\"ר</td>\n",
              "      <td>חברי הכנסת, היום ט' באייר התשפ\"ב, 10 במאי 2022...</td>\n",
              "      <td>מסמכים שהונחו על שולחן הכנסת</td>\n",
              "      <td>NaN</td>\n",
              "    </tr>\n",
              "    <tr>\n",
              "      <th>2</th>\n",
              "      <td>NaN</td>\n",
              "      <td>127</td>\n",
              "      <td>דן מרזוק</td>\n",
              "      <td>NaN</td>\n",
              "      <td>מזכיר הכנסת</td>\n",
              "      <td>ברשות יושב-ראש הכנסת, אני מתכבד להודיעכם, כי ה...</td>\n",
              "      <td>מסמכים שהונחו על שולחן הכנסת</td>\n",
              "      <td>NaN</td>\n",
              "    </tr>\n",
              "    <tr>\n",
              "      <th>3</th>\n",
              "      <td>NaN</td>\n",
              "      <td>127</td>\n",
              "      <td>מיקי לוי</td>\n",
              "      <td>NaN</td>\n",
              "      <td>היו\"ר</td>\n",
              "      <td>תודה רבה.</td>\n",
              "      <td>נאומים בני דקה</td>\n",
              "      <td>NaN</td>\n",
              "    </tr>\n",
              "    <tr>\n",
              "      <th>4</th>\n",
              "      <td>NaN</td>\n",
              "      <td>127</td>\n",
              "      <td>מיקי לוי</td>\n",
              "      <td>NaN</td>\n",
              "      <td>היו\"ר</td>\n",
              "      <td>חברי הכנסת שמעוניינים לנאום נאומים בני דקה, בב...</td>\n",
              "      <td>נאומים בני דקה</td>\n",
              "      <td>NaN</td>\n",
              "    </tr>\n",
              "  </tbody>\n",
              "</table>\n",
              "</div>\n",
              "    <div class=\"colab-df-buttons\">\n",
              "\n",
              "  <div class=\"colab-df-container\">\n",
              "    <button class=\"colab-df-convert\" onclick=\"convertToInteractive('df-56e5a250-b992-4334-8dac-abe77b1b52ff')\"\n",
              "            title=\"Convert this dataframe to an interactive table.\"\n",
              "            style=\"display:none;\">\n",
              "\n",
              "  <svg xmlns=\"http://www.w3.org/2000/svg\" height=\"24px\" viewBox=\"0 -960 960 960\">\n",
              "    <path d=\"M120-120v-720h720v720H120Zm60-500h600v-160H180v160Zm220 220h160v-160H400v160Zm0 220h160v-160H400v160ZM180-400h160v-160H180v160Zm440 0h160v-160H620v160ZM180-180h160v-160H180v160Zm440 0h160v-160H620v160Z\"/>\n",
              "  </svg>\n",
              "    </button>\n",
              "\n",
              "  <style>\n",
              "    .colab-df-container {\n",
              "      display:flex;\n",
              "      gap: 12px;\n",
              "    }\n",
              "\n",
              "    .colab-df-convert {\n",
              "      background-color: #E8F0FE;\n",
              "      border: none;\n",
              "      border-radius: 50%;\n",
              "      cursor: pointer;\n",
              "      display: none;\n",
              "      fill: #1967D2;\n",
              "      height: 32px;\n",
              "      padding: 0 0 0 0;\n",
              "      width: 32px;\n",
              "    }\n",
              "\n",
              "    .colab-df-convert:hover {\n",
              "      background-color: #E2EBFA;\n",
              "      box-shadow: 0px 1px 2px rgba(60, 64, 67, 0.3), 0px 1px 3px 1px rgba(60, 64, 67, 0.15);\n",
              "      fill: #174EA6;\n",
              "    }\n",
              "\n",
              "    .colab-df-buttons div {\n",
              "      margin-bottom: 4px;\n",
              "    }\n",
              "\n",
              "    [theme=dark] .colab-df-convert {\n",
              "      background-color: #3B4455;\n",
              "      fill: #D2E3FC;\n",
              "    }\n",
              "\n",
              "    [theme=dark] .colab-df-convert:hover {\n",
              "      background-color: #434B5C;\n",
              "      box-shadow: 0px 1px 3px 1px rgba(0, 0, 0, 0.15);\n",
              "      filter: drop-shadow(0px 1px 2px rgba(0, 0, 0, 0.3));\n",
              "      fill: #FFFFFF;\n",
              "    }\n",
              "  </style>\n",
              "\n",
              "    <script>\n",
              "      const buttonEl =\n",
              "        document.querySelector('#df-56e5a250-b992-4334-8dac-abe77b1b52ff button.colab-df-convert');\n",
              "      buttonEl.style.display =\n",
              "        google.colab.kernel.accessAllowed ? 'block' : 'none';\n",
              "\n",
              "      async function convertToInteractive(key) {\n",
              "        const element = document.querySelector('#df-56e5a250-b992-4334-8dac-abe77b1b52ff');\n",
              "        const dataTable =\n",
              "          await google.colab.kernel.invokeFunction('convertToInteractive',\n",
              "                                                    [key], {});\n",
              "        if (!dataTable) return;\n",
              "\n",
              "        const docLinkHtml = 'Like what you see? Visit the ' +\n",
              "          '<a target=\"_blank\" href=https://colab.research.google.com/notebooks/data_table.ipynb>data table notebook</a>'\n",
              "          + ' to learn more about interactive tables.';\n",
              "        element.innerHTML = '';\n",
              "        dataTable['output_type'] = 'display_data';\n",
              "        await google.colab.output.renderOutput(dataTable, element);\n",
              "        const docLink = document.createElement('div');\n",
              "        docLink.innerHTML = docLinkHtml;\n",
              "        element.appendChild(docLink);\n",
              "      }\n",
              "    </script>\n",
              "  </div>\n",
              "\n",
              "\n",
              "<div id=\"df-762e9da9-0582-43fb-aa92-1903d7fd3e0b\">\n",
              "  <button class=\"colab-df-quickchart\" onclick=\"quickchart('df-762e9da9-0582-43fb-aa92-1903d7fd3e0b')\"\n",
              "            title=\"Suggest charts\"\n",
              "            style=\"display:none;\">\n",
              "\n",
              "<svg xmlns=\"http://www.w3.org/2000/svg\" height=\"24px\"viewBox=\"0 0 24 24\"\n",
              "     width=\"24px\">\n",
              "    <g>\n",
              "        <path d=\"M19 3H5c-1.1 0-2 .9-2 2v14c0 1.1.9 2 2 2h14c1.1 0 2-.9 2-2V5c0-1.1-.9-2-2-2zM9 17H7v-7h2v7zm4 0h-2V7h2v10zm4 0h-2v-4h2v4z\"/>\n",
              "    </g>\n",
              "</svg>\n",
              "  </button>\n",
              "\n",
              "<style>\n",
              "  .colab-df-quickchart {\n",
              "      --bg-color: #E8F0FE;\n",
              "      --fill-color: #1967D2;\n",
              "      --hover-bg-color: #E2EBFA;\n",
              "      --hover-fill-color: #174EA6;\n",
              "      --disabled-fill-color: #AAA;\n",
              "      --disabled-bg-color: #DDD;\n",
              "  }\n",
              "\n",
              "  [theme=dark] .colab-df-quickchart {\n",
              "      --bg-color: #3B4455;\n",
              "      --fill-color: #D2E3FC;\n",
              "      --hover-bg-color: #434B5C;\n",
              "      --hover-fill-color: #FFFFFF;\n",
              "      --disabled-bg-color: #3B4455;\n",
              "      --disabled-fill-color: #666;\n",
              "  }\n",
              "\n",
              "  .colab-df-quickchart {\n",
              "    background-color: var(--bg-color);\n",
              "    border: none;\n",
              "    border-radius: 50%;\n",
              "    cursor: pointer;\n",
              "    display: none;\n",
              "    fill: var(--fill-color);\n",
              "    height: 32px;\n",
              "    padding: 0;\n",
              "    width: 32px;\n",
              "  }\n",
              "\n",
              "  .colab-df-quickchart:hover {\n",
              "    background-color: var(--hover-bg-color);\n",
              "    box-shadow: 0 1px 2px rgba(60, 64, 67, 0.3), 0 1px 3px 1px rgba(60, 64, 67, 0.15);\n",
              "    fill: var(--button-hover-fill-color);\n",
              "  }\n",
              "\n",
              "  .colab-df-quickchart-complete:disabled,\n",
              "  .colab-df-quickchart-complete:disabled:hover {\n",
              "    background-color: var(--disabled-bg-color);\n",
              "    fill: var(--disabled-fill-color);\n",
              "    box-shadow: none;\n",
              "  }\n",
              "\n",
              "  .colab-df-spinner {\n",
              "    border: 2px solid var(--fill-color);\n",
              "    border-color: transparent;\n",
              "    border-bottom-color: var(--fill-color);\n",
              "    animation:\n",
              "      spin 1s steps(1) infinite;\n",
              "  }\n",
              "\n",
              "  @keyframes spin {\n",
              "    0% {\n",
              "      border-color: transparent;\n",
              "      border-bottom-color: var(--fill-color);\n",
              "      border-left-color: var(--fill-color);\n",
              "    }\n",
              "    20% {\n",
              "      border-color: transparent;\n",
              "      border-left-color: var(--fill-color);\n",
              "      border-top-color: var(--fill-color);\n",
              "    }\n",
              "    30% {\n",
              "      border-color: transparent;\n",
              "      border-left-color: var(--fill-color);\n",
              "      border-top-color: var(--fill-color);\n",
              "      border-right-color: var(--fill-color);\n",
              "    }\n",
              "    40% {\n",
              "      border-color: transparent;\n",
              "      border-right-color: var(--fill-color);\n",
              "      border-top-color: var(--fill-color);\n",
              "    }\n",
              "    60% {\n",
              "      border-color: transparent;\n",
              "      border-right-color: var(--fill-color);\n",
              "    }\n",
              "    80% {\n",
              "      border-color: transparent;\n",
              "      border-right-color: var(--fill-color);\n",
              "      border-bottom-color: var(--fill-color);\n",
              "    }\n",
              "    90% {\n",
              "      border-color: transparent;\n",
              "      border-bottom-color: var(--fill-color);\n",
              "    }\n",
              "  }\n",
              "</style>\n",
              "\n",
              "  <script>\n",
              "    async function quickchart(key) {\n",
              "      const quickchartButtonEl =\n",
              "        document.querySelector('#' + key + ' button');\n",
              "      quickchartButtonEl.disabled = true;  // To prevent multiple clicks.\n",
              "      quickchartButtonEl.classList.add('colab-df-spinner');\n",
              "      try {\n",
              "        const charts = await google.colab.kernel.invokeFunction(\n",
              "            'suggestCharts', [key], {});\n",
              "      } catch (error) {\n",
              "        console.error('Error during call to suggestCharts:', error);\n",
              "      }\n",
              "      quickchartButtonEl.classList.remove('colab-df-spinner');\n",
              "      quickchartButtonEl.classList.add('colab-df-quickchart-complete');\n",
              "    }\n",
              "    (() => {\n",
              "      let quickchartButtonEl =\n",
              "        document.querySelector('#df-762e9da9-0582-43fb-aa92-1903d7fd3e0b button');\n",
              "      quickchartButtonEl.style.display =\n",
              "        google.colab.kernel.accessAllowed ? 'block' : 'none';\n",
              "    })();\n",
              "  </script>\n",
              "</div>\n",
              "\n",
              "    </div>\n",
              "  </div>\n"
            ],
            "application/vnd.google.colaboratory.intrinsic+json": {
              "type": "dataframe",
              "variable_name": "combined_df",
              "summary": "{\n  \"name\": \"combined_df\",\n  \"rows\": 14418,\n  \"fields\": [\n    {\n      \"column\": \"knesset\",\n      \"properties\": {\n        \"dtype\": \"number\",\n        \"std\": null,\n        \"min\": null,\n        \"max\": null,\n        \"num_unique_values\": 0,\n        \"samples\": [],\n        \"semantic_type\": \"\",\n        \"description\": \"\"\n      }\n    },\n    {\n      \"column\": \"session\",\n      \"properties\": {\n        \"dtype\": \"number\",\n        \"std\": 3,\n        \"min\": 127,\n        \"max\": 139,\n        \"num_unique_values\": 13,\n        \"samples\": [],\n        \"semantic_type\": \"\",\n        \"description\": \"\"\n      }\n    },\n    {\n      \"column\": \"speaker\",\n      \"properties\": {\n        \"dtype\": \"category\",\n        \"num_unique_values\": 147,\n        \"samples\": [],\n        \"semantic_type\": \"\",\n        \"description\": \"\"\n      }\n    },\n    {\n      \"column\": \"party\",\n      \"properties\": {\n        \"dtype\": \"category\",\n        \"num_unique_values\": 18,\n        \"samples\": [],\n        \"semantic_type\": \"\",\n        \"description\": \"\"\n      }\n    },\n    {\n      \"column\": \"role\",\n      \"properties\": {\n        \"dtype\": \"category\",\n        \"num_unique_values\": 47,\n        \"samples\": [],\n        \"semantic_type\": \"\",\n        \"description\": \"\"\n      }\n    },\n    {\n      \"column\": \"text\",\n      \"properties\": {\n        \"dtype\": \"string\",\n        \"num_unique_values\": 12696,\n        \"samples\": [],\n        \"semantic_type\": \"\",\n        \"description\": \"\"\n      }\n    },\n    {\n      \"column\": \"subject\",\n      \"properties\": {\n        \"dtype\": \"category\",\n        \"num_unique_values\": 184,\n        \"samples\": [],\n        \"semantic_type\": \"\",\n        \"description\": \"\"\n      }\n    },\n    {\n      \"column\": \"sub_subject\",\n      \"properties\": {\n        \"dtype\": \"category\",\n        \"num_unique_values\": 35,\n        \"samples\": [],\n        \"semantic_type\": \"\",\n        \"description\": \"\"\n      }\n    }\n  ]\n}"
            }
          },
          "metadata": {},
          "execution_count": 194
        }
      ],
      "source": [
        "combined_df.head()"
      ]
    },
    {
      "cell_type": "code",
      "execution_count": 195,
      "metadata": {
        "colab": {
          "base_uri": "https://localhost:8080/"
        },
        "id": "aCKJTjYDfKj_",
        "outputId": "324ba378-cb02-4e4a-e5cf-f2c8be71256b"
      },
      "outputs": [
        {
          "output_type": "stream",
          "name": "stdout",
          "text": [
            "<class 'pandas.core.frame.DataFrame'>\n",
            "RangeIndex: 14418 entries, 0 to 14417\n",
            "Data columns (total 8 columns):\n",
            " #   Column       Non-Null Count  Dtype  \n",
            "---  ------       --------------  -----  \n",
            " 0   knesset      0 non-null      float64\n",
            " 1   session      14418 non-null  int64  \n",
            " 2   speaker      14407 non-null  object \n",
            " 3   party        7428 non-null   object \n",
            " 4   role         6331 non-null   object \n",
            " 5   text         14414 non-null  object \n",
            " 6   subject      14418 non-null  object \n",
            " 7   sub_subject  9230 non-null   object \n",
            "dtypes: float64(1), int64(1), object(6)\n",
            "memory usage: 901.2+ KB\n",
            "None\n"
          ]
        }
      ],
      "source": [
        "print(combined_df.info())"
      ]
    },
    {
      "cell_type": "code",
      "source": [
        "# Count rows where 'speaker' is NaN and 'party' is 'הליכוד'\n",
        "nan_speaker_likud = combined_df[(combined_df['speaker'].isna()) & (combined_df['party'] == 'הליכוד')]\n",
        "\n",
        "# Print the number of such rows\n",
        "print(f\"Number of rows with NaN in 'speaker' and 'הליכוד' in 'party': {nan_speaker_likud.shape[0]}\")\n"
      ],
      "metadata": {
        "id": "rYmgYz221n6g",
        "colab": {
          "base_uri": "https://localhost:8080/"
        },
        "outputId": "c4385c06-44d6-4f57-9077-26710e23ba48"
      },
      "execution_count": 196,
      "outputs": [
        {
          "output_type": "stream",
          "name": "stdout",
          "text": [
            "Number of rows with NaN in 'speaker' and 'הליכוד' in 'party': 0\n"
          ]
        }
      ]
    },
    {
      "cell_type": "code",
      "source": [
        "# Fill NaN in the 'speaker' column where 'party' is 'הליכוד' and 'speaker' is not NaN\n",
        "combined_df.loc[combined_df['party'] == 'הליכוד', 'speaker'] = combined_df.loc[combined_df['party'] == 'הליכוד', 'speaker'].fillna('Unknown')\n",
        "\n",
        "# Verify the change by checking the first few rows and missing values in 'speaker'\n",
        "print(combined_df.head())\n",
        "print(f\"Missing values in 'speaker': {combined_df['speaker'].isna().sum()}\")\n"
      ],
      "metadata": {
        "id": "0qiM5mbN18Ip",
        "colab": {
          "base_uri": "https://localhost:8080/"
        },
        "outputId": "eea5d89b-ef0e-4c43-c4c9-1c6386fe932d"
      },
      "execution_count": 197,
      "outputs": [
        {
          "output_type": "stream",
          "name": "stdout",
          "text": [
            "   knesset  session   speaker party         role  \\\n",
            "0      NaN      127       NaN   NaN          NaN   \n",
            "1      NaN      127  מיקי לוי   NaN        היו\"ר   \n",
            "2      NaN      127  דן מרזוק   NaN  מזכיר הכנסת   \n",
            "3      NaN      127  מיקי לוי   NaN        היו\"ר   \n",
            "4      NaN      127  מיקי לוי   NaN        היו\"ר   \n",
            "\n",
            "                                                text  \\\n",
            "0                      דברי הכנסתחוברת כ\"וישיבה קכ\"ז   \n",
            "1  חברי הכנסת, היום ט' באייר התשפ\"ב, 10 במאי 2022...   \n",
            "2  ברשות יושב-ראש הכנסת, אני מתכבד להודיעכם, כי ה...   \n",
            "3                                          תודה רבה.   \n",
            "4  חברי הכנסת שמעוניינים לנאום נאומים בני דקה, בב...   \n",
            "\n",
            "                        subject sub_subject  \n",
            "0  מסמכים שהונחו על שולחן הכנסת         NaN  \n",
            "1  מסמכים שהונחו על שולחן הכנסת         NaN  \n",
            "2  מסמכים שהונחו על שולחן הכנסת         NaN  \n",
            "3                נאומים בני דקה         NaN  \n",
            "4                נאומים בני דקה         NaN  \n",
            "Missing values in 'speaker': 11\n"
          ]
        }
      ]
    },
    {
      "cell_type": "code",
      "source": [
        "# Find the rows where 'speaker' is NaN\n",
        "combined_df.loc[combined_df['speaker'].isna(), 'speaker'] = pd.NA\n",
        "\n",
        "# Verify the change\n",
        "print(f\"Number of missing values in 'speaker' after update: {combined_df['speaker'].isna().sum()}\")\n",
        "print(combined_df[combined_df['speaker'].isna()].head())  # Display rows where 'speaker' is NaN\n"
      ],
      "metadata": {
        "id": "HvzGi_6y2Mg0",
        "colab": {
          "base_uri": "https://localhost:8080/"
        },
        "outputId": "5e6840b3-2ddb-44d9-e935-cc8880a4e515"
      },
      "execution_count": 198,
      "outputs": [
        {
          "output_type": "stream",
          "name": "stdout",
          "text": [
            "Number of missing values in 'speaker' after update: 11\n",
            "      knesset  session speaker party role  \\\n",
            "0         NaN      127    <NA>   NaN  NaN   \n",
            "2048      NaN      129    <NA>   NaN  NaN   \n",
            "4006      NaN      130    <NA>   NaN  NaN   \n",
            "4077      NaN      131    <NA>   NaN  NaN   \n",
            "4707      NaN      132    <NA>   NaN  NaN   \n",
            "\n",
            "                                                   text  \\\n",
            "0                         דברי הכנסתחוברת כ\"וישיבה קכ\"ז   \n",
            "2048  דברי הכנסתכז / מושב שני / ישיבות קכ\"ט–קל\"א /ט\"...   \n",
            "4006                       דברי הכנסתחוברת כ\"זישיבה ק\"ל   \n",
            "4077                      דברי הכנסתחוברת כ\"זישיבה קל\"א   \n",
            "4707  דברי הכנסתכח / מושב שני / ישיבות קל\"ב–קל\"ד /כ\"...   \n",
            "\n",
            "                           subject sub_subject  \n",
            "0     מסמכים שהונחו על שולחן הכנסת         NaN  \n",
            "2048  מסמכים שהונחו על שולחן הכנסת         NaN  \n",
            "4006  מסמכים שהונחו על שולחן הכנסת         NaN  \n",
            "4077                שאילתות דחופות         NaN  \n",
            "4707  מסמכים שהונחו על שולחן הכנסת         NaN  \n"
          ]
        }
      ]
    },
    {
      "cell_type": "code",
      "source": [
        "import numpy as np\n",
        "\n",
        "# Set the rows where 'speaker' is NaN to explicitly have 'NaN' (using numpy NaN)\n",
        "combined_df.loc[combined_df['speaker'].isna(), 'speaker'] = np.nan\n",
        "\n",
        "# Verify the change\n",
        "print(f\"Number of missing values in 'speaker' after update: {combined_df['speaker'].isna().sum()}\")\n",
        "print(combined_df[combined_df['speaker'].isna()].head())  # Display rows where 'speaker' is NaN\n"
      ],
      "metadata": {
        "id": "J2xF91Fh20hd",
        "colab": {
          "base_uri": "https://localhost:8080/"
        },
        "outputId": "192615aa-d7b3-4728-e12b-e4702ab4dd5b"
      },
      "execution_count": 199,
      "outputs": [
        {
          "output_type": "stream",
          "name": "stdout",
          "text": [
            "Number of missing values in 'speaker' after update: 11\n",
            "      knesset  session speaker party role  \\\n",
            "0         NaN      127     NaN   NaN  NaN   \n",
            "2048      NaN      129     NaN   NaN  NaN   \n",
            "4006      NaN      130     NaN   NaN  NaN   \n",
            "4077      NaN      131     NaN   NaN  NaN   \n",
            "4707      NaN      132     NaN   NaN  NaN   \n",
            "\n",
            "                                                   text  \\\n",
            "0                         דברי הכנסתחוברת כ\"וישיבה קכ\"ז   \n",
            "2048  דברי הכנסתכז / מושב שני / ישיבות קכ\"ט–קל\"א /ט\"...   \n",
            "4006                       דברי הכנסתחוברת כ\"זישיבה ק\"ל   \n",
            "4077                      דברי הכנסתחוברת כ\"זישיבה קל\"א   \n",
            "4707  דברי הכנסתכח / מושב שני / ישיבות קל\"ב–קל\"ד /כ\"...   \n",
            "\n",
            "                           subject sub_subject  \n",
            "0     מסמכים שהונחו על שולחן הכנסת         NaN  \n",
            "2048  מסמכים שהונחו על שולחן הכנסת         NaN  \n",
            "4006  מסמכים שהונחו על שולחן הכנסת         NaN  \n",
            "4077                שאילתות דחופות         NaN  \n",
            "4707  מסמכים שהונחו על שולחן הכנסת         NaN  \n"
          ]
        }
      ]
    },
    {
      "cell_type": "code",
      "source": [
        "# Count the number of NaN values in the 'speaker' column\n",
        "nan_count_in_speaker = combined_df['speaker'].isna().sum()\n",
        "\n",
        "# Print the result\n",
        "print(f\"Number of NaN values in the 'speaker' column: {nan_count_in_speaker}\")\n"
      ],
      "metadata": {
        "id": "3RwsqKtC3ARk",
        "colab": {
          "base_uri": "https://localhost:8080/"
        },
        "outputId": "52290819-bbd3-4e5f-fd90-2f6f88d42bfb"
      },
      "execution_count": 200,
      "outputs": [
        {
          "output_type": "stream",
          "name": "stdout",
          "text": [
            "Number of NaN values in the 'speaker' column: 11\n"
          ]
        }
      ]
    },
    {
      "cell_type": "code",
      "source": [
        "# Count rows where 'speaker' is NaN and 'party' is 'הליכוד'\n",
        "nan_speaker_likud = combined_df[(combined_df['speaker'].isna()) & (combined_df['party'] == 'הליכוד')]\n",
        "\n",
        "# Print the number of such rows\n",
        "print(f\"Number of rows with NaN in 'speaker' and 'הליכוד' in 'party': {nan_speaker_likud.shape[0]}\")"
      ],
      "metadata": {
        "id": "L9Ea9PK81-Hb",
        "colab": {
          "base_uri": "https://localhost:8080/"
        },
        "outputId": "ffd3860b-1511-4251-c4bb-f60c5e69d52e"
      },
      "execution_count": 201,
      "outputs": [
        {
          "output_type": "stream",
          "name": "stdout",
          "text": [
            "Number of rows with NaN in 'speaker' and 'הליכוד' in 'party': 0\n"
          ]
        }
      ]
    },
    {
      "cell_type": "code",
      "execution_count": 202,
      "metadata": {
        "id": "ocYcKe6TfKj_",
        "colab": {
          "base_uri": "https://localhost:8080/"
        },
        "outputId": "c0d7101a-fa62-4dd8-cd2f-a43cff1935a2"
      },
      "outputs": [
        {
          "output_type": "stream",
          "name": "stdout",
          "text": [
            "knesset        14418\n",
            "session            0\n",
            "speaker           11\n",
            "party           6990\n",
            "role            8087\n",
            "text               4\n",
            "subject            0\n",
            "sub_subject     5188\n",
            "dtype: int64\n"
          ]
        }
      ],
      "source": [
        "#How many missing in each coulmn\n",
        "print(combined_df.isna().sum())"
      ]
    },
    {
      "cell_type": "code",
      "execution_count": 203,
      "metadata": {
        "id": "yq1VUAI0fKj_",
        "colab": {
          "base_uri": "https://localhost:8080/"
        },
        "outputId": "a71b6410-0512-4f88-fdf3-1c9e78be10ef"
      },
      "outputs": [
        {
          "output_type": "execute_result",
          "data": {
            "text/plain": [
              "array([nan, 'ש\"ס', 'מרצ', 'יש עתיד', 'הציונות הדתית', 'הרשימה המשותפת',\n",
              "       'הליכוד', 'כחול לבן', 'יהדות התורה', 'ישראל ביתנו', 'תקווה חדשה',\n",
              "       'ימינה', 'העבודה', 'רע\"מ – רשימת האיחוד הערבי',\n",
              "       'בשם ועדת העבודה והרווחה', 'בשם ועדת הכנסת', \"פריג'\",\n",
              "       'בשם ועדת הכלכלה', 'בשם ועדת ביטחון הפנים'], dtype=object)"
            ]
          },
          "metadata": {},
          "execution_count": 203
        }
      ],
      "source": [
        "combined_df.party.unique()\n",
        "#one is called nan (probably a mistake or something we need to cleanup).\n",
        "#At the end, there are a list of parties which i am not sure what they are exactly, so we need to check that later using knesset website."
      ]
    },
    {
      "cell_type": "code",
      "execution_count": 204,
      "metadata": {
        "id": "8QWkVjosfKkA",
        "colab": {
          "base_uri": "https://localhost:8080/"
        },
        "outputId": "799e7a21-3dca-4c84-e9ee-1afddd9020c5"
      },
      "outputs": [
        {
          "output_type": "execute_result",
          "data": {
            "text/plain": [
              "array([127, 128, 129, 130, 131, 132, 133, 134, 135, 136, 137, 138, 139])"
            ]
          },
          "metadata": {},
          "execution_count": 204
        }
      ],
      "source": [
        "combined_df.session.unique()"
      ]
    },
    {
      "cell_type": "code",
      "execution_count": 205,
      "metadata": {
        "id": "BKqJZjjpfKkA",
        "colab": {
          "base_uri": "https://localhost:8080/"
        },
        "outputId": "7988a439-8838-4283-e639-bdf985b829ff"
      },
      "outputs": [
        {
          "output_type": "execute_result",
          "data": {
            "text/plain": [
              "array([nan, 'היו\"ר', 'מזכיר הכנסת', 'שר החקלאות ופיתוח הכפר',\n",
              "       'יו\"ר ועדת העבודה והרווחה', 'שרת הכלכלה והתעשייה',\n",
              "       'השר לפיתוח הפריפריה, הנגב והגליל', 'שר המשפטים', 'שר התקשורת',\n",
              "       'ראש הממשלה', 'שר הביטחון', 'שרת החינוך',\n",
              "       'השר המקשר בין הממשלה לבין הכנסת', 'יו\"ר ועדת הכנסת',\n",
              "       'סגן שרת הכלכלה והתעשייה', 'שר התיירות', 'שר הבריאות',\n",
              "       'סגן השר לביטחון הפנים', 'סגנית מזכיר הכנסת', 'סגן שר החוץ',\n",
              "       'שרת התחבורה והבטיחות בדרכים', 'יו\"ר', 'השר במשרד האוצר',\n",
              "       'סגן שר הביטחון', 'שרת האנרגיה', 'ראש', 'יו\"ר ועדת הכספים',\n",
              "       'שר הרווחה והביטחון החברתי', 'שר המודיעין', 'סגן השר לשירותי דת',\n",
              "       'שרת הפנים', 'עאידה', 'שר החוץ', 'השרה להגנת הסביבה', 'יו\"ר הכנסת',\n",
              "       'נשיאת הפרלמנט האירופי', 'יו\"ר ועדת החוץ והביטחון',\n",
              "       'שר לביטחון הפנים', 'שר הבינוי והשיכון', 'סגן שרת החינוך',\n",
              "       'שר התרבות והספורט', 'סגן שר במשרד ראש הממשלה',\n",
              "       'השרה לשוויון חברתי וגמלאים', 'השר לירושלים ומורשת',\n",
              "       'יו\"ר הוועדה המשותפת', 'שר התפוצות', 'שרת העלייה והקליטה',\n",
              "       'יו\"ר ועדת הבריאות'], dtype=object)"
            ]
          },
          "metadata": {},
          "execution_count": 205
        }
      ],
      "source": [
        "combined_df.role.unique()"
      ]
    },
    {
      "cell_type": "code",
      "execution_count": 206,
      "metadata": {
        "id": "s9Ao8v01fKkA",
        "colab": {
          "base_uri": "https://localhost:8080/"
        },
        "outputId": "30167690-622f-473b-88f5-1b1b08c5fc3c"
      },
      "outputs": [
        {
          "output_type": "execute_result",
          "data": {
            "text/plain": [
              "array([nan, 'מיקי לוי', 'דן מרזוק', 'אוריאל בוסו', 'מוסי רז',\n",
              "       'בועז טופורובסקי', 'אבי מעוז', 'עופר כסיף', 'משה אבוטבול',\n",
              "       'גבי לסקי', 'יולי יואל אדלשטיין', 'מופיד מרעי', 'אחמד טיבי',\n",
              "       'ישראל אייכלר', 'טטיאנה מזרסקי', 'יבגני סובה', 'צבי האוזר',\n",
              "       'ניר אורבך', 'גלעד קריב', 'עודד פורר', 'אפרת רייטן מרום',\n",
              "       'אורלי לוי אבקסיס', 'נעמה לזימי', 'דוד ביטן', 'אורי מקלב',\n",
              "       'יוסף טייב', 'אוסאמה סעדי', 'יעל רון בן משה', 'משה טור פז',\n",
              "       'אורנה ברביבאי', 'ענבר בזק', 'לימור מגן תלם', 'עלי סלאלחה',\n",
              "       'גדעון סער', 'יריב לוין', 'איתן גינזבורג', 'יעקב מרגי', 'רון כץ',\n",
              "       'יועז הנדל', 'שמחה רוטמן', 'יעקב אשר', 'אופיר אקוניס', 'נפתלי בנט',\n",
              "       'בנימין נתניהו', 'קריאה', 'קריאות', 'אופיר כץ', 'מירב בן ארי',\n",
              "       'דוד אמסלם', 'גלית דיסטל אטבריאן', 'שלמה קרעי', 'פטין מולא',\n",
              "       'אמיר אוחנה', 'מאי גולן', 'משה ארבל', \"בצלאל סמוטריץ'\",\n",
              "       'בנימין גנץ', 'איתמר בן גביר', 'עאידה תומא סלימאן', 'איימן עודה',\n",
              "       'יפעת שאשא ביטון', 'מירי מרים רגב', 'זאב אלקין', 'יואב קיש',\n",
              "       'ולדימיר בליאק', 'אלי כהן', 'אורית מלכה סטרוק', 'יאיר גולן',\n",
              "       'יואל רזבוזוב', 'שירלי פינטו קדוש', 'יסמין פרידמן', 'נירה שפק',\n",
              "       'ניצן הורוביץ', 'ינון אזולאי', 'משה גפני', 'יואב גלנט',\n",
              "       'חיים ביטון', 'מיכאל מלכיאלי', 'מיכל רוזין', 'סמי אבו שחאדה',\n",
              "       'אלי אבידר', \"אלינה ברדץ' יאלוב\", \"יואב סגלוביץ'\",\n",
              "       'דסטה גדי יברקן', 'יוסף שיין', 'אלינור ימין', 'ישראל כץ',\n",
              "       'יובל שטייניץ', 'קטי קטרין שטרית', 'ניר ברקת', 'עידן רול',\n",
              "       'יצחק פינדרוס', \"ג'ידא רינאוי זועבי\", 'אבי דיכטר', 'קרן ברק',\n",
              "       'מרב מיכאלי', 'מאיר פרוש', 'חמד עמאר', 'יואב בן צור', 'אלון שוסטר',\n",
              "       'עמיחי שיקלי', 'מיכל וולדיגר', 'רות וסרמן לנדה', 'קארין אלהרר',\n",
              "       'מתן כהנא', 'הממשלה נפתלי בנט', 'מיכל שיר סגמן', 'אלכס קושניר',\n",
              "       'מנסור עבאס', 'מאיר כהן', 'אלעזר שטרן', 'עידית סילמן',\n",
              "       'אמילי חיה מואטי', 'אופיר סופר', 'אילת שקד', 'חיים כץ',\n",
              "       'תומא סלימאן (הרשימה המשותפת)', 'יאיר לפיד', 'יוראי להב הרצנו',\n",
              "       'גילה גמליאל', \"אימאן ח'טיב יאסין\", 'רם שפע', 'חוה אתי עטייה',\n",
              "       'תמר זנדברג', 'מכלוף מיקי זוהר', 'יעקב ליצמן', 'רוברטה מטסולה',\n",
              "       'רם בן ברק', 'מיכאל מרדכי ביטון', 'אזורי עיסאווי',\n",
              "       'זאב בנימין בגין', 'עמר בר לב', 'מאיר יצחק הלוי', 'אבתיסאם מראענה',\n",
              "       'חילי טרופר', 'אביר קארה', 'שרן מרים השכל',\n",
              "       '<< קריאה >> מאיר פרוש', 'מירב כהן', 'ראדה חסייסי',\n",
              "       'סימון דוידסון', 'מאזן גנאים', 'נחמן שי', 'ווליד טאהא',\n",
              "       'יוליה מלינובסקי', 'יעקב טסלר', 'פנינה תמנו', 'צחי הנגבי'],\n",
              "      dtype=object)"
            ]
          },
          "metadata": {},
          "execution_count": 206
        }
      ],
      "source": [
        "combined_df.speaker.unique()"
      ]
    },
    {
      "cell_type": "code",
      "source": [
        "len(combined_df.speaker.unique())"
      ],
      "metadata": {
        "colab": {
          "base_uri": "https://localhost:8080/"
        },
        "id": "qsv-TNaHJC5j",
        "outputId": "2a723add-88b8-44a3-8fdf-53519a6e2d6c"
      },
      "execution_count": 207,
      "outputs": [
        {
          "output_type": "execute_result",
          "data": {
            "text/plain": [
              "148"
            ]
          },
          "metadata": {},
          "execution_count": 207
        }
      ]
    },
    {
      "cell_type": "markdown",
      "source": [
        "****צריכים להיות רק 120 חברי כנסת***"
      ],
      "metadata": {
        "id": "3QkCHVb8JZ8R"
      }
    },
    {
      "cell_type": "markdown",
      "metadata": {
        "id": "0k2ExOg9qHUC"
      },
      "source": [
        "You can see everything in the dataset is a string (object) and only one column is float64 (but this column is the same for all sessions because it is knesset 24)."
      ]
    },
    {
      "cell_type": "markdown",
      "metadata": {
        "id": "F0pSx6SiqW2t"
      },
      "source": [
        "Also there are important missing objects in column:  party, role, sub-subject\n",
        "And another missing objects in other columns : role, sub_subject, knesset\n",
        "\n",
        "No missing objects in columns: session, subject (subject might have strong relation with the text being said under a specific subject)"
      ]
    },
    {
      "cell_type": "markdown",
      "metadata": {
        "id": "Qu5KYf1mrQcA"
      },
      "source": [
        "In order to address the features or new features, they are all need to be numeric for the pair plot, so we can pick the relevant features (for linear regression, the first model, we should see a linear connection for example)."
      ]
    },
    {
      "cell_type": "markdown",
      "metadata": {
        "id": "6eL57DESrrNe"
      },
      "source": [
        "The target (label) y in this regression problem is \"Num_of_text_rows\" spoken by **any** of the הליכוד speakers, so we need a column that counts how many rows each unique speaker spoke at a **specific** session. (again a numeric column)\n",
        "\n",
        "the features X could be whatever we choose.\n",
        "possible features:\n",
        "\n",
        "1. לכל חבר כנסת יש דירוג מספרי במפלגה שלו אז חשבתי לשים בכל מפלגה את דירוג החבר ואולי הדירוג משפיע על כמה שאותו חבר כנסת מדבר.\n",
        "2. גודל המפלגה הוא כגודל המנדטים או כמות החברי כנסת במפלגה ובכל מקרה גם זה נומרי וגם זה יישתל בעמודה ניפרדת בהתאם למפלגה. ייתכן וזה משפיע מאוד על כמות הדיבור במליאה, כי גודל הזמן שניתן לדיבור במליאה הינו בקשר ישיר לגודל המפלגה, עפ\"י מה שכתוב באתר הכנסת.\n",
        "3. count לספור את מספר התווים בכל טקסט וכך בכל שורה יהיה נתון מספרי כמה החבר כנסת פותח את הפה. זה ייקח בחשבון כל תו כי יש טקסט שלפעמים אין בו כלום חוץ מסתם קיווקוו או רווח ויובל אמר שגם את זה אנו צריכים לספור.\n",
        "4. count vectorizer (bag of words) - למעשה זה כמו פיצ'ר 3 אבל כאן יש דגש על המילים שהכי נאמרות בקובץ טקסט וכמה מכל מילה כזו יש, צריך לקחת בחשבון שלמעשה זה יוצר המון עמודות וצריך להגביל את זה אחרת יש בעיה של n>>p.\n",
        "\n",
        "Imputing party in corrsepondance with speaker -\n",
        "We need to impute the right party to the right speaker and that is something i did, and still working on. this is super important because if there is even one additional note then the code will not manage to capture and impute the party for that speaker with the same name + diffrenet number of notes."
      ]
    },
    {
      "cell_type": "markdown",
      "metadata": {
        "id": "sIIeZRDHpqna"
      },
      "source": [
        "## Creating a dictionary of הליכוד roles per speaker חבר כנסת and imputing them to the role column. details were taken from אתר הכנסת"
      ]
    },
    {
      "cell_type": "code",
      "execution_count": 208,
      "metadata": {
        "id": "ilw3uQAYTkFZ"
      },
      "outputs": [],
      "source": [
        "# # Cleaned dictionary with correct syntax and no empty strings\n",
        "# dict_knesset_24 = {\n",
        "#     'יולי יואל אדלשטיין': 'יו\"ר ועדת חוץ וביטחון וחבר כנסת מטעם הליכוד',\n",
        "#     'אורלי לוי אבקסיס': 'חברת כנסת מטעם הליכוד',  # Provide a placeholder role if missing\n",
        "#     'יריב לוין': 'סגן ראש הממשלה שר המשפטים',\n",
        "#     'אופיר אקוניס': 'שר החדשנות המדע והטכנולוגיה',\n",
        "#     'בנימין נתניהו': 'ראש הממשלה',\n",
        "#     'אופיר כץ': 'חבר כנסת מטעם הליכוד',\n",
        "#     'דוד אמסלם': 'חבר כנסת מטעם הליכוד',  # Added a placeholder role\n",
        "#     'גלית דיסטל אטבריאן': 'חברת כנסת מטעם הליכוד',  # Added a placeholder role\n",
        "#     'שלמה קרעי': 'שר התקשורת',\n",
        "#     'פטין מולא': 'חבר כנסת מטעם הליכוד',  # Added a placeholder role\n",
        "#     'אמיר אוחנה': 'יושב–ראש הכנסת',\n",
        "#     'מאי גולן': 'חברת כנסת מטעם הליכוד',  # Added a placeholder role\n",
        "#     'מירי מרים רגב': 'שרת התחבורה והבטיחות בדרכים',\n",
        "#     'יואב קיש': 'שר החינוך, שיתוף פעולה אזורי והשר המקשר בין הממשלה לכנסת',\n",
        "#     'אלי כהן': 'שר האנרגיה והתשתיות',\n",
        "#     'יואב גלנט': 'שר הביטחון',  # Added a placeholder role\n",
        "#     'דסטה גדי יברקן': 'חבר כנסת מטעם הליכוד',  # Added a placeholder role\n",
        "#     'ישראל כץ': 'שר החוץ',\n",
        "#     'יובל שטייניץ': 'שר האוצר',  # Added a placeholder role\n",
        "#     'קטי קטרין שטרית': 'חברת כנסת מטעם הליכוד',  # Added a placeholder role\n",
        "#     'ניר ברקת': 'שר הכלכלה והתעשייה',\n",
        "#     'אבי דיכטר': 'שר החקלאות ופיתוח הכפר',\n",
        "#     'קרן ברק': 'חברת כנסת מטעם הליכוד',  # Added a placeholder role\n",
        "#     'דוד ביטן': 'יו\"ר ועדת הכלכלה',\n",
        "#     'חיים כץ': 'שר התיירות',\n",
        "#     'גילה גמליאל': 'שרת המודיעין',\n",
        "#     'חוה אתי עטייה': 'חברת כנסת מטעם הליכוד',  # Added a placeholder role\n",
        "#     'מכלוף מיקי זוהר': 'שר התרבות והספורט',\n",
        "#     'צחי הנגבי': 'שר לעניינים אסטרטגיים'\n",
        "# }\n",
        "\n",
        "# # Use the dictionary to fill the 'role' column for speakers with missing roles\n",
        "# combined_df.loc[:, 'role'] = combined_df.apply(\n",
        "#     lambda row: dict_knesset_24.get(row['speaker'], row['role']), axis=1\n",
        "# )\n",
        "\n",
        "# # Verify the change\n",
        "# print(combined_df.head())\n",
        "# print(f\"Number of missing roles: {combined_df['role'].isna().sum()}\")\n",
        "\n",
        "\n"
      ]
    },
    {
      "cell_type": "code",
      "execution_count": 209,
      "metadata": {
        "id": "gabPbDdcfKkC"
      },
      "outputs": [],
      "source": [
        "# # Display the speaker and role columns\n",
        "# speaker_role_result = combined_df[['speaker', 'role']]\n",
        "\n",
        "# # Show the first few rows to verify\n",
        "# speaker_role_result.head(10)"
      ]
    },
    {
      "cell_type": "code",
      "execution_count": 210,
      "metadata": {
        "id": "df-m1BtRT6w6"
      },
      "outputs": [],
      "source": [
        "\n",
        "# Count unique speaker-role pairs\n",
        "#unique_speaker_role_count = speaker_role_result.drop_duplicates()\n",
        "\n",
        "#unique_speaker_role_count"
      ]
    },
    {
      "cell_type": "code",
      "execution_count": 211,
      "metadata": {
        "id": "kgGOs1_tfKkC"
      },
      "outputs": [],
      "source": [
        "\n",
        "# Count unique speaker-role pairs\n",
        "#unique_speaker_role_count = speaker_role_result.drop_duplicates().shape[0]\n",
        "\n",
        "# Display the count\n",
        "#unique_speaker_role_count\n",
        "\n",
        "\n",
        "#So the imputation need to be for 173 pairs by speaker and role.\n",
        "#And those lucking a role need to be found."
      ]
    },
    {
      "cell_type": "code",
      "execution_count": 212,
      "metadata": {
        "id": "yR-tiRMCfKkC",
        "colab": {
          "base_uri": "https://localhost:8080/"
        },
        "outputId": "077791c4-2fa2-48ee-ad1a-a60739c19e54"
      },
      "outputs": [
        {
          "output_type": "stream",
          "name": "stdout",
          "text": [
            "<class 'pandas.core.frame.DataFrame'>\n",
            "RangeIndex: 14418 entries, 0 to 14417\n",
            "Data columns (total 8 columns):\n",
            " #   Column       Non-Null Count  Dtype  \n",
            "---  ------       --------------  -----  \n",
            " 0   knesset      0 non-null      float64\n",
            " 1   session      14418 non-null  int64  \n",
            " 2   speaker      14407 non-null  object \n",
            " 3   party        7428 non-null   object \n",
            " 4   role         6331 non-null   object \n",
            " 5   text         14414 non-null  object \n",
            " 6   subject      14418 non-null  object \n",
            " 7   sub_subject  9230 non-null   object \n",
            "dtypes: float64(1), int64(1), object(6)\n",
            "memory usage: 901.2+ KB\n"
          ]
        }
      ],
      "source": [
        "combined_df.info()"
      ]
    },
    {
      "cell_type": "code",
      "execution_count": 213,
      "metadata": {
        "id": "wVGhQHzXUWLZ"
      },
      "outputs": [],
      "source": [
        "# # Filter rows where 'role' is missing but 'speaker' is not null\n",
        "# missing_roles = combined_df[combined_df['role'].isna() & combined_df['speaker'].notna()]\n",
        "\n",
        "# # Display the rows with missing 'role'\n",
        "# print(\"Rows with missing 'role' for a valid 'speaker':\")\n",
        "# print(missing_roles)\n"
      ]
    },
    {
      "cell_type": "code",
      "execution_count": 214,
      "metadata": {
        "id": "xHqG48tWVcVi"
      },
      "outputs": [],
      "source": [
        "# # Find unique speakers where 'role' is missing\n",
        "# speakers_with_missing_roles = combined_df[combined_df['role'].isna() & combined_df['speaker'].notna()]['speaker'].unique()\n",
        "\n",
        "# # Display the unique speakers\n",
        "# print(\"Speakers with missing roles:\")\n",
        "# print(speakers_with_missing_roles)\n"
      ]
    },
    {
      "cell_type": "code",
      "execution_count": 215,
      "metadata": {
        "id": "K0USrjdxfKkC"
      },
      "outputs": [],
      "source": [
        "# # Count the number of unique speakers with missing roles\n",
        "# unique_speakers_count = len(speakers_with_missing_roles)\n",
        "\n",
        "# unique_speakers_count\n",
        "\n",
        "# #unique speakers with missing roles=86"
      ]
    },
    {
      "cell_type": "markdown",
      "source": [
        "# Provided likud speakers in the dataset"
      ],
      "metadata": {
        "id": "pUhYpfIn768P"
      }
    },
    {
      "cell_type": "code",
      "execution_count": 216,
      "metadata": {
        "id": "6x6dCQHPZsZC",
        "colab": {
          "base_uri": "https://localhost:8080/"
        },
        "outputId": "9a6b8ea0-4f27-429b-c3f2-7c1a5ad3a1b2"
      },
      "outputs": [
        {
          "output_type": "stream",
          "name": "stdout",
          "text": [
            "['יולי יואל אדלשטיין' 'אורלי לוי אבקסיס' 'יריב לוין' 'אופיר אקוניס'\n",
            " 'בנימין נתניהו' 'אופיר כץ' 'דוד אמסלם' 'גלית דיסטל אטבריאן' 'שלמה קרעי'\n",
            " 'פטין מולא' 'אמיר אוחנה' 'מאי גולן' 'מירי מרים רגב' 'יואב קיש' 'אלי כהן'\n",
            " 'יואב גלנט' 'דסטה גדי יברקן' 'ישראל כץ' 'יובל שטייניץ' 'קטי קטרין שטרית'\n",
            " 'ניר ברקת' 'אבי דיכטר' 'קרן ברק' 'דוד ביטן' 'חיים כץ' 'גילה גמליאל'\n",
            " 'חוה אתי עטייה' 'מכלוף מיקי זוהר' 'צחי הנגבי']\n",
            "Number of unique speakers in הליכוד: 29\n"
          ]
        }
      ],
      "source": [
        "# Step 1: Find the speakers that belong to 'הליכוד'\n",
        "likud_speakers = combined_df[combined_df['party'] == 'הליכוד']['speaker'].unique()\n",
        "print(likud_speakers)\n",
        "\n",
        "# Step 2: Count the number of unique speakers\n",
        "likud_speaker_count = len(likud_speakers)\n",
        "print(f\"Number of unique speakers in הליכוד: {likud_speaker_count}\")\n",
        "\n"
      ]
    },
    {
      "cell_type": "markdown",
      "source": [
        "# likud speakers that are missing in the dataset: {'אלי כהן', 'קטי קטרין שטרית'}\n",
        "\n"
      ],
      "metadata": {
        "id": "qxOdXGJx72Jq"
      }
    },
    {
      "cell_type": "code",
      "source": [
        "# Provided list of Likud speakers from knesset website (knesset 24)\n",
        "likud_speakers_provided = [\n",
        "    \"יולי יואל אדלשטיין\", \"אמיר אוחנה\", \"דוד אמסלם\", \"אופיר אקוניס\", \"דוד ביטן\",\n",
        "    \"קרן ברק\", \"ניר ברקת\", \"מאי גולן\", \"יואב גלנט\", \"גילה גמליאל\", \"אבי דיכטר\",\n",
        "    \"גלית דיסטל אטבריאן\", \"צחי הנגבי\", \"מכלוף מיקי זוהר\", \"דסטה גדי יברקן\",\n",
        "    \"אלי אליהו כהן\", \"אופיר כץ\", \"חיים כץ\", \"ישראל כץ\", \"אורלי לוי אבקסיס\",\n",
        "    \"יריב לוין\", \"פטין מולא\", \"בנימין נתניהו\", \"אופיר סופר\", \"חוה אתי עטייה\",\n",
        "    \"טלי פלוסקוב\", \"יואב קיש\", \"שלמה קרעי\", \"מירי מרים רגב\", \"יובל שטייניץ\",\n",
        "    \"קטי קטרין\"\n",
        "    ]\n",
        "\n",
        "# Assuming `likud_speakers` is the original list of Likud speakers from your dataset:\n",
        "# These are the speakers in the combined_data.csv.\n",
        "likud_speakers_dataset = [\n",
        "'יולי יואל אדלשטיין', 'אורלי לוי אבקסיס', 'יריב לוין', 'אופיר אקוניס',\n",
        " 'בנימין נתניהו', 'אופיר כץ', 'דוד אמסלם', 'גלית דיסטל אטבריאן', 'שלמה קרעי',\n",
        " 'פטין מולא', 'אמיר אוחנה', 'מאי גולן', 'מירי מרים רגב', 'יואב קיש', 'אלי כהן',\n",
        " 'יואב גלנט', 'דסטה גדי יברקן', 'ישראל כץ', 'יובל שטייניץ', 'קטי קטרין שטרית',\n",
        " 'ניר ברקת', 'אבי דיכטר', 'קרן ברק', 'דוד ביטן', 'חיים כץ', 'גילה גמליאל',\n",
        " 'חוה אתי עטייה', 'מכלוף מיקי זוהר', 'צחי הנגבי'\n",
        "]\n",
        "\n",
        "# Step 1: Count the number of unique speakers in the provided list\n",
        "provided_count = len(likud_speakers_provided)\n",
        "print(f\"Number of unique speakers in the provided list: {provided_count}\")\n",
        "\n",
        "# Step 2: Find missing speakers from the dataset-derived list\n",
        "missing_speakers = set(likud_speakers_dataset) - set(likud_speakers_provided)\n",
        "print(f\"Speakers in the dataset but not in the provided list: {missing_speakers}\")\n"
      ],
      "metadata": {
        "colab": {
          "base_uri": "https://localhost:8080/"
        },
        "id": "O02sPdLP6qiU",
        "outputId": "a4c9ff8e-7186-4868-feaf-44f636d9f4e5"
      },
      "execution_count": 217,
      "outputs": [
        {
          "output_type": "stream",
          "name": "stdout",
          "text": [
            "Number of unique speakers in the provided list: 31\n",
            "Speakers in the dataset but not in the provided list: {'אלי כהן', 'קטי קטרין שטרית'}\n"
          ]
        }
      ]
    },
    {
      "cell_type": "code",
      "source": [
        "# Step 1: Capture the original unique parties before any modifications\n",
        "original_parties = set(combined_df['party'].dropna().unique())  # Drop NaN to consider only valid parties\n",
        "\n",
        "# Step 2: Apply transformations to the DataFrame (imputation or corrections)\n",
        "# Updating the 'party' column based on the 'speaker' list\n",
        "combined_df.loc[combined_df['speaker'].isin(likud_speakers) & combined_df['party'].isna(), 'party'] = 'הליכוד'\n",
        "combined_df.loc[combined_df['speaker'].isin(likud_speakers) & (combined_df['party'] != 'הליכוד'), 'party'] = 'הליכוד'\n",
        "\n",
        "# Step 3: Capture the unique parties after the modifications\n",
        "updated_parties = set(combined_df['party'].dropna().unique())\n",
        "\n",
        "# Step 4: Calculate added and removed parties\n",
        "added_parties = updated_parties - original_parties\n",
        "removed_parties = original_parties - updated_parties\n",
        "\n",
        "# Step 5: Print the results\n",
        "print(f\"Number of parties added: {len(added_parties)}\")\n",
        "print(f\"Added parties: {added_parties}\")\n",
        "print(f\"Number of parties removed: {len(removed_parties)}\")\n",
        "print(f\"Removed parties: {removed_parties}\")\n"
      ],
      "metadata": {
        "colab": {
          "base_uri": "https://localhost:8080/"
        },
        "id": "MTs2Q-gi9X4W",
        "outputId": "f4927420-3cd7-4700-907a-3479bb5759dd"
      },
      "execution_count": 218,
      "outputs": [
        {
          "output_type": "stream",
          "name": "stdout",
          "text": [
            "Number of parties added: 0\n",
            "Added parties: set()\n",
            "Number of parties removed: 0\n",
            "Removed parties: set()\n"
          ]
        }
      ]
    },
    {
      "cell_type": "code",
      "source": [
        "combined_df.info()"
      ],
      "metadata": {
        "colab": {
          "base_uri": "https://localhost:8080/"
        },
        "id": "pGwOI-1Z90op",
        "outputId": "a6b784c3-f2d8-4cb2-f8d5-e8554047aa40"
      },
      "execution_count": 219,
      "outputs": [
        {
          "output_type": "stream",
          "name": "stdout",
          "text": [
            "<class 'pandas.core.frame.DataFrame'>\n",
            "RangeIndex: 14418 entries, 0 to 14417\n",
            "Data columns (total 8 columns):\n",
            " #   Column       Non-Null Count  Dtype  \n",
            "---  ------       --------------  -----  \n",
            " 0   knesset      0 non-null      float64\n",
            " 1   session      14418 non-null  int64  \n",
            " 2   speaker      14407 non-null  object \n",
            " 3   party        7701 non-null   object \n",
            " 4   role         6331 non-null   object \n",
            " 5   text         14414 non-null  object \n",
            " 6   subject      14418 non-null  object \n",
            " 7   sub_subject  9230 non-null   object \n",
            "dtypes: float64(1), int64(1), object(6)\n",
            "memory usage: 901.2+ KB\n"
          ]
        }
      ]
    },
    {
      "cell_type": "code",
      "execution_count": 220,
      "metadata": {
        "id": "kn0ihgVzfKkC",
        "colab": {
          "base_uri": "https://localhost:8080/"
        },
        "outputId": "d5110afd-5189-48ea-ac0a-586c18cd57e4"
      },
      "outputs": [
        {
          "output_type": "stream",
          "name": "stdout",
          "text": [
            "   knesset  session   speaker party         role  \\\n",
            "0      NaN      127       NaN   NaN          NaN   \n",
            "1      NaN      127  מיקי לוי   NaN        היו\"ר   \n",
            "2      NaN      127  דן מרזוק   NaN  מזכיר הכנסת   \n",
            "3      NaN      127  מיקי לוי   NaN        היו\"ר   \n",
            "4      NaN      127  מיקי לוי   NaN        היו\"ר   \n",
            "\n",
            "                                                text  \\\n",
            "0                      דברי הכנסתחוברת כ\"וישיבה קכ\"ז   \n",
            "1  חברי הכנסת, היום ט' באייר התשפ\"ב, 10 במאי 2022...   \n",
            "2  ברשות יושב-ראש הכנסת, אני מתכבד להודיעכם, כי ה...   \n",
            "3                                          תודה רבה.   \n",
            "4  חברי הכנסת שמעוניינים לנאום נאומים בני דקה, בב...   \n",
            "\n",
            "                        subject sub_subject  \n",
            "0  מסמכים שהונחו על שולחן הכנסת         NaN  \n",
            "1  מסמכים שהונחו על שולחן הכנסת         NaN  \n",
            "2  מסמכים שהונחו על שולחן הכנסת         NaN  \n",
            "3                נאומים בני דקה         NaN  \n",
            "4                נאומים בני דקה         NaN  \n"
          ]
        }
      ],
      "source": [
        "#ORIGINAL CODE** I used the code below instead******************\n",
        "# Step 1: Find the speakers that belong to 'הליכוד'\n",
        "likud_speakers = combined_df[combined_df['party'] == 'הליכוד']['speaker'].unique()\n",
        "\n",
        "# Step 2: Update the 'party' column for rows where the 'speaker' is in the list of 'הליכוד' speakers\n",
        "# and where the 'party' column is missing or incorrect\n",
        "combined_df.loc[combined_df['speaker'].isin(likud_speakers) & combined_df['party'].isna(), 'party'] = 'הליכוד'\n",
        "\n",
        "# Step 3: Check if there are any mistakes (incorrect party values for 'הליכוד' speakers)\n",
        "combined_df.loc[combined_df['speaker'].isin(likud_speakers) & (combined_df['party'] != 'הליכוד'), 'party'] = 'הליכוד'\n",
        "\n",
        "# Verify the change\n",
        "print(combined_df.head())\n",
        "\n",
        "#In this code these are the same number of changes in step 2 and 3. meannig they are the same  speakers in both stages.\n",
        "#So I created the code below with a condition in stage 3:\n",
        "\n",
        "##### Of course they are the same speakers of likud, but i was trying to impute the party for the speakers from likud\n",
        "##### who don't have a party\n",
        "##### and for those who have a mistake in the party (=different than likud) and to also change there to likud\n",
        "\n"
      ]
    },
    {
      "cell_type": "code",
      "source": [
        "print(set(df['party']) - set(combined_df['party']))  # Added parties\n",
        "print(set(combined_df['party']) - set(df['party']))  # Removed parties\n"
      ],
      "metadata": {
        "id": "XETQ8UuL8qp3"
      },
      "execution_count": null,
      "outputs": []
    },
    {
      "cell_type": "code",
      "execution_count": null,
      "metadata": {
        "id": "f6f0ZF0sfKkD"
      },
      "outputs": [],
      "source": [
        "#CORECTED CODE\n",
        "# Step 1: Find the speakers that belong to 'הליכוד'\n",
        "likud_speakers = combined_df[combined_df['party'] == 'הליכוד']['speaker'].unique()\n",
        "\n",
        "#checking stage 2\n",
        "# Count rows BEFORE the update\n",
        "before_update_count = combined_df.loc[combined_df['speaker'].isin(likud_speakers) & combined_df['party'].isna()].shape[0]\n",
        "\n",
        "# Update the 'party' column\n",
        "combined_df.loc[combined_df['speaker'].isin(likud_speakers) & combined_df['party'].isna(), 'party'] = 'הליכוד'\n",
        "\n",
        "# Count rows AFTER the update\n",
        "after_update_count = combined_df.loc[(combined_df['speaker'].isin(likud_speakers)) & (combined_df['party'] == 'הליכוד')].shape[0]\n",
        "\n",
        "# Display the number of rows that were updated\n",
        "updated_rows_count = after_update_count - before_update_count\n",
        "print(f\"Number of rows updated to 'הליכוד': {updated_rows_count}\")\n"
      ]
    },
    {
      "cell_type": "code",
      "execution_count": null,
      "metadata": {
        "id": "XmMDsr_KfKkD"
      },
      "outputs": [],
      "source": [
        "#Checking stage 3 WE NEED THIS CONDITION OTHERWISE WE GET THE SAME NUMBER OF UPDATED ROWS IN STAGE 3 THAT WERE ALREADY UPDATED IN STAGE 2\n",
        "# תנאי שלב 3 מתוקן\n",
        "step_3_condition = (\n",
        "    combined_df['speaker'].isin(likud_speakers) &\n",
        "    (combined_df['party'] != 'הליכוד') &\n",
        "    combined_df['party'].notna()  # לוודא שלא מדובר בשורות שעודכנו בשלב 2\n",
        ")\n",
        "\n",
        "# ספירת שורות בשלב 3 לאחר התיקון\n",
        "step_3_rows_fixed = combined_df.loc[step_3_condition]\n",
        "print(f\"שורות לעדכון בשלב 3 לאחר התיקון: {step_3_rows_fixed.shape[0]}\")\n",
        "\n",
        "# ביצוע עדכון שלב 3\n",
        "combined_df.loc[step_3_condition, 'party'] = 'הליכוד'\n",
        "\n",
        "\n",
        "\n"
      ]
    },
    {
      "cell_type": "code",
      "execution_count": null,
      "metadata": {
        "id": "enMrfM0paZ_7"
      },
      "outputs": [],
      "source": [
        "# Count the number of rows with 'nan' in the 'party' column\n",
        "combined_df['party'].isna().sum()\n"
      ]
    },
    {
      "cell_type": "markdown",
      "metadata": {
        "id": "wqsR0PTDvvzf"
      },
      "source": [
        "That is a list of speakers that don't have a role in the role column:"
      ]
    },
    {
      "cell_type": "code",
      "execution_count": null,
      "metadata": {
        "id": "Ub9aqXq3a9in"
      },
      "outputs": [],
      "source": [
        "# Filter the rows where 'role' is either nan or an empty string\n",
        "filtered_speakers = combined_df[combined_df['role'].isna() | (combined_df['role'] == '')]\n",
        "\n",
        "# Get the unique 'speaker' values from the filtered rows\n",
        "unique_speakers_with_no_role = filtered_speakers['speaker'].unique()\n",
        "\n",
        "# Print the unique speakers\n",
        "print(\"Unique speakers with no role (nan or empty):\")\n",
        "for speaker in unique_speakers_with_no_role:\n",
        "    print(speaker)\n"
      ]
    },
    {
      "cell_type": "code",
      "execution_count": null,
      "metadata": {
        "id": "TURlGMzIfKkD"
      },
      "outputs": [],
      "source": [
        "#how many\n",
        "len(speakers_with_missing_roles)\n"
      ]
    },
    {
      "cell_type": "markdown",
      "metadata": {
        "id": "u12yvFDFwZH4"
      },
      "source": [
        "In this list we see the speakers that have a party and which speaker is grouped in which party :"
      ]
    },
    {
      "cell_type": "code",
      "execution_count": null,
      "metadata": {
        "id": "1x-oQewQokNb"
      },
      "outputs": [],
      "source": [
        "# Group by 'party' and list the speakers associated with each party\n",
        "grouped_by_party = combined_df.groupby('party')['speaker'].apply(list).reset_index()\n",
        "\n",
        "# Display the grouped information\n",
        "print(grouped_by_party)\n"
      ]
    },
    {
      "cell_type": "markdown",
      "metadata": {
        "id": "hjRg8F8AwrQY"
      },
      "source": [
        "Again speakers grouped in parties but now the unique speakers, better visualization :"
      ]
    },
    {
      "cell_type": "code",
      "execution_count": null,
      "metadata": {
        "id": "E3tv6WjbpQSM"
      },
      "outputs": [],
      "source": [
        "# Group by 'party' and list unique speakers associated with each party\n",
        "grouped_by_party_unique = combined_df.groupby('party')['speaker'].apply(lambda x: list(set(x))).reset_index()\n",
        "\n",
        "# Display the grouped information with unique speakers\n",
        "print(grouped_by_party_unique)\n"
      ]
    },
    {
      "cell_type": "markdown",
      "metadata": {
        "id": "0VM0h3UtxEqT"
      },
      "source": [
        "## Creating a dictionary of speaker with their corresponding party to try and impute the parties, in order to reduce number of missing parties (again using knesset website)"
      ]
    },
    {
      "cell_type": "code",
      "execution_count": null,
      "metadata": {
        "id": "NU-DwYyLl9Pt"
      },
      "outputs": [],
      "source": [
        "import pandas as pd\n",
        "\n",
        "# DataFrame with columns ['Speaker', 'Party']\n",
        "# Create a dictionary manually for each speaker with their corresponding party\n",
        "speaker_to_party = {\n",
        "    'מיקי לוי': 'יש עתיד',\n",
        "    'יעקב אשר': 'יהדות התורה',\n",
        "    'דוד ביטן': 'הליכוד',\n",
        "    'איתן גינזבורג': 'כחול לבן',\n",
        "    'צבי האוזר': 'תקווה חדשה',\n",
        "    'אחמד טיבי': 'הרשימה המשותפת',\n",
        "    'אמילי מואטי': 'העבודה',\n",
        "    'יעקב מרגי': 'ש\"ס',\n",
        "    'יבגני סובה': 'ישראל ביתנו',\n",
        "    'מנסור עבאס': 'רע\"מ',\n",
        "    'זועבי': 'מרצ',\n",
        "    'ניר אורבך': 'ימינה',\n",
        "    'אלכס קושניר': 'ישראל ביתנו',\n",
        "    'מיכאל ביטון': 'כחול לבן',\n",
        "    'רם בן ברק': 'יש עתיד',\n",
        "    'סעיד אלחרומי': 'רע\"מ',\n",
        "    'וליד טאהא': 'רע\"מ',\n",
        "    'גלעד קריב': 'העבודה',\n",
        "    'שרן השכל': 'תקווה חדשה',\n",
        "    'אפרת רייטן': 'העבודה',\n",
        "    'עידית סילמן': 'ימינה',\n",
        "    'מירב בן-ארי': 'יש עתיד',\n",
        "    'יוליה מלינובסקי': 'ישראל ביתנו',\n",
        "    'עאידה תומה סלימאן': 'הרשימה המשותפת',\n",
        "    'מיכל שיר': 'תקווה חדשה',\n",
        "    'יעל רון בן משה': 'כחול לבן',\n",
        "    'מוסי רז': 'מרצ',\n",
        "    'רם שפע': 'העבודה',\n",
        "    'אבתיסאם מראענה': 'העבודה',\n",
        "    'יריב לוין': 'הליכוד',\n",
        "    'בועז טופורובסקי': 'יש עתיד',\n",
        "    'מיכאל מלכיאלי': 'ש\"ס',\n",
        "    'ישראל אייכלר': 'יהדות התורה',\n",
        "    'אורית סטרוק': 'הציונות הדתית',\n",
        "    'סאמי אבו שחאדה': 'הרשימה המשותפת',\n",
        "    'מיכל רוזין': 'מרצ',\n",
        "    'בנימין נתניהו': 'הליכוד'\n",
        "    # Add more speakers and their corresponding party information here\n",
        "}\n",
        "\n",
        "# Replace all 'Party' values using the 'Speaker' to 'Party' mapping\n",
        "combined_df['party'] = combined_df['speaker'].map(speaker_to_party)\n"
      ]
    },
    {
      "cell_type": "code",
      "execution_count": null,
      "metadata": {
        "id": "coAX1S6-mhj0"
      },
      "outputs": [],
      "source": [
        "print(combined_df.info())  #For some reason after your imputaion above we have less party count compared to the original party count in the start of the file, party was=7428  non-noul"
      ]
    },
    {
      "cell_type": "code",
      "execution_count": null,
      "metadata": {
        "id": "w7AzOYfKnniN"
      },
      "outputs": [],
      "source": [
        "# Count the number of missing values in the 'party' column\n",
        "missing_party_count = combined_df['party'].isna().sum()\n",
        "\n",
        "print(f\"Number of missing values in 'party': {missing_party_count}\")\n"
      ]
    },
    {
      "cell_type": "code",
      "execution_count": null,
      "metadata": {
        "id": "vedW4NeqrFC7"
      },
      "outputs": [],
      "source": [
        "# Impute 'party' based on 'speaker'\n",
        "combined_df['party'] = combined_df['party'].fillna(combined_df['speaker'].map(speaker_to_party))\n"
      ]
    },
    {
      "cell_type": "code",
      "execution_count": null,
      "metadata": {
        "id": "FY3IP5EPrLRy"
      },
      "outputs": [],
      "source": [
        "missing_parties = combined_df[combined_df['party'].isna()]\n",
        "print(missing_parties[['speaker', 'party']])\n"
      ]
    },
    {
      "cell_type": "markdown",
      "metadata": {
        "id": "lIsTkdKmoAg_"
      },
      "source": [
        "##These are the unique speakers that are still remained unmapped, look at the notes in some of their names:"
      ]
    },
    {
      "cell_type": "code",
      "execution_count": null,
      "metadata": {
        "id": "5RexEIXornFy"
      },
      "outputs": [],
      "source": [
        "# Check unique unmapped speakers\n",
        "unmapped_speakers = combined_df[combined_df['party'].isna() & combined_df['speaker'].notna()]['speaker'].unique()\n",
        "print(unmapped_speakers)\n"
      ]
    },
    {
      "cell_type": "markdown",
      "metadata": {
        "id": "9aGtGqupoZTh"
      },
      "source": [
        "Number of rows with missing party :"
      ]
    },
    {
      "cell_type": "code",
      "execution_count": null,
      "metadata": {
        "id": "v8myi9-isi6M"
      },
      "outputs": [],
      "source": [
        "# Count the number of missing values in the 'party' column\n",
        "missing_party_count = combined_df['party'].isna().sum()\n",
        "\n",
        "print(f\"Number of missing values in 'party': {missing_party_count}\")"
      ]
    },
    {
      "cell_type": "code",
      "source": [
        "import pandas as pd\n",
        "\n",
        "# Step 1: Define the speaker-to-party mapping\n",
        "speaker_to_party = {}\n",
        "\n",
        "# Add mappings for each party\n",
        "likud_speakers = [\n",
        "    \"יולי יואל אדלשטיין\", \"אמיר אוחנה\", \"דוד אמסלם\", \"אופיר אקוניס\", \"דוד ביטן\",\n",
        "    \"קרן ברק\", \"ניר ברקת\", \"מאי גולן\", \"יואב גלנט\", \"גילה גמליאל\", \"אבי דיכטר\",\n",
        "    \"גלית דיסטל אטבריאן\", \"צחי הנגבי\", \"מכלוף מיקי זוהר\", \"דסטה גדי יברקן\",\n",
        "    \"אלי אליהו כהן\", \"אופיר כץ\", \"חיים כץ\", \"ישראל כץ\", \"אורלי לוי אבקסיס\",\n",
        "    \"יריב לוין\", \"פטין מולא\", \"בנימין נתניהו\", \"אופיר סופר\", \"חוה אתי עטייה\",\n",
        "    \"טלי פלוסקוב\", \"יואב קיש\", \"שלמה קרעי\", \"מירי מרים רגב\", \"יובל שטייניץ\",\n",
        "    \"קטי קטרין\"\n",
        "]\n",
        "for speaker in likud_speakers:\n",
        "    speaker_to_party[speaker] = \"הליכוד\"\n",
        "#######################################################\n",
        "# Add mappings for other parties (shortened for brevity, use your full list)\n",
        "yesh_atid_speakers = [\"יאיר לפיד\", \"מירב כהן\", \"אורנה ברביבאי\"]\n",
        "for speaker in yesh_atid_speakers:\n",
        "    speaker_to_party[speaker] = \"יש עתיד\"\n",
        "#####################################################\n",
        "# Add Shas speakers to the mapping\n",
        "shas_speakers = [\n",
        "    \"משה אבוטבול\", \"ינון אזולאי\", \"משה ארבל\", \"אוריאל בוסו\", \"חיים ביטון\",\n",
        "    \"יואב בן צור\", \"אריה מכלוף דרעי\", \"יוסף טייב\", \"מיכאל מלכיאלי\", \"יעקב מרגי\"\n",
        "]\n",
        "\n",
        "# Assign \"ש\\\"ס\" to all these speakers\n",
        "for speaker in shas_speakers:\n",
        "    speaker_to_party[speaker] = \"ש\\\"ס\"\n",
        "####################################################\n",
        "# Add Blue and White speakers to the mapping\n",
        "blue_and_white_speakers = [\n",
        "    \"מיכאל מרדכי ביטון\", \"איתן גינזבורג\", \"בני גנץ\", \"רות וסרמן לנדה\",\n",
        "    \"אלון טל\", \"חילי טרופר\", \"מופיד מרעי\", \"אורית פרקש הכהן\",\n",
        "    \"יעל רון בן משה\", \"אלון שוסטר\", \"פנינה תמנו\"\n",
        "]\n",
        "\n",
        "# Assign \"כחול לבן\" to all these speakers\n",
        "for speaker in blue_and_white_speakers:\n",
        "    speaker_to_party[speaker] = \"כחול לבן\"\n",
        "#####################################################\n",
        "# Add יהדות התורה speakers to the mapping\n",
        "yahadut_hatora_speakers = [\n",
        "    \"ישראל אייכלר\",\n",
        "    \"יעקב אשר\",\n",
        "    \"אליהו ברוכי\",\n",
        "    \"משה גפני\",\n",
        "    \"יעקב טסלר\",\n",
        "    \"יעקב ליצמן\",\n",
        "    \"אורי מקלב\",\n",
        "   \"יצחק זאב פינדרוס\",\n",
        "   \"מאיר פרוש\"\n",
        "]\n",
        "\n",
        "# Assign \"יהדות התורה\" to all these speakers\n",
        "for speaker in yahadut_hatora_speakers:\n",
        "    speaker_to_party[speaker] = \"יהדות התורה\"\n",
        "#################################################\n",
        "# Add ימינה speakers to the mapping\n",
        "yamina_speakers = [\n",
        "      \"ניר אורבך\",\n",
        "      \"נפתלי בנט\",\n",
        "      \"מתן כהנא\",\n",
        "      \"יום טוב חי כלפון\",\n",
        "      \"עידית סילמן\",\n",
        "      \"שירלי פינטו קדוש\",\n",
        "      \"אביר קארה\",\n",
        "      \"עמיחי שיקלי\",\n",
        "      \"אילת שקד\"\n",
        "]\n",
        "\n",
        "# Assign \" ימינה\" to all these speakers\n",
        "for speaker in yamina_speakers:\n",
        "    speaker_to_party[speaker] = \"ימינה\"\n",
        "##################################################\n",
        "# Add הרשימה המשותפת speakers to the mapping\n",
        "hareshima_hameshutefet_speakers = [\n",
        "      \"סמי אבו שחאדה\",\n",
        "      \"אחמד טיבי\",\n",
        "      \"עופר כסיף\",\n",
        "      \"אוסאמה סעדי\",\n",
        "      \"איימן עודה\",\n",
        "      \"עאידה תומא סלימאן\"\n",
        "]\n",
        "\n",
        "# Assign \" הרשימה המשותפת\" to all these speakers\n",
        "for speaker in hareshima_hameshutefet_speakers:\n",
        "    speaker_to_party[speaker] = \"הרשימה המשותפת\"\n",
        "####################################################\n",
        "# Add  מרצ speakers to the mapping\n",
        "meretz_speakers = [\n",
        "      \"יאיר גולן\",\n",
        "      \"ניצן הורוביץ\",\n",
        "      \"תמר זנדברג\",\n",
        "      \"גבי לסקי\",\n",
        "      \"עלי סלאלחה\",\n",
        "      \"'/עיסאווי פריג\",\n",
        "      \"מיכל רוזין\",\n",
        "      \"מוסי רז\",\n",
        "ג'/ידא רינאוי זועבי\n",
        "# Assign \"  מרצ\" to all these speakers\n",
        "for speaker in meretz_speakers:\n",
        "    speaker_to_party[speaker] =  \"מרצ\"\n",
        "###################################################\n",
        "# Add  הציונות הדתית speakers to the mapping\n",
        "hazionut_hadatit_speakers = [\n",
        "      \"איתמר בן גביר\",\n",
        "      \"מיכל מרים וולדיגר\",\n",
        "      \"אבי מעוז\",\n",
        "      \"אופיר סופר\",\n",
        "      \"אורית סטרוק\",\n",
        "      \"'/בצלאל סמוטריץ\",\n",
        "      \"שמחה רוטמן\"\n",
        "]\n",
        "\n",
        "# Assign \"  הציונות הדתית\" to all these speakers\n",
        "for speaker in hazionut_hadatit_speakers:\n",
        "    speaker_to_party[speaker] =  \"הציונות הדתית\"\n",
        "##################################################\n",
        "# Add תקווה חדשה Speakers to the mapping\n",
        "tikva_hadasha_speakers = [\n",
        "\n",
        "        \"זאב אלקין\",\n",
        "        \"זאב בנימין בגין\",\n",
        "        \"מישל בוסקילה\",\n",
        "        \"צבי האוזר\",\n",
        "        \"יועז הנדל\",\n",
        "        \"שרן מרים השכל\",\n",
        "        \"מאיר יצחק-הלוי\",\n",
        "        \"גדעון סער\",\n",
        "        \"יפעת שאשא ביטון\",\n",
        "        \"מיכל שיר סגמן\"\n",
        "]\n",
        "\n",
        "# Assign \"  תקווה חדשה\" to all these speakers\n",
        "for speaker in tikva_hadasha_speakers:\n",
        "    speaker_to_party[speaker] =  \"תקווה חדשה\"\n",
        "###################################################\n",
        "# Add S הרשימה הערבית המאוחדת  speakers to the mapping\n",
        "hareshima_haaravit_speakers = [\n",
        "\n",
        "        \" סעיד אלחרומי\",\n",
        "        \"מאזן גנאים\",\n",
        "        \"אימאן חטיב יאסין\",\n",
        "        \"ווליד טאהא\",\n",
        "        \"מנסור עבאס\",\n",
        "]\n",
        "\n",
        "# Assign \"  הרשימה הערבית המאוחדת \"\" to all these speakers\n",
        "for speaker in hareshima_haaravit_speakers:\n",
        "    speaker_to_party[speaker] =  \"הרשימה הערבית המאוחדת\"\n",
        "#################################################\n",
        "# Step 2: Define the pipeline\n",
        "def preprocess_data(df):\n",
        "    \"\"\"\n",
        "    Preprocess the DataFrame to impute missing parties and compute party_row_count.\n",
        "    \"\"\"\n",
        "    # Impute missing parties based on the speaker name\n",
        "    df['party'] = df.apply(\n",
        "        lambda row: speaker_to_party.get(row['speaker'], row['party']),\n",
        "        axis=1\n",
        "    )\n",
        "\n",
        "    # Recompute party_row_count\n",
        "    party_counts = (\n",
        "        df.groupby(['session', 'party'])\n",
        "        .size()\n",
        "        .reset_index(name='party_row_count')\n",
        "    )\n",
        "    df = df.merge(party_counts, on=['session', 'party'], how='left')\n",
        "\n",
        "    return df\n",
        "\n",
        "df = pd.DataFrame(combined_df)\n",
        "\n",
        "# Process the data\n",
        "processed_combined_df = preprocess_data(df)\n",
        "\n",
        "# Display the result\n",
        "print(processed_combined_df)\n"
      ],
      "metadata": {
        "id": "aVBpFGNSE7F8"
      },
      "execution_count": null,
      "outputs": []
    },
    {
      "cell_type": "code",
      "source": [
        "processed_combined_df.head(20)"
      ],
      "metadata": {
        "id": "HrvBlbhaGphR"
      },
      "execution_count": null,
      "outputs": []
    },
    {
      "cell_type": "code",
      "source": [
        "processed_combined_df.info()"
      ],
      "metadata": {
        "id": "7u9tC7vOF3hb"
      },
      "execution_count": null,
      "outputs": []
    },
    {
      "cell_type": "code",
      "source": [
        "def preprocess_data(df):\n",
        "    \"\"\"\n",
        "    Preprocess the DataFrame to impute missing parties and compute party_row_count.\n",
        "    \"\"\"\n",
        "    # Ensure the DataFrame contains the necessary columns\n",
        "    required_columns = {'speaker', 'party', 'session'}\n",
        "    if not required_columns.issubset(df.columns):\n",
        "        raise ValueError(f\"DataFrame must contain columns: {required_columns}\")\n",
        "\n",
        "    # Impute missing 'party' values based on the speaker name\n",
        "    df['party'] = df.apply(\n",
        "        lambda row: speaker_to_party.get(row['speaker'], row['party']),\n",
        "        axis=1\n",
        "    )\n",
        "\n",
        "    # Compute party_row_count for each combination of session and party\n",
        "    party_counts = (\n",
        "        df.groupby(['session', 'party'])\n",
        "        .size()\n",
        "        .reset_index(name='party_row_count')\n",
        "    )\n",
        "\n",
        "    # Merge the computed counts back into the original DataFrame\n",
        "    df = df.merge(party_counts, on=['session', 'party'], how='left')\n",
        "\n",
        "    return df\n"
      ],
      "metadata": {
        "id": "czww1l5KHFCJ"
      },
      "execution_count": null,
      "outputs": []
    },
    {
      "cell_type": "code",
      "source": [
        "processed_combined_df = preprocess_data(combined_df)\n",
        "print(processed_combined_df)"
      ],
      "metadata": {
        "id": "JN5GMdMEHQfh"
      },
      "execution_count": null,
      "outputs": []
    },
    {
      "cell_type": "markdown",
      "metadata": {
        "id": "6Q0n_qiHoko0"
      },
      "source": [
        "##These are the mapping of the speakers from הליכוד : (based on knesset website, knesset 24)\n"
      ]
    },
    {
      "cell_type": "code",
      "execution_count": null,
      "metadata": {
        "id": "jS9V07XF6Knq"
      },
      "outputs": [],
      "source": [
        "# Add Likud speakers to the mapping\n",
        "likud_speakers = [\n",
        "    \"יולי יואל אדלשטיין\", \"אמיר אוחנה\", \"דוד אמסלם\", \"אופיר אקוניס\", \"דוד ביטן\",\n",
        "    \"קרן ברק\", \"ניר ברקת\", \"מאי גולן\", \"יואב גלנט\", \"גילה גמליאל\", \"אבי דיכטר\",\n",
        "    \"גלית דיסטל אטבריאן\", \"צחי הנגבי\", \"מכלוף מיקי זוהר\", \"דסטה גדי יברקן\",\n",
        "    \"אלי אליהו כהן\", \"אופיר כץ\", \"חיים כץ\", \"ישראל כץ\", \"אורלי לוי אבקסיס\",\n",
        "    \"יריב לוין\", \"פטין מולא\", \"בנימין נתניהו\", \"אופיר סופר\", \"חוה אתי עטייה\",\n",
        "    \"טלי פלוסקוב\", \"יואב קיש\", \"שלמה קרעי\", \"מירי מרים רגב\", \"יובל שטייניץ\",\n",
        "    \"קטי קטרין\"\n",
        "]\n",
        "\n",
        "# Assign \"הליכוד\" to all these speakers\n",
        "for speaker in likud_speakers:\n",
        "    speaker_to_party[speaker] = \"הליכוד\"\n"
      ]
    },
    {
      "cell_type": "markdown",
      "metadata": {
        "id": "BoK7VtLgo0WB"
      },
      "source": [
        "##These are the mapping of the speakers from יש עתיד : (based on knesset website, knesset 24)"
      ]
    },
    {
      "cell_type": "code",
      "execution_count": null,
      "metadata": {
        "id": "BRo3cIpK6dPw"
      },
      "outputs": [],
      "source": [
        "# Add Yesh Atid speakers to the mapping\n",
        "yesh_atid_speakers = [\n",
        "    \"קארין אלהרר\", \"ענבר בזק\", \"ולדימיר בליאק\", \"מירב בן ארי\", \"רם בן ברק\",\n",
        "    \"אורנה ברביבאי\", \"סימון דוידסון\", \"בועז טופורובסקי\", \"משה טור פז\", \"מאיר כהן\",\n",
        "    \"מירב כהן\", \"רון כץ\", \"יוראי להב הרצנו\", \"מיקי לוי\", \"יאיר לפיד\",\n",
        "    \"טטיאנה מזרסקי\", \"יואב סגלוביץ\", \"יסמין פרידמן\", \"עידן רול\",\n",
        "    \"יואל רזבוזוב\", \"אלעזר שטרן\", \"נירה שפק\"\n",
        "]\n",
        "\n",
        "# Assign \"יש עתיד\" to all these speakers\n",
        "for speaker in yesh_atid_speakers:\n",
        "    speaker_to_party[speaker] = \"יש עתיד\"\n"
      ]
    },
    {
      "cell_type": "markdown",
      "metadata": {
        "id": "Ilkb1qcHo52e"
      },
      "source": [
        "##These are the mapping of the speakers from ש\"ס: (based on knesset website, knesset 24)"
      ]
    },
    {
      "cell_type": "code",
      "execution_count": null,
      "metadata": {
        "id": "qQsI-0og6eZo"
      },
      "outputs": [],
      "source": [
        "# Add Shas speakers to the mapping\n",
        "shas_speakers = [\n",
        "    \"משה אבוטבול\", \"ינון אזולאי\", \"משה ארבל\", \"אוריאל בוסו\", \"חיים ביטון\",\n",
        "    \"יואב בן צור\", \"אריה מכלוף דרעי\", \"יוסף טייב\", \"מיכאל מלכיאלי\", \"יעקב מרגי\"\n",
        "]\n",
        "\n",
        "# Assign \"ש\\\"ס\" to all these speakers\n",
        "for speaker in shas_speakers:\n",
        "    speaker_to_party[speaker] = \"ש\\\"ס\"\n"
      ]
    },
    {
      "cell_type": "markdown",
      "metadata": {
        "id": "I1LFsQsGo_WX"
      },
      "source": [
        "##These are the mapping of the speakers from כחול לבן : (based on knesset website, knesset 24)"
      ]
    },
    {
      "cell_type": "code",
      "execution_count": null,
      "metadata": {
        "id": "aBlMzR2W6jvD"
      },
      "outputs": [],
      "source": [
        "# Add Blue and White speakers to the mapping\n",
        "blue_and_white_speakers = [\n",
        "    \"מיכאל מרדכי ביטון\", \"איתן גינזבורג\", \"בני גנץ\", \"רות וסרמן לנדה\",\n",
        "    \"אלון טל\", \"חילי טרופר\", \"מופיד מרעי\", \"אורית פרקש הכהן\",\n",
        "    \"יעל רון בן משה\", \"אלון שוסטר\", \"פנינה תמנו\"\n",
        "]\n",
        "\n",
        "# Assign \"כחול לבן\" to all these speakers\n",
        "for speaker in blue_and_white_speakers:\n",
        "    speaker_to_party[speaker] = \"כחול לבן\"\n"
      ]
    },
    {
      "cell_type": "markdown",
      "metadata": {
        "id": "GG3Z_RivpHqA"
      },
      "source": [
        "##These are the mapping of the speakers from יהדות התורה: (based on knesset website, knesset 24)"
      ]
    },
    {
      "cell_type": "code",
      "execution_count": null,
      "metadata": {
        "id": "FUqS1Ni_6oH5"
      },
      "outputs": [],
      "source": [
        "# Add יהדות התורה speakers to the mapping\n",
        "yahadut_hatora_speakers = [\n",
        "    \"ישראל אייכלר\",\n",
        "    \"יעקב אשר\",\n",
        "    \"אליהו ברוכי\",\n",
        "    \"משה גפני\",\n",
        "    \"יעקב טסלר\",\n",
        "    \"יעקב ליצמן\",\n",
        "    \"אורי מקלב\",\n",
        "   \"יצחק זאב פינדרוס\",\n",
        "   \"מאיר פרוש\"\n",
        "]\n",
        "\n",
        "# Assign \"יהדות התורה\" to all these speakers\n",
        "for speaker in yahadut_hatora_speakers:\n",
        "    speaker_to_party[speaker] = \"יהדות התורה\""
      ]
    },
    {
      "cell_type": "markdown",
      "metadata": {
        "id": "MrcK1F0GpLEX"
      },
      "source": [
        "##These are the mapping of the speakers from ימינה : (based on knesset website, knesset 24)"
      ]
    },
    {
      "cell_type": "code",
      "execution_count": null,
      "metadata": {
        "id": "oaPBFvtd7XDG"
      },
      "outputs": [],
      "source": [
        "# Add ימינה speakers to the mapping\n",
        "yamina_speakers = [\n",
        "      \"ניר אורבך\",\n",
        "      \"נפתלי בנט\",\n",
        "      \"מתן כהנא\",\n",
        "      \"יום טוב חי כלפון\",\n",
        "      \"עידית סילמן\",\n",
        "      \"שירלי פינטו קדוש\",\n",
        "      \"אביר קארה\",\n",
        "      \"עמיחי שיקלי\",\n",
        "      \"אילת שקד\"\n",
        "]\n",
        "\n",
        "# Assign \" ימינה\" to all these speakers\n",
        "for speaker in yamina_speakers:\n",
        "    speaker_to_party[speaker] = \"ימינה\"\n"
      ]
    },
    {
      "cell_type": "markdown",
      "metadata": {
        "id": "ITDF2eADpUQE"
      },
      "source": [
        "##These are the mapping of the speakers from הרשימה המשותפת : (based on knesset website, knesset 24)"
      ]
    },
    {
      "cell_type": "code",
      "execution_count": null,
      "metadata": {
        "id": "0-EzNW0A8VXc"
      },
      "outputs": [],
      "source": [
        "# Add הרשימה המשותפת speakers to the mapping\n",
        "hareshima_hameshutefet_speakers = [\n",
        "      \"סמי אבו שחאדה\",\n",
        "      \"אחמד טיבי\",\n",
        "      \"עופר כסיף\",\n",
        "      \"אוסאמה סעדי\",\n",
        "      \"איימן עודה\",\n",
        "      \"עאידה תומא סלימאן\"\n",
        "]\n",
        "\n",
        "# Assign \" הרשימה המשותפת\" to all these speakers\n",
        "for speaker in hareshima_hameshutefet_speakers:\n",
        "    speaker_to_party[speaker] = \"הרשימה המשותפת\""
      ]
    },
    {
      "cell_type": "markdown",
      "metadata": {
        "id": "ZNc-HoPCpYHb"
      },
      "source": [
        "##These are the mapping of the speakers from מרצ : (based on knesset website, knesset 24)"
      ]
    },
    {
      "cell_type": "code",
      "execution_count": null,
      "metadata": {
        "id": "LsQlDxV-9HGP"
      },
      "outputs": [],
      "source": [
        "# Add  מרצ speakers to the mapping\n",
        "meretz_speakers = [\n",
        "      \"יאיר גולן\",\n",
        "      \"ניצן הורוביץ\",\n",
        "      \"תמר זנדברג\",\n",
        "      \"גבי לסקי\",\n",
        "      \"עלי סלאלחה\",\n",
        "      \"'/עיסאווי פריג\",\n",
        "      \"מיכל רוזין\",\n",
        "      \"מוסי רז\",\n",
        "      \"ג/'ידא רינאוי זועבי\"\n",
        "]\n",
        "\n",
        "# Assign \"  מרצ\" to all these speakers\n",
        "for speaker in meretz_speakers:\n",
        "    speaker_to_party[speaker] =  \"מרצ\""
      ]
    },
    {
      "cell_type": "code",
      "execution_count": null,
      "metadata": {
        "id": "TnrUlQME-n_T"
      },
      "outputs": [],
      "source": [
        "# Add  הציונות הדתית speakers to the mapping\n",
        "hazionut_hadatit_speakers = [\n",
        "      \"איתמר בן גביר\",\n",
        "      \"מיכל מרים וולדיגר\",\n",
        "      \"אבי מעוז\",\n",
        "      \"אופיר סופר\",\n",
        "      \"אורית סטרוק\",\n",
        "      \"'/בצלאל סמוטריץ\",\n",
        "      \"שמחה רוטמן\"\n",
        "]\n",
        "\n",
        "# Assign \"  הציונות הדתית\" to all these speakers\n",
        "for speaker in hazionut_hadatit_speakers:\n",
        "    speaker_to_party[speaker] =  \"הציונות הדתית\""
      ]
    },
    {
      "cell_type": "markdown",
      "metadata": {
        "id": "TC-R5R0SpcIF"
      },
      "source": [
        "##These are the mapping of the speakers from תקווה חדשה : (based on knesset website, knesset 24)"
      ]
    },
    {
      "cell_type": "code",
      "execution_count": null,
      "metadata": {
        "id": "PWkGwxWB_e2w"
      },
      "outputs": [],
      "source": [
        "# Add תקווה חדשה Speakers to the mapping\n",
        "tikva_hadasha_speakers = [\n",
        "\n",
        "        \"זאב אלקין\",\n",
        "        \"זאב בנימין בגין\",\n",
        "        \"מישל בוסקילה\",\n",
        "        \"צבי האוזר\",\n",
        "        \"יועז הנדל\",\n",
        "        \"שרן מרים השכל\",\n",
        "        \"מאיר יצחק-הלוי\",\n",
        "        \"גדעון סער\",\n",
        "        \"יפעת שאשא ביטון\",\n",
        "        \"מיכל שיר סגמן\"\n",
        "]\n",
        "\n",
        "# Assign \"  הציונות הדתית\" to all these speakers\n",
        "for speaker in tikva_hadasha_speakers:\n",
        "    speaker_to_party[speaker] =  \"תקווה חדשה\""
      ]
    },
    {
      "cell_type": "markdown",
      "metadata": {
        "id": "Dku3Gaqqpes5"
      },
      "source": [
        "##These are the mapping of the speakers from הרשימה הערבית המאוחדת : (based on knesset website, knesset 24)"
      ]
    },
    {
      "cell_type": "code",
      "execution_count": null,
      "metadata": {
        "id": "WH9AbkFvAbJW"
      },
      "outputs": [],
      "source": [
        "# Add S הרשימה הערבית המאוחדת  speakers to the mapping\n",
        "hareshima_haaravit_speakers = [\n",
        "\n",
        "        \" סעיד אלחרומי\",\n",
        "        \"מאזן גנאים\",\n",
        "        \"אימאן חטיב יאסין\",\n",
        "        \"ווליד טאהא\",\n",
        "        \"מנסור עבאס\",\n",
        "]\n",
        "\n",
        "# Assign \"  הרשימה הערבית המאוחדת \"\" to all these speakers\n",
        "for speaker in hareshima_haaravit_speakers:\n",
        "    speaker_to_party[speaker] =  \"הרשימה הערבית המאוחדת\""
      ]
    },
    {
      "cell_type": "code",
      "execution_count": null,
      "metadata": {
        "id": "AJbhRvFRA9G2"
      },
      "outputs": [],
      "source": [
        "combined_df['party'] = combined_df['party'].fillna(combined_df['speaker'].map(speaker_to_party))\n"
      ]
    },
    {
      "cell_type": "code",
      "execution_count": null,
      "metadata": {
        "id": "aBmOa0n4B6cq"
      },
      "outputs": [],
      "source": [
        "# Update the party mapping for the remaining speakers\n",
        "remaining_speakers_to_party = {\n",
        "    \"תומא סלימאן (הרשימה המשותפת)\": \"הרשימה המשותפת\",\n",
        "    \"בצלאל סמוטריץ'\": \"הציונות הדתית\",  # Add other parties as needed\n",
        "    \"בנימין גנץ\": \"כחול לבן\",\n",
        "    \"ישראל אייכלר\": \"יהדות התורה\",\n",
        "    \"מאיר פרוש\": \"יהדות התורה\",\n",
        "    \"ראדה חסייסי\": \"הרשימה המשותפת\",\n",
        "    # Add other mappings as needed\n",
        "}\n",
        "\n",
        "# Apply the updated mapping\n",
        "for speaker, party in remaining_speakers_to_party.items():\n",
        "    speaker_to_party[speaker] = party\n"
      ]
    },
    {
      "cell_type": "code",
      "execution_count": null,
      "metadata": {
        "id": "oL_Z8-ehCGe1"
      },
      "outputs": [],
      "source": [
        "combined_df['party'] = combined_df['party'].fillna(combined_df['speaker'].map(speaker_to_party))"
      ]
    },
    {
      "cell_type": "code",
      "execution_count": null,
      "metadata": {
        "id": "GsUYHSmbfKkK"
      },
      "outputs": [],
      "source": [
        "combined_df['party'].info()"
      ]
    },
    {
      "cell_type": "code",
      "execution_count": null,
      "metadata": {
        "id": "R0ds8idufKkK"
      },
      "outputs": [],
      "source": [
        "#i want to see all mising speakers:\n",
        "# Ensure all rows are displayed in the console\n",
        "import pandas as pd\n",
        "pd.set_option('display.max_rows', None)  # Remove row limit\n",
        "pd.set_option('display.max_columns', None)  # Remove column limit for wide DataFrames\n",
        "\n",
        "# Filter and display the remaining rows with missing 'party'\n",
        "remaining_missing = combined_df[combined_df['party'].isna()]\n",
        "print(remaining_missing[['speaker', 'party']].drop_duplicates())\n",
        "\n",
        "# Optional: Reset display options after printing\n",
        "pd.reset_option('display.max_rows')\n",
        "pd.reset_option('display.max_columns')\n"
      ]
    },
    {
      "cell_type": "code",
      "execution_count": null,
      "metadata": {
        "id": "_y9i9_v4fKkL"
      },
      "outputs": [],
      "source": [
        "# Code before stopping #it doesnt really stop when i use run all\n",
        "print(\"This will run\")\n",
        "\n",
        "# Add a manual breakpoint\n",
        "breakpoint()  # Stops here in debugging mode\n",
        "\n",
        "# Code after stopping\n",
        "print(\"This will not run until you continue debugging\")\n"
      ]
    },
    {
      "cell_type": "code",
      "execution_count": null,
      "metadata": {
        "id": "ftJl3AiNfKkL"
      },
      "outputs": [],
      "source": [
        "#when I try to run this the party count changes bakwords\n",
        "#maybe not use it-but the informatio is important\n",
        "\n",
        "\n",
        "#Filling the rEMINING SPEAKERS WITHOUT PARTIES:\n",
        "# I have some notes for some of the NA speakers that we can drop, they dont belong to any party\n",
        "\n",
        "\n",
        "# Create a dictionary manually for each speaker with their corresponding party\n",
        "speaker_to_party = {\n",
        "    'דן מרזוק': 'NA',          #He is secretery of the knesset, doesnt belongs to any party\n",
        "    'עופר כסיף': 'חד\"ש',\n",
        "    'עודד פורר': 'ישראל ביתנו',\n",
        "    'רון כץ': 'יש עתיד',\n",
        "    'יועז הנדל': 'תקווה חדשה',\n",
        "    'שמחה רוטמן': 'הציונות הדתית',\n",
        "    'אופיר אקוניס': 'הליכוד',\n",
        "    'אוריאל בוסו': 'ש\"ס',\n",
        "    'נפתלי בנט': 'ימינה',\n",
        "    'קריאה': 'NA',       # need to drop this value\n",
        "    'קריאות': 'NA',       # need to drop this value\n",
        "    'אופיר כץ': 'הליכוד',\n",
        "    'מירב בן ארי': 'יש עתיד',\n",
        "    'דוד אמסלם': 'הליכוד',\n",
        "    'גלית דיסטל אטבריאן': 'הליכוד',\n",
        "    'שלמה קרעי': 'הליכוד',\n",
        "    'פטין מולא': 'הליכוד',\n",
        "    'אמיר אוחנה': 'הליכוד',\n",
        "    'מאי גולן': 'הליכוד',\n",
        "    'משה ארבל': 'ש\"ס',        #is it ok the ש\"ס is written like this?\n",
        "    'בצלאל סמוטריץ\\'': 'הציונות הדתית',\n",
        "    'משה אבוטבול': 'ש\"ס',\n",
        "    'גדעון סער': 'תקווה חדשה',\n",
        "    'בנימין גנץ': 'כחול לבן',\n",
        "    'איתמר בן גביר': 'עוצמה יהודית',\n",
        "    'עאידה תומא סלימאן': 'חד\"ש',\n",
        "    'איימן עודה': 'חד\"ש',\n",
        "    'יפעת שאשא ביטון': 'תקווה חדשה',\n",
        "    'מירי מרים רגב': 'הליכוד',\n",
        "    'זאב אלקין': 'תקווה חדשה',\n",
        "    'יואב קיש': 'הליכוד',\n",
        "    'ולדימיר בליאק': 'יש עתיד',\n",
        "    'אלי כהן': 'הליכוד',\n",
        "    'אורית מלכה סטרוק': 'הציונות הדתית',\n",
        "    'לימור מגן תלם': 'ימינה',\n",
        "    'יאיר גולן': 'מרצ',\n",
        "    'יואל רזבוזוב': 'יש עתיד',\n",
        "    'שירלי פינטו קדוש': 'ימינה',\n",
        "    'יסמין פרידמן': 'יש עתיד',\n",
        "    'נירה שפק': 'יש עתיד',\n",
        "    'עלי סלאלחה': 'מרצ',\n",
        "    'ניצן הורוביץ': 'מרצ',\n",
        "    'ינון אזולאי': 'ש\"ס',\n",
        "    'משה גפני': 'יהדות התורה',\n",
        "    'יואב גלנט': 'הליכוד',\n",
        "    'חיים ביטון': 'ש\"ס',\n",
        "    'סמי אבו שחאדה': 'בל\"ד',\n",
        "    'אלי אבידר': 'ישראל ביתנו',\n",
        "    'אלינה ברדץ\\' יאלוב': 'ישראל ביתנו',    #this not writen well\n",
        "    'יואב סגלוביץ\\'': 'יש עתיד',               #this not writen well\n",
        "    'דסטה גדי יברקן': 'הליכוד',\n",
        "    'אורלי לוי אבקסיס': 'הליכוד',\n",
        "    'אורנה ברביבאי': 'יש עתיד',\n",
        "    'יוסף שיין': 'ישראל ביתנו',\n",
        "    'אלינור ימין': 'הליכוד',\n",
        "    'ישראל כץ': 'הליכוד',\n",
        "    'יובל שטייניץ': 'הליכוד',\n",
        "    'קטי קטרין שטרית': 'הליכוד',\n",
        "    'אוסאמה סעדי': 'תע\"ל',\n",
        "    'ניר ברקת': 'הליכוד',\n",
        "    'עידן רול': 'יש עתיד',\n",
        "    'אורי מקלב': 'יהדות התורה',\n",
        "    'גבי לסקי': 'מרצ',\n",
        "    'יצחק פינדרוס': 'יהדות התורה',\n",
        "    'ג\\'ידא רינאוי זועבי': 'מרצ',      ##this not writen well\n",
        "    'אבי דיכטר': 'הליכוד',\n",
        "    'קרן ברק': 'הליכוד',\n",
        "    'מרב מיכאלי': 'העבודה',\n",
        "    'מאיר פרוש': 'יהדות התורה',\n",
        "    'חמד עמאר': 'ישראל ביתנו',\n",
        "    'אבי מעוז': 'נעם',\n",
        "    'נעמה לזימי': 'העבודה',\n",
        "    'יואב בן צור': 'ש\"ס',\n",
        "    'יוסף טייב': 'ש\"ס',\n",
        "    'אלון שוסטר': 'כחול לבן',\n",
        "    'עמיחי שיקלי': 'ימינה',\n",
        "    'ענבר בזק': 'יש עתיד',\n",
        "    'מיכל וולדיגר': 'הציונות הדתית',\n",
        "    'רות וסרמן לנדה': 'כחול לבן',\n",
        "    'קארין אלהרר': 'יש עתיד',\n",
        "    'מתן כהנא': 'ימינה',\n",
        "    'הממשלה נפתלי בנט': 'ימינה',     #this not writen well\n",
        "    'מיכל שיר סגמן': 'תקווה חדשה',\n",
        "    'משה טור פז': 'יש עתיד',\n",
        "    'מאיר כהן': 'יש עתיד',\n",
        "    'אלעזר שטרן': 'יש עתיד',\n",
        "    'אמילי חיה מואטי': 'העבודה',\n",
        "    'אופיר סופר': 'הציונות הדתית',\n",
        "    'אילת שקד': 'ימינה',\n",
        "    'חיים כץ': 'הליכוד',\n",
        "    'תומא סלימאן (הרשימה המשותפת)': 'חד\"ש',   #this not writen well\n",
        "    'יאיר לפיד': 'יש עתיד',\n",
        "    'יוראי להב הרצנו': 'יש עתיד',\n",
        "    'גילה גמליאל': 'הליכוד',\n",
        "    'אימאן ח\\'טיב יאסין': 'רע\"מ',\n",
        "    'חוה אתי עטייה': 'הליכוד',\n",
        "    'תמר זנדברג': 'מרצ',\n",
        "    'מכלוף מיקי זוהר': 'הליכוד',\n",
        "    'יעקב ליצמן': 'יהדות התורה',\n",
        "    'מופיד מרעי': 'העבודה',\n",
        "    'רוברטה מטסולה': 'NA',             #SHE IS NOT FROM israel Knesset we need to drop here\n",
        "    'מיכאל מרדכי ביטון': 'כחול לבן',\n",
        "    'אזורי עיסאווי': 'רע\"מ',\n",
        "    'זאב בנימין בגין': 'תקווה חדשה',\n",
        "    'עמר בר לב': 'העבודה',\n",
        "    'מאיר יצחק הלוי': 'תקווה חדשה',\n",
        "    'חילי טרופר': 'כחול לבן',\n",
        "    'יולי יואל אדלשטיין': 'הליכוד',\n",
        "    'אביר קארה': 'ימינה',\n",
        "    'שרן מרים השכל': 'תקווה חדשה'\n",
        "}\n",
        "\n",
        "\n",
        "\n",
        "# Replace all 'party' values using the 'speaker' to 'party' mapping\n",
        "combined_df['party'] = combined_df['speaker'].map(speaker_to_party)\n"
      ]
    },
    {
      "cell_type": "code",
      "execution_count": null,
      "metadata": {
        "id": "UG-eMPAkfKkL"
      },
      "outputs": [],
      "source": [
        "combined_df['party'].info()   #why the party count didnt change after i made  applying the dictionary above?"
      ]
    },
    {
      "cell_type": "markdown",
      "metadata": {
        "id": "4Cx2_tKTp1DG"
      },
      "source": [
        "##Remained 2313 rows with missing party:"
      ]
    },
    {
      "cell_type": "markdown",
      "metadata": {
        "id": "ocPgCz5lfKkL"
      },
      "source": [
        "# CREATING NEW FEATURES:"
      ]
    },
    {
      "cell_type": "markdown",
      "metadata": {
        "id": "umIHtMBufKkL"
      },
      "source": [
        "\n",
        "GENERATE NEW COLUMNS:\n",
        "1. Number of rows per party per session: ACTUAL Y- done\n",
        "2. COUNT VECTIORIZES: DONE BUT NEED MORE WORK TOO MANY COLUMS, NEED TO STICK WITH TOP WORDS\n",
        "3. COUNT TEXT-DONE-BUT NEED MORE INSPECTION\n",
        "4. Party size from the Knesset website- done\n"
      ]
    },
    {
      "cell_type": "markdown",
      "metadata": {
        "id": "_WeRtZtSfKkL"
      },
      "source": [
        "# Generting the actual y"
      ]
    },
    {
      "cell_type": "code",
      "execution_count": null,
      "metadata": {
        "id": "Van4IGh_fKkL"
      },
      "outputs": [],
      "source": [
        "#Generting the actual y: Number of rows per party per session:\n",
        "# #This means that different skeakers in the same party and session will get the same y values:\n",
        "\n",
        "\n",
        "# Group by 'party' and 'session' to calculate the number of rows per party per session\n",
        "party_session_counts = combined_df.groupby(['party', 'session']).size().reset_index(name='count')\n",
        "\n",
        "# Merge the counts back into the original DataFrame to create the 'y' column\n",
        "combined_df = combined_df.merge(party_session_counts, on=['party', 'session'], how='left')\n",
        "\n",
        "# Rename the 'count' column to 'y'\n",
        "combined_df.rename(columns={'count': 'n_party_seesion'}, inplace=True)\n",
        "\n",
        "# Verify the results\n",
        "combined_df.head()\n"
      ]
    },
    {
      "cell_type": "code",
      "execution_count": null,
      "metadata": {
        "id": "JZ3fwGKEfKkL"
      },
      "outputs": [],
      "source": [
        "#Becuase we still miss 2000 party we dont have  n_party_seesion for all spakers\n",
        "combined_df.info()\n",
        "\n",
        "#12105 cases\n"
      ]
    },
    {
      "cell_type": "markdown",
      "metadata": {
        "id": "6E6HbRlQfKkL"
      },
      "source": [
        "# Feature for Counting text:"
      ]
    },
    {
      "cell_type": "code",
      "execution_count": null,
      "metadata": {
        "id": "1YMFr5u-fKkL"
      },
      "outputs": [],
      "source": [
        "#Create a feature that counts the number of letters in the text for each party and session,\n",
        "# Excluding numbers, punctuation, spaces, and special characters\n",
        "\n",
        "# Clean text to remove numbers, punctuation, spaces, and special characters, leaving only Hebrew letters\n",
        "combined_df['cleaned_text'] = combined_df['text'].str.replace(r'[^א-ת]', '', regex=True)\n",
        "\n",
        "# Count the number of letters in the cleaned text\n",
        "combined_df['letter_count'] = combined_df['cleaned_text'].str.len()\n",
        "\n",
        "# Group by 'party' and 'session' to calculate the total number of letters\n",
        "letter_counts_by_group = combined_df.groupby(['party', 'session'])['letter_count'].sum().reset_index()\n",
        "\n",
        "# Rename the result column for clarity\n",
        "letter_counts_by_group.rename(columns={'letter_count': 'total_letters'}, inplace=True)\n",
        "\n",
        "# Display the aggregated results\n",
        "letter_counts_by_group\n",
        "\n"
      ]
    },
    {
      "cell_type": "code",
      "execution_count": null,
      "metadata": {
        "id": "MDC_yP38fKkL"
      },
      "outputs": [],
      "source": [
        "# Merge the aggregated total letters back into the original DataFrame\n",
        "combined_df = combined_df.merge(letter_counts_by_group, on=['party', 'session'], how='left')\n"
      ]
    },
    {
      "cell_type": "code",
      "execution_count": null,
      "metadata": {
        "id": "YFihERdnfKkM"
      },
      "outputs": [],
      "source": [
        "# Display the updated DataFram\n",
        "combined_df"
      ]
    },
    {
      "cell_type": "markdown",
      "metadata": {
        "id": "77Az_L-efKkM"
      },
      "source": [
        "# COUNT VECTIORIZES"
      ]
    },
    {
      "cell_type": "code",
      "execution_count": null,
      "metadata": {
        "id": "bifsfG1sfKkM"
      },
      "outputs": [],
      "source": [
        "#COUNT VECTIORIZES for the text\n",
        "from sklearn.feature_extraction.text import CountVectorizer\n",
        "\n",
        "\n",
        "\n",
        "# #Replace NaN with Empty Strings otherwise the code will not work:\n",
        "combined_df['text'] = combined_df['text'].fillna(\"\")\n",
        "\n",
        "# Define Hebrew prepositions and stop words\n",
        "prepositions = {\n",
        "    \"אל\": [\"אלי\", \"אליך\", \"אליו\", \"אליה\", \"אלינו\", \"אליכם\", \"אליכן\", \"אליהם\", \"אליהן\"],\n",
        "    \"על\": [\"עלי\", \"עליך\", \"עליו\", \"עליה\", \"עלינו\", \"עליכם\", \"עליכן\", \"עליהם\", \"עליהן\"],\n",
        "    \"עם\": [\"עמי\", \"עמך\", \"עמו\", \"עמה\", \"עמנו\", \"עמכם\", \"עמכן\", \"עמם\", \"עמן\", \"עמהם\", \"עמהן\"],\n",
        "    \"את\": [\"אותי\", \"אותך\", \"אותו\", \"אותה\", \"אותנו\", \"אתכם\", \"אתכן\", \"אותם\", \"אותן\"],\n",
        "    \"של\": [\"שלי\", \"שלך\", \"שלו\", \"שלה\", \"שלנו\", \"שלכם\", \"שלכן\", \"שלהם\", \"שלהן\"],\n",
        "    \"מן\": [\"ממני\", \"ממך\", \"ממנו\", \"ממנה\", \"מכם\", \"מכן\", \"מהם\", \"מהן\"],\n",
        "    \"אצל\": [\"אצלי\", \"אצלך\", \"אצלו\", \"אצלה\", \"אצלנו\", \"אצלכם\", \"אצלכן\", \"אצלם\", \"אצלן\"],\n",
        "    \"בשביל\": [\"בשבילי\", \"בשבילך\", \"בשבילו\", \"בשבילה\", \"בשבילנו\", \"בשבילכם\", \"בשבילכן\", \"בשבילם\", \"בשבילן\"],\n",
        "}\n",
        "\n",
        "# Flatten prepositions into a single list and create stop words set\n",
        "stopwords_extend = set(item for sublist in prepositions.values() for item in sublist)\n",
        "\n",
        "# Preprocess text: remove non-Hebrew characters and preserve spaces\n",
        "combined_df['text'] = combined_df['text'].str.replace(r'[^א-ת\\s]', '', regex=True)\n",
        "\n",
        "# Initialize CountVectorizer with constraints\n",
        "vectorizer = CountVectorizer(\n",
        "    stop_words=list(stopwords_extend),  # Use custom stop words\n",
        "    max_features=5000,                 # Limit vocabulary size\n",
        "    min_df=2                           # Include words appearing in at least 10 documents/rows-we can play with this\n",
        ")\n",
        "\n",
        "# Fit and transform the 'text' column\n",
        "X = vectorizer.fit_transform(combined_df['text'])\n",
        "\n",
        "# Debug: Check vocabulary size and sample words\n",
        "print(f\"Vocabulary size: {len(vectorizer.get_feature_names_out())}\")\n",
        "print(\"Sample words:\", vectorizer.get_feature_names_out()[:50])\n",
        "\n",
        "# Convert the sparse matrix to a DataFrame\n",
        "count_matrix = pd.DataFrame(X.toarray(), columns=vectorizer.get_feature_names_out())\n",
        "\n",
        "# Add the count matrix back to the original DataFrame\n",
        "combined_df = pd.concat([combined_df.reset_index(drop=True), count_matrix.reset_index(drop=True)], axis=1)\n",
        "\n",
        "# Display the first few rows of the updated DataFrame\n",
        "print(combined_df.head())\n"
      ]
    },
    {
      "cell_type": "code",
      "execution_count": null,
      "metadata": {
        "id": "LYy6TkS2fKkM"
      },
      "outputs": [],
      "source": [
        "# Count how many documents each word appears in\n",
        "word_doc_counts = (X > 0).sum(axis=0)  # Number of rows (documents) each word appears in\n",
        "\n",
        "# Convert to a dictionary for easier interpretation\n",
        "word_distribution = dict(zip(vectorizer.get_feature_names_out(), word_doc_counts.tolist()))\n",
        "\n",
        "# Sort words by frequency in descending order\n",
        "sorted_word_distribution = sorted(word_distribution.items(), key=lambda x: x[1], reverse=True)\n",
        "\n",
        "# Display the top 10 words and their document counts\n",
        "print(\"Top 10 words by document frequency (descending order):\")\n",
        "for word, count in sorted_word_distribution[:10]:\n",
        "    print(f\"{word}: {count}\")\n",
        "\n",
        "# I got only the word אבא for some reason and all the values of the words\n"
      ]
    },
    {
      "cell_type": "code",
      "execution_count": null,
      "metadata": {
        "id": "QBetxv-yfKkM"
      },
      "outputs": [],
      "source": [
        "# Check Sparsity: Percentage of the matrix that is non-zero.\n",
        "sparsity = (X.nnz / (X.shape[0] * X.shape[1])) * 100\n",
        "print(f\"Sparsity: {sparsity:.2f}%\")\n"
      ]
    },
    {
      "cell_type": "markdown",
      "metadata": {
        "id": "1IYjW2Y1qN2T"
      },
      "source": [
        "# PREPARING THE גודל המפלגה FEATURE - party_sizes"
      ]
    },
    {
      "cell_type": "code",
      "execution_count": null,
      "metadata": {
        "id": "eVR_1hIvX2Gk"
      },
      "outputs": [],
      "source": [
        "# Example dictionary for party sizes  NUMBER OF MANDATES:\n",
        "party_sizes = {\n",
        "    'הליכוד': 30,\n",
        "    'יש עתיד': 17,\n",
        "    'ש״ס': 9,\n",
        "    'כחול לבן': 8,\n",
        "    'ימינה': 7,\n",
        "    'העבודה' : 7,\n",
        "    'יהדות התורה' : 7,\n",
        "    'ישראל ביתנו' : 7,\n",
        "    'הציונות הדתית' : 6,\n",
        "    'הרשימה המשותפת' : 6,\n",
        "    'תקווה חדשה' : 6,\n",
        "    'מרצ' : 6,\n",
        "    'הרשימה הערבית המאוחדת' : 4\n",
        "}\n",
        "\n",
        "# Map party size to speakers\n",
        "combined_df['party_size'] = combined_df['party'].map(party_sizes)\n",
        "\n",
        "# Fill missing roles using party size\n",
        "combined_df['role'] = combined_df.apply(\n",
        "    lambda row: f\"Member of {row['party']} (Party Size: {row['party_size']} mandates)\"\n",
        "                if pd.isna(row['role']) else row['role'],\n",
        "    axis=1\n",
        ")\n",
        "\n",
        "# Verify changes\n",
        "print(combined_df[['speaker', 'party', 'party_size', 'role']].head())\n"
      ]
    },
    {
      "cell_type": "code",
      "execution_count": null,
      "metadata": {
        "id": "0Agup13-H3ia"
      },
      "outputs": [],
      "source": []
    },
    {
      "cell_type": "code",
      "execution_count": null,
      "metadata": {
        "id": "b3ZJO0DRHrRq"
      },
      "outputs": [],
      "source": [
        "import seaborn as sns\n",
        "import matplotlib.pyplot as plt\n",
        "\n",
        "# Create the pair plot\n",
        "sns.pairplot(combined_df)\n",
        "\n",
        "\n",
        "\n",
        "# Show the plot\n",
        "plt.show()\n"
      ]
    },
    {
      "cell_type": "markdown",
      "metadata": {
        "id": "HfW49KWmUFuU"
      },
      "source": [
        "# OLD SCRIPTS This is where i get insights for likud only."
      ]
    },
    {
      "cell_type": "code",
      "execution_count": null,
      "metadata": {
        "id": "djGbB8O7JA2h"
      },
      "outputs": [],
      "source": [
        "import pandas as pd\n",
        "combined_df = pd.read_csv('combined_data.csv')"
      ]
    },
    {
      "cell_type": "code",
      "execution_count": null,
      "metadata": {
        "id": "zUjI9Dh45pe5"
      },
      "outputs": [],
      "source": [
        "# General tools\n",
        "import pandas as pd\n",
        "import numpy as np\n",
        "import matplotlib.pyplot as plt\n",
        "import seaborn as sns\n",
        "\n",
        "# For transformations and predictions\n",
        "from sklearn.preprocessing import FunctionTransformer\n",
        "from sklearn.linear_model import LinearRegression\n",
        "from scipy.optimize import curve_fit\n",
        "from sklearn.tree import DecisionTreeRegressor, export_graphviz\n",
        "from sklearn.neighbors import KNeighborsRegressor\n",
        "from sklearn.preprocessing import MinMaxScaler\n",
        "from sklearn.metrics import pairwise_distances\n",
        "\n",
        "# For the tree visualization\n",
        "import pydot\n",
        "from IPython.display import Image\n",
        "#from sklearn.externals.six import StringIO\n",
        "\n",
        "# For scoring\n",
        "from sklearn.metrics import mean_squared_log_error as msle\n",
        "from sklearn.metrics import mean_squared_error as mse\n",
        "\n",
        "\n",
        "# For validation\n",
        "from sklearn.model_selection import train_test_split as split\n",
        "\n",
        "%matplotlib inline"
      ]
    },
    {
      "cell_type": "code",
      "execution_count": null,
      "metadata": {
        "id": "rkWCMCwbVnKW"
      },
      "outputs": [],
      "source": [
        "knesset_24 = pd.read_csv('combined_data.csv', index_col='session')\n",
        "knesset_24.head()"
      ]
    },
    {
      "cell_type": "code",
      "execution_count": null,
      "metadata": {
        "id": "Xo7RfqhLWZXZ"
      },
      "outputs": [],
      "source": [
        "knesset_24.info()"
      ]
    },
    {
      "cell_type": "code",
      "execution_count": null,
      "metadata": {
        "id": "nJuBFow_P8__"
      },
      "outputs": [],
      "source": [
        "knesset_24.describe()"
      ]
    },
    {
      "cell_type": "markdown",
      "metadata": {
        "id": "wZSDJPcXhuSu"
      },
      "source": [
        "## we need to turn all categorical to numerical so we can pair plot (or create a numerical features based on the categorical ones)"
      ]
    },
    {
      "cell_type": "code",
      "execution_count": null,
      "metadata": {
        "id": "4WF1u9UZh3fr"
      },
      "outputs": [],
      "source": [
        "# Drop 'knesset' and 'session' columns\n",
        "df_cleaned = combined_df.drop(columns=['knesset', 'session'])\n",
        "\n",
        "df_cleaned.info()"
      ]
    },
    {
      "cell_type": "code",
      "execution_count": null,
      "metadata": {
        "id": "CDWXIPR_J0Rl"
      },
      "outputs": [],
      "source": [
        "df_cleaned.describe()"
      ]
    },
    {
      "cell_type": "code",
      "execution_count": null,
      "metadata": {
        "id": "9VByYvUGiMdl"
      },
      "outputs": [],
      "source": [
        "# Filter the DataFrame for rows where the party is \"הליכוד\"\n",
        "likud_speakers = df_cleaned[df_cleaned['party'] == 'הליכוד']\n",
        "\n",
        "# Extract the unique speakers\n",
        "unique_likud_speakers = likud_speakers['speaker'].unique()\n",
        "\n",
        "# Print the unique speakers\n",
        "print(f\"Speakers from 'הליכוד': {unique_likud_speakers}\")\n"
      ]
    },
    {
      "cell_type": "markdown",
      "metadata": {
        "id": "2rGmx-l8jAau"
      },
      "source": [
        "## Old script"
      ]
    },
    {
      "cell_type": "markdown",
      "metadata": {
        "id": "0fiTFwHOj56N"
      },
      "source": [
        "now we shall impute (in other words complete) the party for likud members if it's missing or written inccorectly."
      ]
    },
    {
      "cell_type": "code",
      "execution_count": null,
      "metadata": {
        "id": "5CqGR2SRi_19"
      },
      "outputs": [],
      "source": [
        "# Step 1: Find the speakers that belong to 'הליכוד'\n",
        "likud_speakers = df_cleaned[df_cleaned['party'] == 'הליכוד']['speaker'].unique()\n",
        "\n",
        "# Step 2: Update the 'party' column for rows where the 'speaker' is in the list of 'הליכוד' speakers\n",
        "# and where the 'party' column is missing or incorrect\n",
        "df_cleaned.loc[df_cleaned['speaker'].isin(likud_speakers) & df_cleaned['party'].isna(), 'party'] = 'הליכוד'\n",
        "\n",
        "# Step 3: Check if there are any mistakes (incorrect party values for 'הליכוד' speakers)\n",
        "df_cleaned.loc[df_cleaned['speaker'].isin(likud_speakers) & (df_cleaned['party'] != 'הליכוד'), 'party'] = 'הליכוד'\n",
        "\n",
        "# Verify the change\n",
        "print(df_cleaned.head())\n"
      ]
    },
    {
      "cell_type": "code",
      "execution_count": null,
      "metadata": {
        "id": "25fPzGc1kbwJ"
      },
      "outputs": [],
      "source": [
        "df_cleaned.head()"
      ]
    },
    {
      "cell_type": "code",
      "execution_count": null,
      "metadata": {
        "id": "CG2TquLTjvon"
      },
      "outputs": [],
      "source": [
        "df_cleaned.info()"
      ]
    },
    {
      "cell_type": "code",
      "execution_count": null,
      "metadata": {
        "id": "zWka2GiDj336"
      },
      "outputs": [],
      "source": [
        "# Drop rows where 'party' is not 'הליכוד'\n",
        "df_cleaned_likud = df_cleaned[df_cleaned['party'] == 'הליכוד']\n",
        "\n",
        "# Verify the change\n",
        "print(df_cleaned_likud.head())\n",
        "print(df_cleaned_likud.info())\n"
      ]
    },
    {
      "cell_type": "code",
      "execution_count": null,
      "metadata": {
        "id": "lxO0sD_Jl5nA"
      },
      "outputs": [],
      "source": [
        "df_cleaned_likud.info()"
      ]
    },
    {
      "cell_type": "code",
      "execution_count": null,
      "metadata": {
        "id": "odX306e9l7Ir"
      },
      "outputs": [],
      "source": [
        "df_cleaned_likud.reset_index(drop=True, inplace=True)"
      ]
    },
    {
      "cell_type": "code",
      "execution_count": null,
      "metadata": {
        "id": "GCfViPXil_si"
      },
      "outputs": [],
      "source": [
        "df_cleaned_likud.info()"
      ]
    },
    {
      "cell_type": "code",
      "execution_count": null,
      "metadata": {
        "id": "6kyIxJNxm46a"
      },
      "outputs": [],
      "source": [
        "# Display all unique roles in the 'role' column\n",
        "unique_roles = df_cleaned['role'].unique()\n",
        "print(\"Unique roles in the 'role' column:\")\n",
        "print(unique_roles)\n"
      ]
    },
    {
      "cell_type": "code",
      "execution_count": null,
      "metadata": {
        "id": "_o4_6q3jm6-l"
      },
      "outputs": [],
      "source": [
        "# Create a dictionary with 'speaker' as key and 'role' as value\n",
        "speaker_role_dict = df_cleaned_likud.dropna(subset=['role']).set_index('speaker')['role'].to_dict()\n",
        "\n",
        "# Display the dictionary\n",
        "print(\"Speaker to Role dictionary:\")\n",
        "print(speaker_role_dict)\n"
      ]
    },
    {
      "cell_type": "code",
      "execution_count": null,
      "metadata": {
        "id": "RSzyrjOgnHLL"
      },
      "outputs": [],
      "source": [
        "# Count unique values in the 'role' column\n",
        "unique_roles_count = df_cleaned_likud['role'].nunique()\n",
        "\n",
        "# Display the result\n",
        "print(f\"Number of unique roles: {unique_roles_count}\")\n",
        "\n",
        "# Optionally, if you want to see the actual unique roles:\n",
        "unique_roles = df_cleaned_likud['role'].unique()\n",
        "print(f\"Unique roles: {unique_roles}\")\n"
      ]
    },
    {
      "cell_type": "code",
      "execution_count": null,
      "metadata": {
        "id": "Lb1-IfiapWxG"
      },
      "outputs": [],
      "source": [
        "# Cleaned dictionary with correct syntax and no empty strings\n",
        "dict_knesset_24 = {\n",
        "    'יולי יואל אדלשטיין': 'יו\"ר ועדת חוץ וביטחון וחבר כנסת מטעם הליכוד',\n",
        "    'אורלי לוי אבקסיס': 'חברת כנסת מטעם הליכוד',  # Provide a placeholder role if missing\n",
        "    'יריב לוין': 'סגן ראש הממשלה שר המשפטים',\n",
        "    'אופיר אקוניס': 'שר החדשנות המדע והטכנולוגיה',\n",
        "    'בנימין נתניהו': 'ראש הממשלה',\n",
        "    'אופיר כץ': 'חבר כנסת מטעם הליכוד',\n",
        "    'דוד אמסלם': 'חבר כנסת מטעם הליכוד',  # Added a placeholder role\n",
        "    'גלית דיסטל אטבריאן': 'חברת כנסת מטעם הליכוד',  # Added a placeholder role\n",
        "    'שלמה קרעי': 'שר התקשורת',\n",
        "    'פטין מולא': 'חבר כנסת מטעם הליכוד',  # Added a placeholder role\n",
        "    'אמיר אוחנה': 'יושב–ראש הכנסת',\n",
        "    'מאי גולן': 'חברת כנסת מטעם הליכוד',  # Added a placeholder role\n",
        "    'מירי מרים רגב': 'שרת התחבורה והבטיחות בדרכים',\n",
        "    'יואב קיש': 'שר החינוך, שיתוף פעולה אזורי והשר המקשר בין הממשלה לכנסת',\n",
        "    'אלי כהן': 'שר האנרגיה והתשתיות',\n",
        "    'יואב גלנט': 'שר הביטחון',  # Added a placeholder role\n",
        "    'דסטה גדי יברקן': 'חבר כנסת מטעם הליכוד',  # Added a placeholder role\n",
        "    'ישראל כץ': 'שר החוץ',\n",
        "    'יובל שטייניץ': 'שר האוצר',  # Added a placeholder role\n",
        "    'קטי קטרין שטרית': 'חברת כנסת מטעם הליכוד',  # Added a placeholder role\n",
        "    'ניר ברקת': 'שר הכלכלה והתעשייה',\n",
        "    'אבי דיכטר': 'שר החקלאות ופיתוח הכפר',\n",
        "    'קרן ברק': 'חברת כנסת מטעם הליכוד',  # Added a placeholder role\n",
        "    'דוד ביטן': 'יו\"ר ועדת הכלכלה',\n",
        "    'חיים כץ': 'שר התיירות',\n",
        "    'גילה גמליאל': 'שרת המודיעין',\n",
        "    'חוה אתי עטייה': 'חברת כנסת מטעם הליכוד',  # Added a placeholder role\n",
        "    'מכלוף מיקי זוהר': 'שר התרבות והספורט',\n",
        "    'צחי הנגבי': 'שר לעניינים אסטרטגיים'\n",
        "}\n",
        "\n",
        "# Use the dictionary to fill the 'role' column for speakers with missing roles\n",
        "df_cleaned_likud.loc[:, 'role'] = df_cleaned_likud.apply(\n",
        "    lambda row: dict_knesset_24.get(row['speaker'], row['role']), axis=1\n",
        ")\n",
        "\n",
        "# Verify the change\n",
        "print(df_cleaned_likud.head())\n",
        "print(f\"Number of missing roles: {df_cleaned_likud['role'].isna().sum()}\")\n"
      ]
    },
    {
      "cell_type": "code",
      "execution_count": null,
      "metadata": {
        "id": "8CLnlZu-vrcE"
      },
      "outputs": [],
      "source": [
        "# Display the speaker and role columns\n",
        "speaker_role_result = df_cleaned_likud[['speaker', 'role']]\n",
        "\n",
        "# Show the first few rows to verify\n",
        "print(speaker_role_result.head())\n",
        "\n",
        "# Optionally, display all unique speaker-role pairs\n",
        "print(speaker_role_result.drop_duplicates())\n"
      ]
    },
    {
      "cell_type": "code",
      "execution_count": null,
      "metadata": {
        "id": "hfJYz1PBwM_P"
      },
      "outputs": [],
      "source": [
        "df_cleaned_likud.head()"
      ]
    },
    {
      "cell_type": "code",
      "execution_count": null,
      "metadata": {
        "id": "WaJUry4lwdJy"
      },
      "outputs": [],
      "source": [
        "# Display only the 'speaker' column to see the unique speakers\n",
        "unique_speakers = df_cleaned_likud['speaker'].unique()\n",
        "\n",
        "# Show the unique speakers\n",
        "print(unique_speakers)\n"
      ]
    },
    {
      "cell_type": "code",
      "execution_count": null,
      "metadata": {
        "id": "UShfC6M3wls2"
      },
      "outputs": [],
      "source": [
        "# Filter the DataFrame for the speaker 'דוד ביטן' and display the role\n",
        "david_biton_role = df_cleaned_likud[df_cleaned_likud['speaker'] == 'דוד ביטן']['role'].iloc[0]\n",
        "\n",
        "# Display the role\n",
        "print(f\"The role of 'דוד ביטן' is: {david_biton_role}\")\n"
      ]
    },
    {
      "cell_type": "code",
      "execution_count": null,
      "metadata": {
        "id": "86KXihz_wr5F"
      },
      "outputs": [],
      "source": [
        "df_cleaned_likud.info()"
      ]
    },
    {
      "cell_type": "code",
      "execution_count": null,
      "metadata": {
        "id": "RGzUfyJ_w118"
      },
      "outputs": [],
      "source": [
        "# Filter the DataFrame to show rows where the 'text' column is missing (NaN)\n",
        "missing_text_rows = df_cleaned_likud[df_cleaned_likud['text'].isna()]\n",
        "\n",
        "missing_text_rows\n"
      ]
    },
    {
      "cell_type": "code",
      "execution_count": null,
      "metadata": {
        "id": "jc-f4Fm8xUpA"
      },
      "outputs": [],
      "source": [
        "# Display rows between index 580 and 600 (inclusive)\n",
        "df_cleaned_likud.iloc[580:601]\n"
      ]
    },
    {
      "cell_type": "code",
      "execution_count": null,
      "metadata": {
        "id": "bjeUrNt0x88J"
      },
      "outputs": [],
      "source": [
        "# Impute missing text for rows 590 and 591\n",
        "df_cleaned_likud.loc[590:591, 'text'] = df_cleaned_likud.loc[590:591, 'text'].fillna('No text provided')\n",
        "\n",
        "# Verify the change\n",
        "df_cleaned_likud.loc[590:591]\n"
      ]
    },
    {
      "cell_type": "code",
      "execution_count": null,
      "metadata": {
        "id": "X9N0Gl_CIc46"
      },
      "outputs": [],
      "source": [
        "df_cleaned_likud.describe()"
      ]
    },
    {
      "cell_type": "code",
      "execution_count": null,
      "metadata": {
        "id": "-nw0Fo4pzCrN"
      },
      "outputs": [],
      "source": [
        "import seaborn as sns\n",
        "import matplotlib.pyplot as plt\n",
        "\n",
        "# Count plot for the 'role' column\n",
        "sns.countplot(data=df_cleaned_likud, x='speaker')\n",
        "plt.xticks(rotation=90)  # Rotate x-axis labels for better readability\n",
        "plt.show()\n"
      ]
    },
    {
      "cell_type": "code",
      "execution_count": null,
      "metadata": {
        "id": "M8OdQdxp0g6D"
      },
      "outputs": [],
      "source": [
        "# Create a contingency table for role, party, and sub_subject\n",
        "contingency_table = pd.crosstab([df_cleaned_likud['role'], df_cleaned_likud['party']], df_cleaned_likud['sub_subject'])\n",
        "\n",
        "# Plot the heatmap\n",
        "plt.figure(figsize=(12, 10))\n",
        "sns.heatmap(contingency_table, annot=True, cmap='YlGnBu', fmt=\"d\", cbar=False)\n",
        "plt.title(\"Heatmap of Role, Party, and Sub Subject\")\n",
        "plt.show()\n"
      ]
    },
    {
      "cell_type": "code",
      "execution_count": null,
      "metadata": {
        "id": "M0o4H7HBOeJx"
      },
      "outputs": [],
      "source": []
    },
    {
      "cell_type": "code",
      "source": [],
      "metadata": {
        "id": "i6c2_-zHItdJ"
      },
      "execution_count": null,
      "outputs": []
    },
    {
      "cell_type": "code",
      "source": [],
      "metadata": {
        "id": "iZAY1lh0Itfp"
      },
      "execution_count": null,
      "outputs": []
    },
    {
      "cell_type": "code",
      "source": [],
      "metadata": {
        "id": "_p6Ud6kHItiE"
      },
      "execution_count": null,
      "outputs": []
    },
    {
      "cell_type": "code",
      "source": [],
      "metadata": {
        "id": "dGtwIj6cItkN"
      },
      "execution_count": null,
      "outputs": []
    },
    {
      "cell_type": "code",
      "source": [],
      "metadata": {
        "id": "tm9k9Qb7ItmX"
      },
      "execution_count": null,
      "outputs": []
    },
    {
      "cell_type": "code",
      "source": [],
      "metadata": {
        "id": "gouKdGl2Itor"
      },
      "execution_count": null,
      "outputs": []
    },
    {
      "cell_type": "markdown",
      "source": [
        "# IMPUTATION IN THE PARTY COLUMN"
      ],
      "metadata": {
        "id": "So5x4zsmIuV5"
      }
    },
    {
      "cell_type": "markdown",
      "source": [
        "## step 1: mapping out the parties according to data mining from the web (knesset website/wikipedia)"
      ],
      "metadata": {
        "id": "03rV4cV_MmXg"
      }
    },
    {
      "cell_type": "markdown",
      "source": [
        "![כנסת24.png](data:image/png;base64,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)"
      ],
      "metadata": {
        "id": "RIMwoUnuNpeB"
      }
    },
    {
      "cell_type": "markdown",
      "source": [
        "המפלגה הכי גדולה בכנסת ה 24 = הליכוד\n",
        "\n",
        "סה\"כ מנדטים = 120 כמספר חברי כנסת להלן speaker column\n",
        "\n",
        "סה\"כ מפלגות = 13\n"
      ],
      "metadata": {
        "id": "p-htNnW3OA1W"
      }
    },
    {
      "cell_type": "markdown",
      "source": [
        "![כנסת24_1.png](data:image/png;base64,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)"
      ],
      "metadata": {
        "id": "S7IH4-CYQc0t"
      }
    },
    {
      "cell_type": "markdown",
      "source": [
        "![כנסת24_2.png](data:image/png;base64,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)"
      ],
      "metadata": {
        "id": "sj_U7LcuQiCS"
      }
    },
    {
      "cell_type": "markdown",
      "source": [
        "![כנסת24_3.png](data:image/png;base64,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)"
      ],
      "metadata": {
        "id": "BF0QbunjQkJb"
      }
    },
    {
      "cell_type": "code",
      "source": [
        "import pandas as pd\n",
        "combined_df = pd.read_csv(r'combined_data.csv')"
      ],
      "metadata": {
        "id": "eKjDKEbu4OmT"
      },
      "execution_count": 1,
      "outputs": []
    },
    {
      "cell_type": "code",
      "source": [
        "combined_df.info()"
      ],
      "metadata": {
        "colab": {
          "base_uri": "https://localhost:8080/"
        },
        "id": "p6SWgwI_6sG6",
        "outputId": "c0edf981-dbc6-4a7a-c9c5-9bc8564616b9"
      },
      "execution_count": 2,
      "outputs": [
        {
          "output_type": "stream",
          "name": "stdout",
          "text": [
            "<class 'pandas.core.frame.DataFrame'>\n",
            "RangeIndex: 14418 entries, 0 to 14417\n",
            "Data columns (total 8 columns):\n",
            " #   Column       Non-Null Count  Dtype  \n",
            "---  ------       --------------  -----  \n",
            " 0   knesset      0 non-null      float64\n",
            " 1   session      14418 non-null  int64  \n",
            " 2   speaker      14407 non-null  object \n",
            " 3   party        7428 non-null   object \n",
            " 4   role         6331 non-null   object \n",
            " 5   text         14414 non-null  object \n",
            " 6   subject      14418 non-null  object \n",
            " 7   sub_subject  9230 non-null   object \n",
            "dtypes: float64(1), int64(1), object(6)\n",
            "memory usage: 901.2+ KB\n"
          ]
        }
      ]
    },
    {
      "cell_type": "code",
      "source": [
        "combined_df['speaker'] = combined_df['speaker'].str.strip() #normalization: There could be discrepancies in names (e.g., additional spaces, different spellings). Normalize speaker names before mapping.\n"
      ],
      "metadata": {
        "id": "rifa9rRws6z9"
      },
      "execution_count": 3,
      "outputs": []
    },
    {
      "cell_type": "code",
      "source": [
        "# Initialize the dictionary to map speakers to parties\n",
        "speaker_to_party = {}\n",
        "\n",
        "# Add mappings for each party\n",
        "likud_speakers = [\n",
        "    \"יולי יואל אדלשטיין\", \"אמיר אוחנה\", \"דוד אמסלם\", \"אופיר אקוניס\", \"דוד ביטן\",\n",
        "    \"קרן ברק\", \"ניר ברקת\", \"מאי גולן\", \"יואב גלנט\", \"גילה גמליאל\", \"אבי דיכטר\",\n",
        "    \"גלית דיסטל אטבריאן\", \"צחי הנגבי\", \"מכלוף מיקי זוהר\", \"דסטה גדי יברקן\",\n",
        "    \"אלי אליהו כהן\", \"אופיר כץ\", \"חיים כץ\", \"ישראל כץ\", \"אורלי לוי אבקסיס\",\n",
        "    \"יריב לוין\", \"פטין מולא\", \"בנימין נתניהו\", \"חוה אתי עטייה\",\n",
        "    \"טלי פלוסקוב\", \"יואב קיש\", \"שלמה קרעי\", \"מירי מרים רגב\", \"יובל שטייניץ\",\n",
        "    \"קטי קטרין שטרית\"\n",
        "]\n",
        "for speaker in likud_speakers:\n",
        "    speaker_to_party[speaker] = \"הליכוד\"\n",
        "\n",
        "print(f\"num_of_likud_speakers: {len(likud_speakers)}\")\n",
        "\n",
        "# Yesh Atid\n",
        "yesh_atid_speakers = [\"יאיר לפיד\", \"מירב כהן\", \"אורנה ברביבאי\"]\n",
        "for speaker in yesh_atid_speakers:\n",
        "    speaker_to_party[speaker] = \"יש עתיד\"\n",
        "\n",
        "print(f\"num_of_yesh_atid_speakers: {len(yesh_atid_speakers)}\")\n",
        "\n",
        "# Shas\n",
        "shas_speakers = [\n",
        "    \"משה אבוטבול\", \"ינון אזולאי\", \"משה ארבל\", \"אוריאל בוסו\", \"חיים ביטון\",\n",
        "    \"יואב בן צור\", \"אריה מכלוף דרעי\", \"יוסף טייב\", \"מיכאל מלכיאלי\", \"יעקב מרגי\"\n",
        "]\n",
        "for speaker in shas_speakers:\n",
        "    speaker_to_party[speaker] = \"ש\\\"ס\"\n",
        "\n",
        "print(f\"num_of_shas_speakers: {len(shas_speakers)}\")\n",
        "\n",
        "# Blue and White\n",
        "blue_and_white_speakers = [\n",
        "    \"מיכאל מרדכי ביטון\", \"איתן גינזבורג\", \"בני גנץ\", \"רות וסרמן לנדה\",\n",
        "    \"אלון טל\", \"חילי טרופר\", \"מופיד מרעי\", \"אורית פרקש הכהן\",\n",
        "    \"יעל רון בן משה\", \"אלון שוסטר\", \"פנינה תמנו שטה\"\n",
        "]\n",
        "for speaker in blue_and_white_speakers:\n",
        "    speaker_to_party[speaker] = \"כחול לבן\"\n",
        "\n",
        "print(f\"num_of_blue_and_white_speakers: {len(blue_and_white_speakers)}\")\n",
        "\n",
        "# יהדות התורה\n",
        "yahadut_hatora_speakers = [\n",
        "    \"ישראל אייכלר\", \"יעקב אשר\", \"אליהו ברוכי\", \"משה גפני\", \"יעקב טסלר\",\n",
        "    \"יעקב ליצמן\", \"אורי מקלב\", \"יצחק זאב פינדרוס\", \"מאיר פרוש\"\n",
        "]\n",
        "for speaker in yahadut_hatora_speakers:\n",
        "    speaker_to_party[speaker] = \"יהדות התורה\"\n",
        "\n",
        "print(f\"num_of_yahadut_hatora_speakers: {len(yahadut_hatora_speakers)}\")\n",
        "\n",
        "# ימינה\n",
        "yamina_speakers = [\n",
        "    \"ניר אורבך\", \"נפתלי בנט\", \"מתן כהנא\", \"יום טוב חי כלפון\", \"עידית סילמן\",\n",
        "    \"שירלי פינטו קדוש\", \"אביר קארה\", \"עמיחי שיקלי\", \"איילת שקד\"\n",
        "]\n",
        "for speaker in yamina_speakers:\n",
        "    speaker_to_party[speaker] = \"ימינה\"\n",
        "\n",
        "print(f\"num_of_yamina_speakers: {len(yamina_speakers)}\")\n",
        "\n",
        "# הרשימה המשותפת\n",
        "hareshima_hameshutefet_speakers = [\n",
        "    \"סמי אבו שחאדה\", \"אחמד טיבי\", \"עופר כסיף\", \"אוסאמה סעדי\", \"איימן עודה\",\n",
        "    \"עאידה תומא סלימאן\"\n",
        "]\n",
        "for speaker in hareshima_hameshutefet_speakers:\n",
        "    speaker_to_party[speaker] = \"הרשימה המשותפת\"\n",
        "\n",
        "print(f\"num_of_hareshima_hameshutefet_speakers: {len(hareshima_hameshutefet_speakers)}\")\n",
        "\n",
        "# מרצ\n",
        "meretz_speakers = [\n",
        "    \"יאיר גולן\", \"ניצן הורוביץ\", \"תמר זנדברג\", \"גבי לסקי\", \"עלי סלאלחה\",\n",
        "    \"עיסאווי פריג'\", \"מיכל רוזין\", \"מוסי רז\", \"ג'ידא רינאוי זועבי\"\n",
        "]\n",
        "for speaker in meretz_speakers:\n",
        "    speaker_to_party[speaker] = \"מרצ\"\n",
        "\n",
        "print(f\"num_of_meretz_speakers: {len(meretz_speakers)}\")\n",
        "\n",
        "# הציונות הדתית\n",
        "hazionut_hadatit_speakers = [\n",
        "    \"איתמר בן גביר\", \"מיכל מרים וולדיגר\", \"אבי מעוז\", \"אורית סטרוק\",\n",
        "    \"בצלאל סמוטריץ'\", \"שמחה רוטמן\"\n",
        "]\n",
        "for speaker in hazionut_hadatit_speakers:\n",
        "    speaker_to_party[speaker] = \"הציונות הדתית\"\n",
        "\n",
        "print(f\"num_of_hazionut_hadatit_speakers: {len(hazionut_hadatit_speakers)}\")\n",
        "\n",
        "# תקווה חדשה\n",
        "tikva_hadasha_speakers = [\n",
        "    \"זאב אלקין\", \"זאב בנימין בגין\", \"מישל בוסקילה\", \"צבי האוזר\",\n",
        "    \"יועז הנדל\", \"שרן מרים השכל\", \"מאיר יצחק-הלוי\", \"גדעון סער\",\n",
        "    \"יפעת שאשא ביטון\", \"מיכל שיר סגמן\"\n",
        "]\n",
        "for speaker in tikva_hadasha_speakers:\n",
        "    speaker_to_party[speaker] = \"תקווה חדשה\"\n",
        "\n",
        "print(f\"num_of_tikva_hadasha_speakers: {len(tikva_hadasha_speakers)}\")\n",
        "\n",
        "# הרשימה הערבית המאוחדת\n",
        "hareshima_haaravit_speakers = [\n",
        "    \"סעיד אלחרומי\", \"מאזן גנאים\", \"אימאן חטיב יאסין\", \"ווליד טאהא\", \"מנסור עבאס\"\n",
        "]\n",
        "for speaker in hareshima_haaravit_speakers:\n",
        "    speaker_to_party[speaker] = \"הרשימה הערבית המאוחדת\"\n",
        "\n",
        "print(f\"num_of_hareshima_haaravit_speakers: {len(hareshima_haaravit_speakers)}\")\n",
        "\n",
        "# העבודה\n",
        "haavoda_speakers = [\n",
        "    \"עמר בר-לב\", \"נעמה לזימי\", \"אמילי חיה מואטי\", \"מרב מיכאלי\", \"אבתיסאם מראענה\",\n",
        "    \"גלעד קריב\", \"אפרת רייטן מרום\", \"רם שפע\"\n",
        "]\n",
        "for speaker in haavoda_speakers:\n",
        "    speaker_to_party[speaker] = \"העבודה\"\n",
        "\n",
        "print(f\"num_of_haavoda_speakers: {len(haavoda_speakers)}\")\n",
        "\n",
        "# ישראל ביתנו\n",
        "israel_beitenu_speakers = [\n",
        "    \"אלי אבידר\", \"אלינה ברדץ יאלוב\", \"אביגדור ליברמן\", \"לימור מגן תלם\",\n",
        "    \"יוליה מלינובסקי\", \"יבגני סובה\", \"חמד עמאר\", \"עודד פורר\",\n",
        "    \"אלכס קושניר\", \"שרון רופא אופיר\", \"יוסף שיין\"\n",
        "]\n",
        "for speaker in israel_beitenu_speakers:\n",
        "    speaker_to_party[speaker] = \"ישראל ביתנו\"\n",
        "\n",
        "print(f\"num_of_israel_beitenu_speakers: {len(israel_beitenu_speakers)}\")\n"
      ],
      "metadata": {
        "colab": {
          "base_uri": "https://localhost:8080/"
        },
        "id": "5dPgmNttnXCg",
        "outputId": "bf4944f1-aa47-4d78-e2ed-5e8b065aff5a"
      },
      "execution_count": 4,
      "outputs": [
        {
          "output_type": "stream",
          "name": "stdout",
          "text": [
            "num_of_likud_speakers: 30\n",
            "num_of_yesh_atid_speakers: 3\n",
            "num_of_shas_speakers: 10\n",
            "num_of_blue_and_white_speakers: 11\n",
            "num_of_yahadut_hatora_speakers: 9\n",
            "num_of_yamina_speakers: 9\n",
            "num_of_hareshima_hameshutefet_speakers: 6\n",
            "num_of_meretz_speakers: 9\n",
            "num_of_hazionut_hadatit_speakers: 6\n",
            "num_of_tikva_hadasha_speakers: 10\n",
            "num_of_hareshima_haaravit_speakers: 5\n",
            "num_of_haavoda_speakers: 8\n",
            "num_of_israel_beitenu_speakers: 11\n"
          ]
        }
      ]
    },
    {
      "cell_type": "code",
      "source": [
        "total_speakers = (\n",
        "    len(likud_speakers) +\n",
        "    len(yesh_atid_speakers) +\n",
        "    len(shas_speakers) +\n",
        "    len(blue_and_white_speakers) +\n",
        "    len(yahadut_hatora_speakers) +\n",
        "    len(yamina_speakers) +\n",
        "    len(hareshima_hameshutefet_speakers) +\n",
        "    len(meretz_speakers) +\n",
        "    len(hazionut_hadatit_speakers) +\n",
        "    len(tikva_hadasha_speakers) +\n",
        "    len(hareshima_haaravit_speakers) +\n",
        "    len(haavoda_speakers) +\n",
        "    len(israel_beitenu_speakers)\n",
        ")\n",
        "\n",
        "print(f\"Total number of speakers: {total_speakers}\")\n"
      ],
      "metadata": {
        "colab": {
          "base_uri": "https://localhost:8080/"
        },
        "id": "XziROLYtfhLT",
        "outputId": "5fcfe828-0629-4469-85b8-149356b5f983"
      },
      "execution_count": 5,
      "outputs": [
        {
          "output_type": "stream",
          "name": "stdout",
          "text": [
            "Total number of speakers: 127\n"
          ]
        }
      ]
    },
    {
      "cell_type": "code",
      "source": [
        "combined_df.speaker.unique()"
      ],
      "metadata": {
        "colab": {
          "base_uri": "https://localhost:8080/"
        },
        "id": "zNbH71rxidtB",
        "outputId": "7d8f4f10-c6c2-483a-de1d-cb99fac0cdec"
      },
      "execution_count": 6,
      "outputs": [
        {
          "output_type": "execute_result",
          "data": {
            "text/plain": [
              "array([nan, 'מיקי לוי', 'דן מרזוק', 'אוריאל בוסו', 'מוסי רז',\n",
              "       'בועז טופורובסקי', 'אבי מעוז', 'עופר כסיף', 'משה אבוטבול',\n",
              "       'גבי לסקי', 'יולי יואל אדלשטיין', 'מופיד מרעי', 'אחמד טיבי',\n",
              "       'ישראל אייכלר', 'טטיאנה מזרסקי', 'יבגני סובה', 'צבי האוזר',\n",
              "       'ניר אורבך', 'גלעד קריב', 'עודד פורר', 'אפרת רייטן מרום',\n",
              "       'אורלי לוי אבקסיס', 'נעמה לזימי', 'דוד ביטן', 'אורי מקלב',\n",
              "       'יוסף טייב', 'אוסאמה סעדי', 'יעל רון בן משה', 'משה טור פז',\n",
              "       'אורנה ברביבאי', 'ענבר בזק', 'לימור מגן תלם', 'עלי סלאלחה',\n",
              "       'גדעון סער', 'יריב לוין', 'איתן גינזבורג', 'יעקב מרגי', 'רון כץ',\n",
              "       'יועז הנדל', 'שמחה רוטמן', 'יעקב אשר', 'אופיר אקוניס', 'נפתלי בנט',\n",
              "       'בנימין נתניהו', 'קריאה', 'קריאות', 'אופיר כץ', 'מירב בן ארי',\n",
              "       'דוד אמסלם', 'גלית דיסטל אטבריאן', 'שלמה קרעי', 'פטין מולא',\n",
              "       'אמיר אוחנה', 'מאי גולן', 'משה ארבל', \"בצלאל סמוטריץ'\",\n",
              "       'בנימין גנץ', 'איתמר בן גביר', 'עאידה תומא סלימאן', 'איימן עודה',\n",
              "       'יפעת שאשא ביטון', 'מירי מרים רגב', 'זאב אלקין', 'יואב קיש',\n",
              "       'ולדימיר בליאק', 'אלי כהן', 'אורית מלכה סטרוק', 'יאיר גולן',\n",
              "       'יואל רזבוזוב', 'שירלי פינטו קדוש', 'יסמין פרידמן', 'נירה שפק',\n",
              "       'ניצן הורוביץ', 'ינון אזולאי', 'משה גפני', 'יואב גלנט',\n",
              "       'חיים ביטון', 'מיכאל מלכיאלי', 'מיכל רוזין', 'סמי אבו שחאדה',\n",
              "       'אלי אבידר', \"אלינה ברדץ' יאלוב\", \"יואב סגלוביץ'\",\n",
              "       'דסטה גדי יברקן', 'יוסף שיין', 'אלינור ימין', 'ישראל כץ',\n",
              "       'יובל שטייניץ', 'קטי קטרין שטרית', 'ניר ברקת', 'עידן רול',\n",
              "       'יצחק פינדרוס', \"ג'ידא רינאוי זועבי\", 'אבי דיכטר', 'קרן ברק',\n",
              "       'מרב מיכאלי', 'מאיר פרוש', 'חמד עמאר', 'יואב בן צור', 'אלון שוסטר',\n",
              "       'עמיחי שיקלי', 'מיכל וולדיגר', 'רות וסרמן לנדה', 'קארין אלהרר',\n",
              "       'מתן כהנא', 'הממשלה נפתלי בנט', 'מיכל שיר סגמן', 'אלכס קושניר',\n",
              "       'מנסור עבאס', 'מאיר כהן', 'אלעזר שטרן', 'עידית סילמן',\n",
              "       'אמילי חיה מואטי', 'אופיר סופר', 'אילת שקד', 'חיים כץ',\n",
              "       'תומא סלימאן (הרשימה המשותפת)', 'יאיר לפיד', 'יוראי להב הרצנו',\n",
              "       'גילה גמליאל', \"אימאן ח'טיב יאסין\", 'רם שפע', 'חוה אתי עטייה',\n",
              "       'תמר זנדברג', 'מכלוף מיקי זוהר', 'יעקב ליצמן', 'רוברטה מטסולה',\n",
              "       'רם בן ברק', 'מיכאל מרדכי ביטון', 'אזורי עיסאווי',\n",
              "       'זאב בנימין בגין', 'עמר בר לב', 'מאיר יצחק הלוי', 'אבתיסאם מראענה',\n",
              "       'חילי טרופר', 'אביר קארה', 'שרן מרים השכל',\n",
              "       '<< קריאה >> מאיר פרוש', 'מירב כהן', 'ראדה חסייסי',\n",
              "       'סימון דוידסון', 'מאזן גנאים', 'נחמן שי', 'ווליד טאהא',\n",
              "       'יוליה מלינובסקי', 'יעקב טסלר', 'פנינה תמנו', 'צחי הנגבי'],\n",
              "      dtype=object)"
            ]
          },
          "metadata": {},
          "execution_count": 6
        }
      ]
    },
    {
      "cell_type": "code",
      "source": [
        "# Get the unique speakers from combined_df, ensuring they are strings\n",
        "unique_speakers_in_df = {str(speaker) for speaker in combined_df.speaker.unique() if isinstance(speaker, str)}\n",
        "\n",
        "# Get the speakers from the mapping, ensuring they are strings\n",
        "speakers_in_mapping = {str(speaker) for speaker in speaker_to_party.keys() if isinstance(speaker, str)}\n",
        "\n",
        "# Find speakers in combined_df but not in the mapping\n",
        "speakers_not_in_mapping = sorted(unique_speakers_in_df - speakers_in_mapping)\n",
        "print(\"Speakers in combined_df but not in the mapping:\")\n",
        "for idx, speaker in enumerate(speakers_not_in_mapping, start=1):\n",
        "    print(f\"{idx}. {speaker}\")\n",
        "\n",
        "# Find speakers in the mapping but not in combined_df\n",
        "speakers_not_in_df = sorted(speakers_in_mapping - unique_speakers_in_df)\n",
        "print(\"\\nSpeakers in the mapping but not in combined_df:\")\n",
        "for idx, speaker in enumerate(speakers_not_in_df, start=1):\n",
        "    print(f\"{idx}. {speaker}\")\n"
      ],
      "metadata": {
        "colab": {
          "base_uri": "https://localhost:8080/"
        },
        "id": "K4Rdp_WPkuXx",
        "outputId": "94f19267-e027-426d-982f-1f11052fdaaf"
      },
      "execution_count": 7,
      "outputs": [
        {
          "output_type": "stream",
          "name": "stdout",
          "text": [
            "Speakers in combined_df but not in the mapping:\n",
            "1. << קריאה >> מאיר פרוש\n",
            "2. אופיר סופר\n",
            "3. אורית מלכה סטרוק\n",
            "4. אזורי עיסאווי\n",
            "5. אילת שקד\n",
            "6. אימאן ח'טיב יאסין\n",
            "7. אלי כהן\n",
            "8. אלינה ברדץ' יאלוב\n",
            "9. אלינור ימין\n",
            "10. אלעזר שטרן\n",
            "11. בועז טופורובסקי\n",
            "12. בנימין גנץ\n",
            "13. דן מרזוק\n",
            "14. הממשלה נפתלי בנט\n",
            "15. ולדימיר בליאק\n",
            "16. טטיאנה מזרסקי\n",
            "17. יואב סגלוביץ'\n",
            "18. יואל רזבוזוב\n",
            "19. יוראי להב הרצנו\n",
            "20. יסמין פרידמן\n",
            "21. יצחק פינדרוס\n",
            "22. מאיר יצחק הלוי\n",
            "23. מאיר כהן\n",
            "24. מיכל וולדיגר\n",
            "25. מיקי לוי\n",
            "26. מירב בן ארי\n",
            "27. משה טור פז\n",
            "28. נחמן שי\n",
            "29. נירה שפק\n",
            "30. סימון דוידסון\n",
            "31. עידן רול\n",
            "32. עמר בר לב\n",
            "33. ענבר בזק\n",
            "34. פנינה תמנו\n",
            "35. קארין אלהרר\n",
            "36. קריאה\n",
            "37. קריאות\n",
            "38. ראדה חסייסי\n",
            "39. רוברטה מטסולה\n",
            "40. רון כץ\n",
            "41. רם בן ברק\n",
            "42. תומא סלימאן (הרשימה המשותפת)\n",
            "\n",
            "Speakers in the mapping but not in combined_df:\n",
            "1. אביגדור ליברמן\n",
            "2. אורית סטרוק\n",
            "3. אורית פרקש הכהן\n",
            "4. איילת שקד\n",
            "5. אימאן חטיב יאסין\n",
            "6. אלון טל\n",
            "7. אלי אליהו כהן\n",
            "8. אליהו ברוכי\n",
            "9. אלינה ברדץ יאלוב\n",
            "10. אריה מכלוף דרעי\n",
            "11. בני גנץ\n",
            "12. טלי פלוסקוב\n",
            "13. יום טוב חי כלפון\n",
            "14. יצחק זאב פינדרוס\n",
            "15. מאיר יצחק-הלוי\n",
            "16. מיכל מרים וולדיגר\n",
            "17. מישל בוסקילה\n",
            "18. סעיד אלחרומי\n",
            "19. עיסאווי פריג'\n",
            "20. עמר בר-לב\n",
            "21. פנינה תמנו שטה\n",
            "22. שרון רופא אופיר\n"
          ]
        }
      ]
    },
    {
      "cell_type": "code",
      "source": [
        "# Fix discrepancies in combined_df and mapping\n",
        "additional_mappings = {\n",
        "    \"<< קריאה >> מאיר פרוש\": \"יהדות התורה\",\n",
        "    \"אופיר סופר\": \"הציונות הדתית\",\n",
        "    \"אורית מלכה סטרוק\": \"הציונות הדתית\",\n",
        "    \"אזורי עיסאווי\": \"מרצ\",\n",
        "    \"אילת שקד\": \"ימינה\",\n",
        "    \"אימאן ח'טיב יאסין\": \"הרשימה הערבית המאוחדת\",\n",
        "    \"אלי כהן\": \"הליכוד\",\n",
        "    \"אלינה ברדץ' יאלוב\": \"ישראל ביתנו\",\n",
        "    \"אלינור ימין\": \"no party\",  # מזכירות הכנסת\n",
        "    \"אלעזר שטרן\": \"כחול לבן\",\n",
        "    \"בועז טופורובסקי\": \"יש עתיד\",\n",
        "    \"בנימין גנץ\": \"כחול לבן\",\n",
        "    \"דן מרזוק\": \"no party\",  # מזכירות הכנסת\n",
        "    \"הממשלה נפתלי בנט\": \"ימינה\",\n",
        "    \"ולדימיר בליאק\": \"יש עתיד\",\n",
        "    \"טטיאנה מזרסקי\": \"יש עתיד\",\n",
        "    \"יואב סגלוביץ'\": \"יש עתיד\",\n",
        "    \"יואל רזבוזוב\": \"יש עתיד\",\n",
        "    \"יוראי להב הרצנו\": \"יש עתיד\",\n",
        "    \"יסמין פרידמן\": \"יש עתיד\",\n",
        "    \"יצחק פינדרוס\": \"יהדות התורה\",\n",
        "    \"מאיר יצחק הלוי\": \"תקווה חדשה\",\n",
        "    \"מאיר כהן\": \"יש עתיד\",\n",
        "    \"מיכל וולדיגר\": \"הציונות הדתית\",\n",
        "    \"מיקי לוי\": \"יש עתיד\",\n",
        "    \"מירב בן ארי\": \"יש עתיד\",\n",
        "    \"משה טור פז\": \"יש עתיד\",\n",
        "    \"נחמן שי\": \"העבודה\",\n",
        "    \"נירה שפק\": \"יש עתיד\",\n",
        "    \"סימון דוידסון\": \"יש עתיד\",\n",
        "    \"עידן רול\": \"יש עתיד\",\n",
        "    \"עמר בר לב\": \"העבודה\",\n",
        "    \"ענבר בזק\": \"יש עתיד\",\n",
        "    \"פנינה תמנו\": \"כחול לבן\",\n",
        "    \"קארין אלהרר\": \"יש עתיד\",\n",
        "    \"קריאה\": \"unknown speaker\",  # Metadata, ignore\n",
        "    \"קריאות\": \"unknown speaker\",  # Metadata, ignore\n",
        "    \"ראדה חסייסי\": \"no party\",  # מזכירות הכנסת\n",
        "    \"רוברטה מטסולה\": \"no party\",  # נשיאת הפרלמנט האירופי\n",
        "    \"רון כץ\": \"יש עתיד\",\n",
        "    \"רם בן ברק\": \"יש עתיד\",\n",
        "    \"תומא סלימאן (הרשימה המשותפת)\": \"הרשימה המשותפת\",\n",
        "}\n",
        "\n",
        "# Merge additional mappings into the existing dictionary\n",
        "speaker_to_party.update(additional_mappings)\n",
        "\n",
        "# Remove unused mappings\n",
        "unused_mappings = [\n",
        "    \"אורית סטרוק\",  # Already mapped as \"אורית מלכה סטרוק\"\n",
        "    \"איילת שקד\",  # Already mapped as \"אילת שקד\"\n",
        "    \"אימאן חטיב יאסין\",  # Already mapped as \"אימאן ח'טיב יאסין\"\n",
        "    \"אלי אליהו כהן\",  # Already mapped as \"אלי כהן\"\n",
        "    \"אלינה ברדץ יאלוב\",  # Already mapped as \"אלינה ברדץ' יאלוב\"\n",
        "    \"עיסאווי פריג'\",  # Already mapped as \"אזורי עיסאווי\"\n",
        "    \"עמר בר-לב\",  # Already mapped as \"עמר בר לב\"\n",
        "    \"פנינה תמנו שטה\",  # Already mapped as \"פנינה תמנו\"\n",
        "]\n",
        "for unused in unused_mappings:\n",
        "    speaker_to_party.pop(unused, None)\n"
      ],
      "metadata": {
        "id": "bdSeqG41oC8a"
      },
      "execution_count": 8,
      "outputs": []
    },
    {
      "cell_type": "code",
      "source": [
        "def impute_party(df, mapping):\n",
        "    \"\"\"\n",
        "    Impute missing 'party' values in the DataFrame based on the 'speaker_to_party' mapping.\n",
        "\n",
        "    Parameters:\n",
        "        df (pd.DataFrame): The DataFrame containing columns 'speaker' and 'party'.\n",
        "        mapping (dict): A dictionary mapping speakers to their respective parties.\n",
        "\n",
        "    Returns:\n",
        "        pd.DataFrame: The updated DataFrame with imputed 'party' values.\n",
        "    \"\"\"\n",
        "    # Impute missing 'party' values using the mapping\n",
        "    df['party'] = df['speaker'].map(mapping).fillna(df['party'])\n",
        "    return df\n",
        "\n",
        "# Apply the function to impute missing party values\n",
        "processed_combined_df = impute_party(combined_df, speaker_to_party)\n",
        "\n",
        "# Inspect the result\n",
        "print(processed_combined_df[['speaker', 'party']].head())\n"
      ],
      "metadata": {
        "colab": {
          "base_uri": "https://localhost:8080/"
        },
        "id": "zHlbcobh5bOh",
        "outputId": "7253b0dd-6227-4b0d-9565-0ef591e2e986"
      },
      "execution_count": 9,
      "outputs": [
        {
          "output_type": "stream",
          "name": "stdout",
          "text": [
            "    speaker     party\n",
            "0       NaN       NaN\n",
            "1  מיקי לוי   יש עתיד\n",
            "2  דן מרזוק  no party\n",
            "3  מיקי לוי   יש עתיד\n",
            "4  מיקי לוי   יש עתיד\n"
          ]
        }
      ]
    },
    {
      "cell_type": "code",
      "source": [
        "combined_df.info()"
      ],
      "metadata": {
        "colab": {
          "base_uri": "https://localhost:8080/"
        },
        "id": "azR4OovCrImE",
        "outputId": "36feb32e-7824-4d62-b77f-6f3a549b5fee"
      },
      "execution_count": 10,
      "outputs": [
        {
          "output_type": "stream",
          "name": "stdout",
          "text": [
            "<class 'pandas.core.frame.DataFrame'>\n",
            "RangeIndex: 14418 entries, 0 to 14417\n",
            "Data columns (total 8 columns):\n",
            " #   Column       Non-Null Count  Dtype  \n",
            "---  ------       --------------  -----  \n",
            " 0   knesset      0 non-null      float64\n",
            " 1   session      14418 non-null  int64  \n",
            " 2   speaker      14407 non-null  object \n",
            " 3   party        14407 non-null  object \n",
            " 4   role         6331 non-null   object \n",
            " 5   text         14414 non-null  object \n",
            " 6   subject      14418 non-null  object \n",
            " 7   sub_subject  9230 non-null   object \n",
            "dtypes: float64(1), int64(1), object(6)\n",
            "memory usage: 901.2+ KB\n"
          ]
        }
      ]
    },
    {
      "cell_type": "code",
      "source": [
        "# Save the processed DataFrame to a CSV file\n",
        "processed_combined_df.to_csv(\"processed_combined_data.csv\", index=False)\n",
        "\n",
        "print(\"Imputed data has been saved to 'processed_combined_data.csv'.\")\n"
      ],
      "metadata": {
        "colab": {
          "base_uri": "https://localhost:8080/"
        },
        "id": "kt-kcHj2z5KC",
        "outputId": "8e8c1165-9342-4b78-e82f-ecca9dc7ec81"
      },
      "execution_count": 11,
      "outputs": [
        {
          "output_type": "stream",
          "name": "stdout",
          "text": [
            "Imputed data has been saved to 'processed_combined_data.csv'.\n"
          ]
        }
      ]
    },
    {
      "cell_type": "code",
      "source": [
        "missing_party = processed_combined_df[processed_combined_df['party'].isna()]\n",
        "print(missing_party[['speaker', 'party']].head())\n",
        "print(f\"Number of rows with missing 'party': {len(missing_party)}\")\n"
      ],
      "metadata": {
        "colab": {
          "base_uri": "https://localhost:8080/"
        },
        "id": "HnbB32DAsNcW",
        "outputId": "284814f1-d784-4413-cfc1-28d777c27f84"
      },
      "execution_count": 12,
      "outputs": [
        {
          "output_type": "stream",
          "name": "stdout",
          "text": [
            "     speaker party\n",
            "0        NaN   NaN\n",
            "2048     NaN   NaN\n",
            "4006     NaN   NaN\n",
            "4077     NaN   NaN\n",
            "4707     NaN   NaN\n",
            "Number of rows with missing 'party': 11\n"
          ]
        }
      ]
    },
    {
      "cell_type": "code",
      "source": [
        "missing_speakers = missing_party['speaker'].unique()\n",
        "print(f\"Speakers with missing 'party': {missing_speakers}\")\n"
      ],
      "metadata": {
        "colab": {
          "base_uri": "https://localhost:8080/"
        },
        "id": "pspzRprasPwJ",
        "outputId": "ba31b4da-4dc9-4a21-a01d-21c13c30f9c4"
      },
      "execution_count": 13,
      "outputs": [
        {
          "output_type": "stream",
          "name": "stdout",
          "text": [
            "Speakers with missing 'party': [nan]\n"
          ]
        }
      ]
    },
    {
      "cell_type": "code",
      "source": [
        "missing_in_mapping = [speaker for speaker in missing_speakers if speaker not in speaker_to_party]\n",
        "print(f\"Speakers not in mapping: {missing_in_mapping}\")\n"
      ],
      "metadata": {
        "colab": {
          "base_uri": "https://localhost:8080/"
        },
        "id": "m2EoxIXjstGV",
        "outputId": "2035448a-a33e-45d8-d40c-fd837dd96a9d"
      },
      "execution_count": 14,
      "outputs": [
        {
          "output_type": "stream",
          "name": "stdout",
          "text": [
            "Speakers not in mapping: [nan]\n"
          ]
        }
      ]
    },
    {
      "cell_type": "code",
      "source": [
        "missing_speaker_rows = processed_combined_df[processed_combined_df['speaker'].isna()]\n",
        "print(missing_speaker_rows.head())\n",
        "print(f\"Number of rows with missing 'speaker': {len(missing_speaker_rows)}\")\n"
      ],
      "metadata": {
        "colab": {
          "base_uri": "https://localhost:8080/"
        },
        "id": "iHBOGrYztJNu",
        "outputId": "fe071cee-42b1-4f9e-e1bf-a5ef271fe641"
      },
      "execution_count": 15,
      "outputs": [
        {
          "output_type": "stream",
          "name": "stdout",
          "text": [
            "      knesset  session speaker party role  \\\n",
            "0         NaN      127     NaN   NaN  NaN   \n",
            "2048      NaN      129     NaN   NaN  NaN   \n",
            "4006      NaN      130     NaN   NaN  NaN   \n",
            "4077      NaN      131     NaN   NaN  NaN   \n",
            "4707      NaN      132     NaN   NaN  NaN   \n",
            "\n",
            "                                                   text  \\\n",
            "0                         דברי הכנסתחוברת כ\"וישיבה קכ\"ז   \n",
            "2048  דברי הכנסתכז / מושב שני / ישיבות קכ\"ט–קל\"א /ט\"...   \n",
            "4006                       דברי הכנסתחוברת כ\"זישיבה ק\"ל   \n",
            "4077                      דברי הכנסתחוברת כ\"זישיבה קל\"א   \n",
            "4707  דברי הכנסתכח / מושב שני / ישיבות קל\"ב–קל\"ד /כ\"...   \n",
            "\n",
            "                           subject sub_subject  \n",
            "0     מסמכים שהונחו על שולחן הכנסת         NaN  \n",
            "2048  מסמכים שהונחו על שולחן הכנסת         NaN  \n",
            "4006  מסמכים שהונחו על שולחן הכנסת         NaN  \n",
            "4077                שאילתות דחופות         NaN  \n",
            "4707  מסמכים שהונחו על שולחן הכנסת         NaN  \n",
            "Number of rows with missing 'speaker': 11\n"
          ]
        }
      ]
    },
    {
      "cell_type": "markdown",
      "source": [
        "מה שעזר לתייג את כל המפלגות באופן סופי ובהתאם לדובר, היה נורמליזציה שלמעשה מורידה רווחים או איות שונה אצל הדובר ולמעשה מחדד מי הוא הדובר. רק לאחר מכן עושים מיפוי למפלגות ואז הצלחה מובטחת !!\n",
        "\n",
        "נותרו 11 שורות בהן הדובר אינו ידוע והמפלגה אינה ידועה גם היא.\n",
        "\n",
        "יש תיוג של מספר דוברי מזכירות הכנסת ונשיאת הפרלמנט האירופאי כ\"ללא מפלגה\" במפלגה.\n",
        "\n",
        "יש תיוג של מספר שורות של מטאדאטה כלשהו, כלומר דובר עם משהו אחר שאינו שם אלא קריאה כלשהי וגם זה מתוייג כ\"דובר אינו ידוע\" במפלגה.\n",
        "\n"
      ],
      "metadata": {
        "id": "A9m7aNAju38J"
      }
    },
    {
      "cell_type": "markdown",
      "source": [
        "להלן צילום מסך של השורות עם דובר שמתוייג כ\"קריאה\" למשל, וניתן לראות שיש טקסט שמישהו מדבר ואומר. כלומר במצב כזה נידרש להמשך תיוג בעזרת\n",
        "\n",
        "count vectorizer\n",
        "\n",
        "כדי להתאים את הדובר למילות המפתח שנאמרו בטקסט."
      ],
      "metadata": {
        "id": "mZdKEHf_0p7Z"
      }
    },
    {
      "cell_type": "markdown",
      "source": [
        "![כנסת24_9.png](data:image/png;base64,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)"
      ],
      "metadata": {
        "id": "ppcQmbYRGDJD"
      }
    },
    {
      "cell_type": "code",
      "source": [
        "# Filter rows where the 'speaker' column is NaN\n",
        "missing_speaker_rows = combined_df[combined_df['speaker'].isna()]\n",
        "\n",
        "# Display the rows\n",
        "print(missing_speaker_rows)\n",
        "\n",
        "# Optional: Save to a CSV for manual review\n",
        "missing_speaker_rows.to_csv(\"missing_speaker_rows.csv\", index=False)\n"
      ],
      "metadata": {
        "colab": {
          "base_uri": "https://localhost:8080/"
        },
        "id": "ICjnHIN-vMUW",
        "outputId": "57d2b039-fe8b-4343-c22e-1699caab102e"
      },
      "execution_count": 16,
      "outputs": [
        {
          "output_type": "stream",
          "name": "stdout",
          "text": [
            "       knesset  session speaker party role  \\\n",
            "0          NaN      127     NaN   NaN  NaN   \n",
            "2048       NaN      129     NaN   NaN  NaN   \n",
            "4006       NaN      130     NaN   NaN  NaN   \n",
            "4077       NaN      131     NaN   NaN  NaN   \n",
            "4707       NaN      132     NaN   NaN  NaN   \n",
            "6837       NaN      133     NaN   NaN  NaN   \n",
            "6888       NaN      134     NaN   NaN  NaN   \n",
            "8614       NaN      135     NaN   NaN  NaN   \n",
            "9643       NaN      136     NaN   NaN  NaN   \n",
            "9961       NaN      137     NaN   NaN  NaN   \n",
            "12373      NaN      138     NaN   NaN  NaN   \n",
            "\n",
            "                                                    text  \\\n",
            "0                          דברי הכנסתחוברת כ\"וישיבה קכ\"ז   \n",
            "2048   דברי הכנסתכז / מושב שני / ישיבות קכ\"ט–קל\"א /ט\"...   \n",
            "4006                        דברי הכנסתחוברת כ\"זישיבה ק\"ל   \n",
            "4077                       דברי הכנסתחוברת כ\"זישיבה קל\"א   \n",
            "4707   דברי הכנסתכח / מושב שני / ישיבות קל\"ב–קל\"ד /כ\"...   \n",
            "6837                       דברי הכנסתחוברת כ\"חישיבה קל\"ג   \n",
            "6888                       דברי הכנסתחוברת כ\"חישיבה קל\"ד   \n",
            "8614   דברי הכנסתכט / מושב שני / ישיבות קל\"ה–קל\"ז /כ\"...   \n",
            "9643                       דברי הכנסתחוברת כ\"טישיבה קל\"ו   \n",
            "9961                       דברי הכנסתחוברת כ\"טישיבה קל\"ז   \n",
            "12373  דברי הכנסתל / מושב שני / ישיבות קל\"ח–ק\"מ /ז'–ט...   \n",
            "\n",
            "                            subject sub_subject  \n",
            "0      מסמכים שהונחו על שולחן הכנסת         NaN  \n",
            "2048   מסמכים שהונחו על שולחן הכנסת         NaN  \n",
            "4006   מסמכים שהונחו על שולחן הכנסת         NaN  \n",
            "4077                 שאילתות דחופות         NaN  \n",
            "4707   מסמכים שהונחו על שולחן הכנסת         NaN  \n",
            "6837                 נאומים בני דקה         NaN  \n",
            "6888                שאילתות ותשובות         NaN  \n",
            "8614   מסמכים שהונחו על שולחן הכנסת         NaN  \n",
            "9643                 נאומים בני דקה         NaN  \n",
            "9961                 שאילתות דחופות         NaN  \n",
            "12373  מסמכים שהונחו על שולחן הכנסת         NaN  \n"
          ]
        }
      ]
    },
    {
      "cell_type": "markdown",
      "source": [
        "**ניתן לצפות בפרטי 11 השורות בהן אין דובר&מפלגה בתמונות הבאות :**"
      ],
      "metadata": {
        "id": "2NN9OIVfyU6c"
      }
    },
    {
      "cell_type": "markdown",
      "source": [
        "![כנסת24_5.png](data:image/png;base64,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)"
      ],
      "metadata": {
        "id": "d9EgFf_AyGPR"
      }
    },
    {
      "cell_type": "markdown",
      "source": [
        "![כנסת24_6.png](data:image/png;base64,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)"
      ],
      "metadata": {
        "id": "48fRkdIFyRyU"
      }
    },
    {
      "cell_type": "markdown",
      "source": [
        "הצילומי מסך הקודמים היו עבור 11 השורות בלבד, אבל אז פילטרתי בקובץ החדש שיצרתי\n",
        "\n",
        "processed_combined_data.csv\n",
        "\n",
        "לאחר\n",
        "\n",
        "imputation speaker_to_party\n",
        "\n",
        "לפי מילות מפתח \"דברי הכנסתחוברת\" ומצאתי כי מי שפותח באופן זה את המליאה הוא היו\"ר איתן גינזבורג ממפלגת כחול לבן.\n",
        "\n",
        "להלן הוכחה מצולמת:\n"
      ],
      "metadata": {
        "id": "ZvJ9MvEe1dAb"
      }
    },
    {
      "cell_type": "markdown",
      "source": [
        "![כנסת24_8.png](data:image/png;base64,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)"
      ],
      "metadata": {
        "id": "xRWvpoTh1ZcF"
      }
    },
    {
      "cell_type": "code",
      "source": [
        "# Filter rows with NaN in 'speaker' and the specific keyword in 'text'\n",
        "keyword =  \"דברי הכנסתחוברת כ\"\n",
        "rows_to_update = (processed_combined_df['speaker'].isna()) & (processed_combined_df['text'].str.contains(keyword, na=False))\n",
        "\n",
        "# Impute 'speaker' and 'party' for these rows\n",
        "processed_combined_df.loc[rows_to_update, 'speaker'] = \"איתן גינזבורג\"\n",
        "processed_combined_df.loc[rows_to_update, 'party'] = \"כחול לבן\"\n",
        "\n",
        "# Save the updated DataFrame to a new CSV\n",
        "processed_combined_df.to_csv(\"processed_combined_data.csv\", index=False)\n",
        "\n",
        "print(f\"Imputed {rows_to_update.sum()} rows with speaker as איתן גינזבורג and party as כחול לבן.\")\n"
      ],
      "metadata": {
        "colab": {
          "base_uri": "https://localhost:8080/"
        },
        "id": "j_tYjRJw3uRH",
        "outputId": "e2f0a578-02b8-4daa-ba2a-70a8a4677327"
      },
      "execution_count": 17,
      "outputs": [
        {
          "output_type": "stream",
          "name": "stdout",
          "text": [
            "Imputed 7 rows with speaker as איתן גינזבורג and party as כחול לבן.\n"
          ]
        }
      ]
    },
    {
      "cell_type": "markdown",
      "source": [
        "אחרי הפילטור הנ\"ל שוב יש שמירה לקובץ\n",
        "\n",
        "processed_combined_data.csv"
      ],
      "metadata": {
        "id": "Fz37X57x5oah"
      }
    },
    {
      "cell_type": "code",
      "source": [
        "combined_df.info()"
      ],
      "metadata": {
        "colab": {
          "base_uri": "https://localhost:8080/"
        },
        "id": "5vkSzRJr5y83",
        "outputId": "2c43f8b2-7b2c-4f6c-8885-00259a7f5920"
      },
      "execution_count": 18,
      "outputs": [
        {
          "output_type": "stream",
          "name": "stdout",
          "text": [
            "<class 'pandas.core.frame.DataFrame'>\n",
            "RangeIndex: 14418 entries, 0 to 14417\n",
            "Data columns (total 8 columns):\n",
            " #   Column       Non-Null Count  Dtype  \n",
            "---  ------       --------------  -----  \n",
            " 0   knesset      0 non-null      float64\n",
            " 1   session      14418 non-null  int64  \n",
            " 2   speaker      14414 non-null  object \n",
            " 3   party        14414 non-null  object \n",
            " 4   role         6331 non-null   object \n",
            " 5   text         14414 non-null  object \n",
            " 6   subject      14418 non-null  object \n",
            " 7   sub_subject  9230 non-null   object \n",
            "dtypes: float64(1), int64(1), object(6)\n",
            "memory usage: 901.2+ KB\n"
          ]
        }
      ]
    },
    {
      "cell_type": "code",
      "source": [
        "# Normalize the 'text' column for consistent keyword matching\n",
        "processed_combined_df['text_normalized'] = (\n",
        "    processed_combined_df['text']\n",
        "    .str.lower()  # Lowercase\n",
        "    .str.strip()  # Strip leading/trailing whitespace\n",
        "    .str.replace(r'[^\\w\\s]', '', regex=True)  # Remove special characters\n",
        "    .str.replace(r'\\s+', ' ', regex=True)  # Replace multiple spaces with one\n",
        ")\n",
        "\n",
        "# Check for rows with NaN speakers and normalized keyword\n",
        "rows_to_update = (\n",
        "    processed_combined_df['speaker'].isna() &\n",
        "    processed_combined_df['text_normalized'].str.contains(\"דברי הכנסתחוברת\", na=False)\n",
        ")\n",
        "\n",
        "# Impute 'speaker' and 'party' for these rows\n",
        "processed_combined_df.loc[rows_to_update, 'speaker'] = \"איתן גינזבורג\"\n",
        "processed_combined_df.loc[rows_to_update, 'party'] = \"כחול לבן\"\n",
        "\n",
        "# Save the updated DataFrame to a new CSV\n",
        "processed_combined_df.to_csv(\"processed_combined_data.csv\", index=False)\n",
        "\n",
        "# Print the number of rows updated\n",
        "print(f\"Imputed {rows_to_update.sum()} additional rows with speaker as איתן גינזבורג and party as כחול לבן.\")\n"
      ],
      "metadata": {
        "colab": {
          "base_uri": "https://localhost:8080/"
        },
        "id": "K_CsKfKX9RXM",
        "outputId": "a6f04016-b074-4a35-95ed-37ae649b69ec"
      },
      "execution_count": 175,
      "outputs": [
        {
          "output_type": "stream",
          "name": "stdout",
          "text": [
            "Imputed 0 additional rows with speaker as איתן גינזבורג and party as כחול לבן.\n"
          ]
        }
      ]
    },
    {
      "cell_type": "markdown",
      "source": [
        "עדיין חסר התיוג לגבי 4 מקרים נוספים, כי המילות מפתח טיפה שונות ולכן בהמשך השתמשתי בעמודת ה\n",
        "\n",
        "subject\n",
        "\n",
        "שגם פילטור שלה הראה אותה אבחנה לאותן שורות חסרות דובר שהן למעשה רלוונטיות ליו\"ר הכנסת."
      ],
      "metadata": {
        "id": "1Xs3FWKb8nrK"
      }
    },
    {
      "cell_type": "code",
      "source": [
        "# Filter rows where the 'speaker' column is NaN\n",
        "missing_speaker_rows2 = combined_df[combined_df['speaker'].isna()]\n",
        "\n",
        "# Display the rows\n",
        "print(missing_speaker_rows2)\n",
        "\n",
        "# Optional: Save to a CSV for manual review\n",
        "missing_speaker_rows2.to_csv(\"missing_speaker_rows2.csv\", index=False)\n"
      ],
      "metadata": {
        "colab": {
          "base_uri": "https://localhost:8080/"
        },
        "id": "bVOJqsE2_rNB",
        "outputId": "e3d124a8-b65e-461d-ad78-b8e2fc080bcb"
      },
      "execution_count": 19,
      "outputs": [
        {
          "output_type": "stream",
          "name": "stdout",
          "text": [
            "       knesset  session speaker party role  \\\n",
            "2048       NaN      129     NaN   NaN  NaN   \n",
            "4707       NaN      132     NaN   NaN  NaN   \n",
            "8614       NaN      135     NaN   NaN  NaN   \n",
            "12373      NaN      138     NaN   NaN  NaN   \n",
            "\n",
            "                                                    text  \\\n",
            "2048   דברי הכנסתכז / מושב שני / ישיבות קכ\"ט–קל\"א /ט\"...   \n",
            "4707   דברי הכנסתכח / מושב שני / ישיבות קל\"ב–קל\"ד /כ\"...   \n",
            "8614   דברי הכנסתכט / מושב שני / ישיבות קל\"ה–קל\"ז /כ\"...   \n",
            "12373  דברי הכנסתל / מושב שני / ישיבות קל\"ח–ק\"מ /ז'–ט...   \n",
            "\n",
            "                            subject sub_subject  \n",
            "2048   מסמכים שהונחו על שולחן הכנסת         NaN  \n",
            "4707   מסמכים שהונחו על שולחן הכנסת         NaN  \n",
            "8614   מסמכים שהונחו על שולחן הכנסת         NaN  \n",
            "12373  מסמכים שהונחו על שולחן הכנסת         NaN  \n"
          ]
        }
      ]
    },
    {
      "cell_type": "code",
      "source": [
        "# # Check for rows with NaN speakers and normalized keyword\n",
        "# rows_to_update = (\n",
        "#     processed_combined_df['speaker'].isna() &\n",
        "#     processed_combined_df['text_normalized'].str.contains(\"דברי הכנסתל\", na=False)\n",
        "# )\n",
        "\n",
        "# # Impute 'speaker' and 'party' for these rows\n",
        "# processed_combined_df.loc[rows_to_update, 'speaker'] = \"איתן גינזבורג\"\n",
        "# processed_combined_df.loc[rows_to_update, 'party'] = \"כחול לבן\"\n",
        "\n",
        "# # Save the updated DataFrame to a new CSV\n",
        "# processed_combined_df.to_csv(\"processed_combined_data.csv\", index=False)\n",
        "\n",
        "# # Print the number of rows updated\n",
        "# print(f\"Imputed {rows_to_update.sum()} additional rows with speaker as איתן גינזבורג and party as כחול לבן.\")"
      ],
      "metadata": {
        "colab": {
          "base_uri": "https://localhost:8080/",
          "height": 547
        },
        "id": "2D7JCW1HAi21",
        "outputId": "ae91729d-ab56-4448-a882-313bd2eb8e30"
      },
      "execution_count": 20,
      "outputs": [
        {
          "output_type": "error",
          "ename": "KeyError",
          "evalue": "'text_normalized'",
          "traceback": [
            "\u001b[0;31m---------------------------------------------------------------------------\u001b[0m",
            "\u001b[0;31mKeyError\u001b[0m                                  Traceback (most recent call last)",
            "\u001b[0;32m/usr/local/lib/python3.10/dist-packages/pandas/core/indexes/base.py\u001b[0m in \u001b[0;36mget_loc\u001b[0;34m(self, key)\u001b[0m\n\u001b[1;32m   3804\u001b[0m         \u001b[0;32mtry\u001b[0m\u001b[0;34m:\u001b[0m\u001b[0;34m\u001b[0m\u001b[0;34m\u001b[0m\u001b[0m\n\u001b[0;32m-> 3805\u001b[0;31m             \u001b[0;32mreturn\u001b[0m \u001b[0mself\u001b[0m\u001b[0;34m.\u001b[0m\u001b[0m_engine\u001b[0m\u001b[0;34m.\u001b[0m\u001b[0mget_loc\u001b[0m\u001b[0;34m(\u001b[0m\u001b[0mcasted_key\u001b[0m\u001b[0;34m)\u001b[0m\u001b[0;34m\u001b[0m\u001b[0;34m\u001b[0m\u001b[0m\n\u001b[0m\u001b[1;32m   3806\u001b[0m         \u001b[0;32mexcept\u001b[0m \u001b[0mKeyError\u001b[0m \u001b[0;32mas\u001b[0m \u001b[0merr\u001b[0m\u001b[0;34m:\u001b[0m\u001b[0;34m\u001b[0m\u001b[0;34m\u001b[0m\u001b[0m\n",
            "\u001b[0;32mindex.pyx\u001b[0m in \u001b[0;36mpandas._libs.index.IndexEngine.get_loc\u001b[0;34m()\u001b[0m\n",
            "\u001b[0;32mindex.pyx\u001b[0m in \u001b[0;36mpandas._libs.index.IndexEngine.get_loc\u001b[0;34m()\u001b[0m\n",
            "\u001b[0;32mpandas/_libs/hashtable_class_helper.pxi\u001b[0m in \u001b[0;36mpandas._libs.hashtable.PyObjectHashTable.get_item\u001b[0;34m()\u001b[0m\n",
            "\u001b[0;32mpandas/_libs/hashtable_class_helper.pxi\u001b[0m in \u001b[0;36mpandas._libs.hashtable.PyObjectHashTable.get_item\u001b[0;34m()\u001b[0m\n",
            "\u001b[0;31mKeyError\u001b[0m: 'text_normalized'",
            "\nThe above exception was the direct cause of the following exception:\n",
            "\u001b[0;31mKeyError\u001b[0m                                  Traceback (most recent call last)",
            "\u001b[0;32m<ipython-input-20-9c54471fc36e>\u001b[0m in \u001b[0;36m<cell line: 3>\u001b[0;34m()\u001b[0m\n\u001b[1;32m      2\u001b[0m rows_to_update = (\n\u001b[1;32m      3\u001b[0m     \u001b[0mprocessed_combined_df\u001b[0m\u001b[0;34m[\u001b[0m\u001b[0;34m'speaker'\u001b[0m\u001b[0;34m]\u001b[0m\u001b[0;34m.\u001b[0m\u001b[0misna\u001b[0m\u001b[0;34m(\u001b[0m\u001b[0;34m)\u001b[0m \u001b[0;34m&\u001b[0m\u001b[0;34m\u001b[0m\u001b[0;34m\u001b[0m\u001b[0m\n\u001b[0;32m----> 4\u001b[0;31m     \u001b[0mprocessed_combined_df\u001b[0m\u001b[0;34m[\u001b[0m\u001b[0;34m'text_normalized'\u001b[0m\u001b[0;34m]\u001b[0m\u001b[0;34m.\u001b[0m\u001b[0mstr\u001b[0m\u001b[0;34m.\u001b[0m\u001b[0mcontains\u001b[0m\u001b[0;34m(\u001b[0m\u001b[0;34m\"דברי הכנסתל\"\u001b[0m\u001b[0;34m,\u001b[0m \u001b[0mna\u001b[0m\u001b[0;34m=\u001b[0m\u001b[0;32mFalse\u001b[0m\u001b[0;34m)\u001b[0m\u001b[0;34m\u001b[0m\u001b[0;34m\u001b[0m\u001b[0m\n\u001b[0m\u001b[1;32m      5\u001b[0m )\n\u001b[1;32m      6\u001b[0m \u001b[0;34m\u001b[0m\u001b[0m\n",
            "\u001b[0;32m/usr/local/lib/python3.10/dist-packages/pandas/core/frame.py\u001b[0m in \u001b[0;36m__getitem__\u001b[0;34m(self, key)\u001b[0m\n\u001b[1;32m   4100\u001b[0m             \u001b[0;32mif\u001b[0m \u001b[0mself\u001b[0m\u001b[0;34m.\u001b[0m\u001b[0mcolumns\u001b[0m\u001b[0;34m.\u001b[0m\u001b[0mnlevels\u001b[0m \u001b[0;34m>\u001b[0m \u001b[0;36m1\u001b[0m\u001b[0;34m:\u001b[0m\u001b[0;34m\u001b[0m\u001b[0;34m\u001b[0m\u001b[0m\n\u001b[1;32m   4101\u001b[0m                 \u001b[0;32mreturn\u001b[0m \u001b[0mself\u001b[0m\u001b[0;34m.\u001b[0m\u001b[0m_getitem_multilevel\u001b[0m\u001b[0;34m(\u001b[0m\u001b[0mkey\u001b[0m\u001b[0;34m)\u001b[0m\u001b[0;34m\u001b[0m\u001b[0;34m\u001b[0m\u001b[0m\n\u001b[0;32m-> 4102\u001b[0;31m             \u001b[0mindexer\u001b[0m \u001b[0;34m=\u001b[0m \u001b[0mself\u001b[0m\u001b[0;34m.\u001b[0m\u001b[0mcolumns\u001b[0m\u001b[0;34m.\u001b[0m\u001b[0mget_loc\u001b[0m\u001b[0;34m(\u001b[0m\u001b[0mkey\u001b[0m\u001b[0;34m)\u001b[0m\u001b[0;34m\u001b[0m\u001b[0;34m\u001b[0m\u001b[0m\n\u001b[0m\u001b[1;32m   4103\u001b[0m             \u001b[0;32mif\u001b[0m \u001b[0mis_integer\u001b[0m\u001b[0;34m(\u001b[0m\u001b[0mindexer\u001b[0m\u001b[0;34m)\u001b[0m\u001b[0;34m:\u001b[0m\u001b[0;34m\u001b[0m\u001b[0;34m\u001b[0m\u001b[0m\n\u001b[1;32m   4104\u001b[0m                 \u001b[0mindexer\u001b[0m \u001b[0;34m=\u001b[0m \u001b[0;34m[\u001b[0m\u001b[0mindexer\u001b[0m\u001b[0;34m]\u001b[0m\u001b[0;34m\u001b[0m\u001b[0;34m\u001b[0m\u001b[0m\n",
            "\u001b[0;32m/usr/local/lib/python3.10/dist-packages/pandas/core/indexes/base.py\u001b[0m in \u001b[0;36mget_loc\u001b[0;34m(self, key)\u001b[0m\n\u001b[1;32m   3810\u001b[0m             ):\n\u001b[1;32m   3811\u001b[0m                 \u001b[0;32mraise\u001b[0m \u001b[0mInvalidIndexError\u001b[0m\u001b[0;34m(\u001b[0m\u001b[0mkey\u001b[0m\u001b[0;34m)\u001b[0m\u001b[0;34m\u001b[0m\u001b[0;34m\u001b[0m\u001b[0m\n\u001b[0;32m-> 3812\u001b[0;31m             \u001b[0;32mraise\u001b[0m \u001b[0mKeyError\u001b[0m\u001b[0;34m(\u001b[0m\u001b[0mkey\u001b[0m\u001b[0;34m)\u001b[0m \u001b[0;32mfrom\u001b[0m \u001b[0merr\u001b[0m\u001b[0;34m\u001b[0m\u001b[0;34m\u001b[0m\u001b[0m\n\u001b[0m\u001b[1;32m   3813\u001b[0m         \u001b[0;32mexcept\u001b[0m \u001b[0mTypeError\u001b[0m\u001b[0;34m:\u001b[0m\u001b[0;34m\u001b[0m\u001b[0;34m\u001b[0m\u001b[0m\n\u001b[1;32m   3814\u001b[0m             \u001b[0;31m# If we have a listlike key, _check_indexing_error will raise\u001b[0m\u001b[0;34m\u001b[0m\u001b[0;34m\u001b[0m\u001b[0m\n",
            "\u001b[0;31mKeyError\u001b[0m: 'text_normalized'"
          ]
        }
      ]
    },
    {
      "cell_type": "code",
      "source": [
        "# Check for rows with NaN speakers and normalized keyword\n",
        "rows_to_update = (\n",
        "    processed_combined_df['speaker'].isna() &\n",
        "    processed_combined_df['subject'].str.contains(\"מסמכים שהונחו\", na=False)\n",
        ")\n",
        "\n",
        "# Impute 'speaker' and 'party' for these rows\n",
        "processed_combined_df.loc[rows_to_update, 'speaker'] = \"איתן גינזבורג\"\n",
        "processed_combined_df.loc[rows_to_update, 'party'] = \"כחול לבן\"\n",
        "\n",
        "# Save the updated DataFrame to a new CSV\n",
        "processed_combined_df.to_csv(\"processed_combined_data.csv\", index=False)\n",
        "\n",
        "# Print the number of rows updated\n",
        "print(f\"Imputed {rows_to_update.sum()} additional rows with speaker as איתן גינזבורג and party as כחול לבן.\")"
      ],
      "metadata": {
        "colab": {
          "base_uri": "https://localhost:8080/"
        },
        "id": "dWFqr0xYBBj6",
        "outputId": "d8629203-ce64-4c93-b20e-4d5092a16825"
      },
      "execution_count": 21,
      "outputs": [
        {
          "output_type": "stream",
          "name": "stdout",
          "text": [
            "Imputed 4 additional rows with speaker as איתן גינזבורג and party as כחול לבן.\n"
          ]
        }
      ]
    },
    {
      "cell_type": "code",
      "source": [
        "combined_df.info()"
      ],
      "metadata": {
        "colab": {
          "base_uri": "https://localhost:8080/"
        },
        "id": "8wvnrRCtCSOm",
        "outputId": "f84449b9-265b-4fb5-e5c3-e2dfd408280c"
      },
      "execution_count": 22,
      "outputs": [
        {
          "output_type": "stream",
          "name": "stdout",
          "text": [
            "<class 'pandas.core.frame.DataFrame'>\n",
            "RangeIndex: 14418 entries, 0 to 14417\n",
            "Data columns (total 8 columns):\n",
            " #   Column       Non-Null Count  Dtype  \n",
            "---  ------       --------------  -----  \n",
            " 0   knesset      0 non-null      float64\n",
            " 1   session      14418 non-null  int64  \n",
            " 2   speaker      14418 non-null  object \n",
            " 3   party        14418 non-null  object \n",
            " 4   role         6331 non-null   object \n",
            " 5   text         14414 non-null  object \n",
            " 6   subject      14418 non-null  object \n",
            " 7   sub_subject  9230 non-null   object \n",
            "dtypes: float64(1), int64(1), object(6)\n",
            "memory usage: 901.2+ KB\n"
          ]
        }
      ]
    },
    {
      "cell_type": "markdown",
      "source": [
        "**Verify imputation of party:**"
      ],
      "metadata": {
        "id": "mZpg-_5cD6AK"
      }
    },
    {
      "cell_type": "code",
      "source": [
        "print(combined_df['party'].value_counts())\n",
        "print(combined_df['party'].isnull().sum())\n"
      ],
      "metadata": {
        "colab": {
          "base_uri": "https://localhost:8080/"
        },
        "id": "7aKH1-BxD-qB",
        "outputId": "bbf99c3c-e373-4a40-8ada-6e35db7ffa45"
      },
      "execution_count": 23,
      "outputs": [
        {
          "output_type": "stream",
          "name": "stdout",
          "text": [
            "party\n",
            "הליכוד                   3783\n",
            "יש עתיד                  1585\n",
            "ישראל ביתנו              1356\n",
            "תקווה חדשה               1228\n",
            "ש\"ס                      1070\n",
            "כחול לבן                  893\n",
            "הרשימה המשותפת            893\n",
            "מרצ                       663\n",
            "הציונות הדתית             652\n",
            "יהדות התורה               621\n",
            "unknown speaker           616\n",
            "העבודה                    318\n",
            "הרשימה הערבית המאוחדת     293\n",
            "ימינה                     263\n",
            "no party                  184\n",
            "Name: count, dtype: int64\n",
            "0\n"
          ]
        }
      ]
    },
    {
      "cell_type": "code",
      "source": [
        "import pandas as pd\n",
        "\n",
        "# Example: Replace with your actual dataframe\n",
        "# df = pd.read_csv(\"your_dataset.csv\")\n",
        "\n",
        "# Group by party and extract unique speakers for each party\n",
        "party_to_speakers = (\n",
        "    combined_df.groupby(\"party\")[\"speaker\"]\n",
        "    .apply(lambda x: x.dropna().unique().tolist())\n",
        "    .to_dict()\n",
        ")\n",
        "\n",
        "# Display unique speakers per party\n",
        "for party, speakers in party_to_speakers.items():\n",
        "    print(f\"{party}: {len(speakers)} speakers\")\n",
        "    print(speakers)\n",
        "    print()\n"
      ],
      "metadata": {
        "colab": {
          "base_uri": "https://localhost:8080/"
        },
        "id": "DJYJQk0TGvOT",
        "outputId": "3500b062-7b8f-4fb2-e38e-28e8dab070a8"
      },
      "execution_count": 24,
      "outputs": [
        {
          "output_type": "stream",
          "name": "stdout",
          "text": [
            "no party: 4 speakers\n",
            "['דן מרזוק', 'אלינור ימין', 'רוברטה מטסולה', 'ראדה חסייסי']\n",
            "\n",
            "unknown speaker: 2 speakers\n",
            "['קריאה', 'קריאות']\n",
            "\n",
            "הליכוד: 29 speakers\n",
            "['יולי יואל אדלשטיין', 'אורלי לוי אבקסיס', 'דוד ביטן', 'יריב לוין', 'אופיר אקוניס', 'בנימין נתניהו', 'אופיר כץ', 'דוד אמסלם', 'גלית דיסטל אטבריאן', 'שלמה קרעי', 'פטין מולא', 'אמיר אוחנה', 'מאי גולן', 'מירי מרים רגב', 'יואב קיש', 'אלי כהן', 'יואב גלנט', 'דסטה גדי יברקן', 'ישראל כץ', 'יובל שטייניץ', 'קטי קטרין שטרית', 'ניר ברקת', 'אבי דיכטר', 'קרן ברק', 'חיים כץ', 'גילה גמליאל', 'חוה אתי עטייה', 'מכלוף מיקי זוהר', 'צחי הנגבי']\n",
            "\n",
            "העבודה: 9 speakers\n",
            "['גלעד קריב', 'אפרת רייטן מרום', 'נעמה לזימי', 'מרב מיכאלי', 'אמילי חיה מואטי', 'רם שפע', 'עמר בר לב', 'אבתיסאם מראענה', 'נחמן שי']\n",
            "\n",
            "הציונות הדתית: 7 speakers\n",
            "['אבי מעוז', 'שמחה רוטמן', \"בצלאל סמוטריץ'\", 'איתמר בן גביר', 'אורית מלכה סטרוק', 'מיכל וולדיגר', 'אופיר סופר']\n",
            "\n",
            "הרשימה המשותפת: 7 speakers\n",
            "['עופר כסיף', 'אחמד טיבי', 'אוסאמה סעדי', 'עאידה תומא סלימאן', 'איימן עודה', 'סמי אבו שחאדה', 'תומא סלימאן (הרשימה המשותפת)']\n",
            "\n",
            "הרשימה הערבית המאוחדת: 4 speakers\n",
            "['מנסור עבאס', \"אימאן ח'טיב יאסין\", 'מאזן גנאים', 'ווליד טאהא']\n",
            "\n",
            "יהדות התורה: 9 speakers\n",
            "['ישראל אייכלר', 'אורי מקלב', 'יעקב אשר', 'משה גפני', 'יצחק פינדרוס', 'מאיר פרוש', 'יעקב ליצמן', '<< קריאה >> מאיר פרוש', 'יעקב טסלר']\n",
            "\n",
            "ימינה: 9 speakers\n",
            "['ניר אורבך', 'נפתלי בנט', 'שירלי פינטו קדוש', 'עמיחי שיקלי', 'מתן כהנא', 'הממשלה נפתלי בנט', 'עידית סילמן', 'אילת שקד', 'אביר קארה']\n",
            "\n",
            "יש עתיד: 21 speakers\n",
            "['מיקי לוי', 'בועז טופורובסקי', 'טטיאנה מזרסקי', 'משה טור פז', 'אורנה ברביבאי', 'ענבר בזק', 'רון כץ', 'מירב בן ארי', 'ולדימיר בליאק', 'יואל רזבוזוב', 'יסמין פרידמן', 'נירה שפק', \"יואב סגלוביץ'\", 'עידן רול', 'קארין אלהרר', 'מאיר כהן', 'יאיר לפיד', 'יוראי להב הרצנו', 'רם בן ברק', 'מירב כהן', 'סימון דוידסון']\n",
            "\n",
            "ישראל ביתנו: 9 speakers\n",
            "['יבגני סובה', 'עודד פורר', 'לימור מגן תלם', 'אלי אבידר', \"אלינה ברדץ' יאלוב\", 'יוסף שיין', 'חמד עמאר', 'אלכס קושניר', 'יוליה מלינובסקי']\n",
            "\n",
            "כחול לבן: 10 speakers\n",
            "['איתן גינזבורג', 'מופיד מרעי', 'יעל רון בן משה', 'בנימין גנץ', 'אלון שוסטר', 'רות וסרמן לנדה', 'אלעזר שטרן', 'מיכאל מרדכי ביטון', 'חילי טרופר', 'פנינה תמנו']\n",
            "\n",
            "מרצ: 9 speakers\n",
            "['מוסי רז', 'גבי לסקי', 'עלי סלאלחה', 'יאיר גולן', 'ניצן הורוביץ', 'מיכל רוזין', \"ג'ידא רינאוי זועבי\", 'תמר זנדברג', 'אזורי עיסאווי']\n",
            "\n",
            "ש\"ס: 9 speakers\n",
            "['אוריאל בוסו', 'משה אבוטבול', 'יוסף טייב', 'יעקב מרגי', 'משה ארבל', 'ינון אזולאי', 'חיים ביטון', 'מיכאל מלכיאלי', 'יואב בן צור']\n",
            "\n",
            "תקווה חדשה: 9 speakers\n",
            "['צבי האוזר', 'גדעון סער', 'יועז הנדל', 'יפעת שאשא ביטון', 'זאב אלקין', 'מיכל שיר סגמן', 'זאב בנימין בגין', 'מאיר יצחק הלוי', 'שרן מרים השכל']\n",
            "\n"
          ]
        }
      ]
    },
    {
      "cell_type": "code",
      "source": [
        "# Create a mapping of speakers to parties\n",
        "speaker_to_parties = combined_df.groupby(\"speaker\")[\"party\"].apply(lambda x: x.dropna().unique().tolist())\n",
        "\n",
        "# Filter for speakers associated with multiple parties\n",
        "multi_party_speakers = speaker_to_parties[speaker_to_parties.apply(len) > 1]\n",
        "\n",
        "# Display the results\n",
        "if multi_party_speakers.empty:\n",
        "    print(\"No speakers are associated with multiple parties.\")\n",
        "else:\n",
        "    print(\"Speakers associated with multiple parties:\")\n",
        "    for speaker, parties in multi_party_speakers.items():\n",
        "        print(f\"{speaker}: {', '.join(parties)}\")\n"
      ],
      "metadata": {
        "colab": {
          "base_uri": "https://localhost:8080/"
        },
        "id": "Sum5_wr0HOJ7",
        "outputId": "c556b6e3-994b-4aff-ed5b-3c3042a3ea35"
      },
      "execution_count": 25,
      "outputs": [
        {
          "output_type": "stream",
          "name": "stdout",
          "text": [
            "No speakers are associated with multiple parties.\n"
          ]
        }
      ]
    },
    {
      "cell_type": "markdown",
      "source": [
        "**איזה דוברים מופיעים בכל מליאה**:"
      ],
      "metadata": {
        "id": "h_bnuNUaLLw7"
      }
    },
    {
      "cell_type": "code",
      "source": [
        "import pandas as pd\n",
        "\n",
        "# Example: Replace with your actual dataframe\n",
        "# df = pd.read_csv(\"your_dataset.csv\")\n",
        "\n",
        "# Group by session and extract unique speakers for each session\n",
        "session_to_speakers = (\n",
        "    combined_df.groupby(\"session\")[\"speaker\"]\n",
        "    .apply(lambda x: x.dropna().unique().tolist())\n",
        "    .to_dict()\n",
        ")\n",
        "\n",
        "# Display unique speakers per session\n",
        "for session, speakers in session_to_speakers.items():\n",
        "    print(f\"Session {session}: {len(speakers)} speakers\")\n",
        "    print(speakers)\n",
        "    print()\n"
      ],
      "metadata": {
        "colab": {
          "base_uri": "https://localhost:8080/"
        },
        "id": "BQ8_7YqhG9_z",
        "outputId": "9b244de5-7ec7-4314-c031-8a2f4b802b82"
      },
      "execution_count": 26,
      "outputs": [
        {
          "output_type": "stream",
          "name": "stdout",
          "text": [
            "Session 127: 35 speakers\n",
            "['איתן גינזבורג', 'מיקי לוי', 'דן מרזוק', 'אוריאל בוסו', 'מוסי רז', 'בועז טופורובסקי', 'אבי מעוז', 'עופר כסיף', 'משה אבוטבול', 'גבי לסקי', 'יולי יואל אדלשטיין', 'מופיד מרעי', 'אחמד טיבי', 'ישראל אייכלר', 'טטיאנה מזרסקי', 'יבגני סובה', 'צבי האוזר', 'ניר אורבך', 'גלעד קריב', 'עודד פורר', 'אפרת רייטן מרום', 'אורלי לוי אבקסיס', 'נעמה לזימי', 'דוד ביטן', 'אורי מקלב', 'יוסף טייב', 'אוסאמה סעדי', 'יעל רון בן משה', 'משה טור פז', 'אורנה ברביבאי', 'ענבר בזק', 'לימור מגן תלם', 'עלי סלאלחה', 'גדעון סער', 'יריב לוין']\n",
            "\n",
            "Session 128: 91 speakers\n",
            "['איתן גינזבורג', 'דן מרזוק', 'עופר כסיף', 'עודד פורר', 'יעל רון בן משה', 'יעקב מרגי', 'רון כץ', 'יועז הנדל', 'שמחה רוטמן', 'יעקב אשר', 'אופיר אקוניס', 'אוריאל בוסו', 'מיקי לוי', 'נפתלי בנט', 'בנימין נתניהו', 'קריאה', 'קריאות', 'אופיר כץ', 'מירב בן ארי', 'דוד אמסלם', 'גלית דיסטל אטבריאן', 'שלמה קרעי', 'פטין מולא', 'אמיר אוחנה', 'מאי גולן', 'צבי האוזר', 'משה ארבל', \"בצלאל סמוטריץ'\", 'משה אבוטבול', 'גדעון סער', 'בנימין גנץ', 'איתמר בן גביר', 'עאידה תומא סלימאן', 'איימן עודה', 'יפעת שאשא ביטון', 'מירי מרים רגב', 'בועז טופורובסקי', 'זאב אלקין', 'יואב קיש', 'ולדימיר בליאק', 'אלי כהן', 'אורית מלכה סטרוק', 'ניר אורבך', 'לימור מגן תלם', 'יאיר גולן', 'יואל רזבוזוב', 'שירלי פינטו קדוש', 'יסמין פרידמן', 'נירה שפק', 'עלי סלאלחה', 'ניצן הורוביץ', 'ינון אזולאי', 'משה גפני', 'יואב גלנט', 'חיים ביטון', 'מיכאל מלכיאלי', 'מיכל רוזין', 'סמי אבו שחאדה', 'אלי אבידר', 'יבגני סובה', \"אלינה ברדץ' יאלוב\", \"יואב סגלוביץ'\", 'גלעד קריב', 'דסטה גדי יברקן', 'אורלי לוי אבקסיס', 'אחמד טיבי', 'אורנה ברביבאי', 'יוסף שיין', 'אלינור ימין', 'ישראל כץ', 'יובל שטייניץ', 'קטי קטרין שטרית', 'אוסאמה סעדי', 'ניר ברקת', 'עידן רול', 'אורי מקלב', 'גבי לסקי', 'יצחק פינדרוס', \"ג'ידא רינאוי זועבי\", 'אבי דיכטר', 'קרן ברק', 'מרב מיכאלי', 'מאיר פרוש', 'ישראל אייכלר', 'חמד עמאר', 'אבי מעוז', 'נעמה לזימי', 'יואב בן צור', 'יוסף טייב', 'אלון שוסטר', 'עמיחי שיקלי']\n",
            "\n",
            "Session 129: 84 speakers\n",
            "['איתן גינזבורג', 'מיקי לוי', 'דן מרזוק', 'אבי מעוז', 'דוד אמסלם', 'קטי קטרין שטרית', 'גבי לסקי', 'בועז טופורובסקי', 'סמי אבו שחאדה', 'דסטה גדי יברקן', 'ענבר בזק', 'מיכל וולדיגר', 'יואב בן צור', 'קריאה', 'יואב גלנט', 'ולדימיר בליאק', 'רות וסרמן לנדה', 'משה גפני', 'לימור מגן תלם', 'מאי גולן', 'יצחק פינדרוס', 'צבי האוזר', \"בצלאל סמוטריץ'\", 'אחמד טיבי', 'שלמה קרעי', 'אורית מלכה סטרוק', 'נפתלי בנט', 'שמחה רוטמן', 'קריאות', 'יבגני סובה', \"ג'ידא רינאוי זועבי\", 'אבי דיכטר', 'אופיר אקוניס', 'מיכל רוזין', 'אמיר אוחנה', 'קארין אלהרר', 'מתן כהנא', 'אוריאל בוסו', 'איתמר בן גביר', 'הממשלה נפתלי בנט', 'יובל שטייניץ', 'גלית דיסטל אטבריאן', 'יוסף טייב', 'איימן עודה', 'אורלי לוי אבקסיס', 'בנימין נתניהו', 'משה אבוטבול', 'יאיר גולן', 'גלעד קריב', 'מיכל שיר סגמן', 'מירי מרים רגב', 'אופיר כץ', 'יסמין פרידמן', 'משה טור פז', 'יואב קיש', 'רון כץ', 'זאב אלקין', 'ינון אזולאי', 'אלכס קושניר', 'משה ארבל', 'מנסור עבאס', 'עאידה תומא סלימאן', 'אוסאמה סעדי', 'יעקב מרגי', 'חיים ביטון', 'מאיר כהן', 'אלעזר שטרן', 'דוד ביטן', 'אורי מקלב', 'עידית סילמן', 'יוסף שיין', 'מאיר פרוש', 'יעקב אשר', 'אמילי חיה מואטי', 'אופיר סופר', 'מיכאל מלכיאלי', 'יפעת שאשא ביטון', 'אילת שקד', 'חיים כץ', 'תומא סלימאן (הרשימה המשותפת)', 'יאיר לפיד', 'קרן ברק', 'יוראי להב הרצנו', 'נירה שפק']\n",
            "\n",
            "Session 130: 18 speakers\n",
            "['איתן גינזבורג', 'מיקי לוי', 'דן מרזוק', 'קריאה', 'בועז טופורובסקי', 'אבי מעוז', 'יעל רון בן משה', 'משה אבוטבול', 'מירב בן ארי', 'אמיר אוחנה', 'רות וסרמן לנדה', 'איתמר בן גביר', 'אלכס קושניר', \"יואב סגלוביץ'\", 'ינון אזולאי', 'מאיר כהן', 'עאידה תומא סלימאן', 'גבי לסקי']\n",
            "\n",
            "Session 131: 32 speakers\n",
            "['איתן גינזבורג', 'יבגני סובה', 'גבי לסקי', 'חמד עמאר', 'אורי מקלב', 'קריאה', 'אורית מלכה סטרוק', 'אוסאמה סעדי', 'אילת שקד', 'אחמד טיבי', 'מיכל רוזין', 'קריאות', 'גילה גמליאל', 'יפעת שאשא ביטון', 'אורלי לוי אבקסיס', \"אימאן ח'טיב יאסין\", 'דסטה גדי יברקן', 'רם שפע', 'יעקב אשר', 'יאיר גולן', 'איתמר בן גביר', 'קרן ברק', 'מאיר כהן', 'שלמה קרעי', 'מירב בן ארי', 'חוה אתי עטייה', 'קארין אלהרר', 'אוריאל בוסו', 'איימן עודה', 'נירה שפק', 'יוסף טייב', 'תמר זנדברג']\n",
            "\n",
            "Session 132: 77 speakers\n",
            "['איתן גינזבורג', 'יבגני סובה', 'דן מרזוק', 'גילה גמליאל', 'תמר זנדברג', 'משה ארבל', 'מכלוף מיקי זוהר', 'חמד עמאר', 'יעקב ליצמן', 'יעקב אשר', 'יעקב מרגי', 'קריאה', 'אלעזר שטרן', 'קריאות', 'דסטה גדי יברקן', 'ינון אזולאי', 'מופיד מרעי', 'עאידה תומא סלימאן', 'אלכס קושניר', 'יוסף טייב', 'שלמה קרעי', 'אופיר סופר', 'מיכל שיר סגמן', 'אוריאל בוסו', 'מוסי רז', 'מיקי לוי', 'גלית דיסטל אטבריאן', 'יועז הנדל', 'אחמד טיבי', 'אופיר כץ', 'סמי אבו שחאדה', 'רוברטה מטסולה', 'יואב קיש', 'איתמר בן גביר', 'מיכל רוזין', 'אורי מקלב', 'יצחק פינדרוס', 'איימן עודה', 'מאיר פרוש', 'אבי מעוז', 'משה גפני', 'ישראל כץ', 'צבי האוזר', 'עופר כסיף', 'אוסאמה סעדי', 'מיכאל מלכיאלי', 'ולדימיר בליאק', 'ישראל אייכלר', 'חיים ביטון', 'דוד אמסלם', 'אופיר אקוניס', 'מיכל וולדיגר', 'משה אבוטבול', 'שמחה רוטמן', 'קטי קטרין שטרית', 'גלעד קריב', 'אורלי לוי אבקסיס', 'יובל שטייניץ', 'אמיר אוחנה', 'רון כץ', 'רם בן ברק', 'מאי גולן', 'בנימין גנץ', 'מיכאל מרדכי ביטון', 'יוראי להב הרצנו', 'אורנה ברביבאי', 'אלינור ימין', 'יוסף שיין', 'יואב גלנט', 'מירי מרים רגב', 'יריב לוין', 'אלי כהן', 'דוד ביטן', 'גבי לסקי', \"בצלאל סמוטריץ'\", 'אורית מלכה סטרוק', 'מירב בן ארי']\n",
            "\n",
            "Session 133: 13 speakers\n",
            "['איתן גינזבורג', 'מיקי לוי', 'בועז טופורובסקי', 'יריב לוין', 'אבי מעוז', 'יעל רון בן משה', 'יוראי להב הרצנו', 'משה אבוטבול', 'אזורי עיסאווי', 'זאב בנימין בגין', 'אורי מקלב', 'מוסי רז', 'דן מרזוק']\n",
            "\n",
            "Session 134: 80 speakers\n",
            "['איתן גינזבורג', 'מיקי לוי', 'אחמד טיבי', 'יאיר גולן', 'אורי מקלב', 'עאידה תומא סלימאן', 'רות וסרמן לנדה', 'עמר בר לב', 'מוסי רז', 'קריאות', 'מיכאל מלכיאלי', 'אלכס קושניר', 'אורית מלכה סטרוק', 'עופר כסיף', 'דן מרזוק', 'יבגני סובה', 'קריאה', 'יעקב ליצמן', 'זאב אלקין', 'יעקב אשר', \"בצלאל סמוטריץ'\", 'אופיר אקוניס', 'יצחק פינדרוס', 'פטין מולא', 'משה אבוטבול', 'מאיר יצחק הלוי', 'שלמה קרעי', 'אורלי לוי אבקסיס', 'מירי מרים רגב', 'בועז טופורובסקי', 'יואב קיש', 'קטי קטרין שטרית', 'גלעד קריב', 'מיכל רוזין', 'אבתיסאם מראענה', 'שמחה רוטמן', 'דוד אמסלם', 'ינון אזולאי', 'ולדימיר בליאק', 'יוראי להב הרצנו', 'מיכל וולדיגר', 'חילי טרופר', 'עודד פורר', 'משה ארבל', 'תמר זנדברג', 'אלון שוסטר', 'יולי יואל אדלשטיין', 'מאי גולן', 'אבי דיכטר', 'יואב גלנט', 'אופיר כץ', 'יוסף טייב', 'יועז הנדל', 'אמילי חיה מואטי', 'סמי אבו שחאדה', 'אלינור ימין', 'מנסור עבאס', 'דסטה גדי יברקן', 'רם בן ברק', 'איימן עודה', 'משה גפני', \"אימאן ח'טיב יאסין\", 'אביר קארה', 'אוריאל בוסו', 'גילה גמליאל', 'יעקב מרגי', 'קארין אלהרר', 'צבי האוזר', 'שרן מרים השכל', 'גבי לסקי', 'אוסאמה סעדי', \"ג'ידא רינאוי זועבי\", 'מכלוף מיקי זוהר', 'מאיר פרוש', 'מתן כהנא', 'ישראל אייכלר', '<< קריאה >> מאיר פרוש', 'אופיר סופר', 'יואב בן צור', \"יואב סגלוביץ'\"]\n",
            "\n",
            "Session 135: 70 speakers\n",
            "['איתן גינזבורג', 'מיקי לוי', 'דן מרזוק', 'אבי דיכטר', 'חמד עמאר', 'דסטה גדי יברקן', 'סמי אבו שחאדה', 'ישראל אייכלר', 'מתן כהנא', 'אביר קארה', 'אורית מלכה סטרוק', \"בצלאל סמוטריץ'\", 'אחמד טיבי', 'עופר כסיף', 'משה ארבל', 'מירב כהן', 'שלמה קרעי', 'גלית דיסטל אטבריאן', 'יוסף טייב', 'דוד אמסלם', 'מירב בן ארי', 'אורי מקלב', \"אלינה ברדץ' יאלוב\", 'איימן עודה', 'מיכל שיר סגמן', 'גבי לסקי', 'עמיחי שיקלי', 'מאיר פרוש', 'קריאה', 'מרב מיכאלי', 'יפעת שאשא ביטון', 'אוסאמה סעדי', 'זאב אלקין', 'יעקב מרגי', 'זאב בנימין בגין', 'משה טור פז', 'מיכאל מלכיאלי', 'מיכל רוזין', 'אבי מעוז', 'יבגני סובה', 'משה אבוטבול', 'בנימין גנץ', 'יואב קיש', 'ישראל כץ', 'משה גפני', 'חיים כץ', 'יצחק פינדרוס', 'מיכל וולדיגר', 'מכלוף מיקי זוהר', 'אוריאל בוסו', 'גדעון סער', 'יואב בן צור', 'דוד ביטן', 'קריאות', 'מאיר יצחק הלוי', 'קטי קטרין שטרית', 'שמחה רוטמן', 'מירי מרים רגב', 'גלעד קריב', 'אופיר כץ', 'אופיר אקוניס', 'ינון אזולאי', 'בועז טופורובסקי', 'עאידה תומא סלימאן', 'ניר אורבך', 'מנסור עבאס', 'יריב לוין', 'חוה אתי עטייה', 'רון כץ', 'ראדה חסייסי']\n",
            "\n",
            "Session 136: 31 speakers\n",
            "['איתן גינזבורג', 'מיקי לוי', 'בועז טופורובסקי', 'יוסף טייב', 'אוריאל בוסו', 'אבי מעוז', 'ענבר בזק', 'גבי לסקי', 'משה אבוטבול', 'קריאות', 'עופר כסיף', 'יואב בן צור', 'סימון דוידסון', 'יוראי להב הרצנו', 'ינון אזולאי', 'משה טור פז', 'מוסי רז', 'איימן עודה', 'מאיר יצחק הלוי', 'אופיר כץ', 'קארין אלהרר', 'יבגני סובה', 'לימור מגן תלם', 'עידית סילמן', 'שלמה קרעי', 'קריאה', 'זאב בנימין בגין', 'צבי האוזר', 'מיכל שיר סגמן', 'שירלי פינטו קדוש', 'ראדה חסייסי']\n",
            "\n",
            "Session 137: 88 speakers\n",
            "['איתן גינזבורג', 'מיקי לוי', 'אורי מקלב', 'אילת שקד', 'ינון אזולאי', 'גבי לסקי', 'מיכאל מלכיאלי', 'אחמד טיבי', 'אוסאמה סעדי', 'מרב מיכאלי', 'אוריאל בוסו', 'אורית מלכה סטרוק', 'משה ארבל', 'איימן עודה', 'טטיאנה מזרסקי', 'ניצן הורוביץ', 'צבי האוזר', 'יעקב מרגי', 'משה גפני', 'יפעת שאשא ביטון', 'אורלי לוי אבקסיס', 'דן מרזוק', 'קטי קטרין שטרית', 'יואב בן צור', 'חמד עמאר', 'משה אבוטבול', 'דוד אמסלם', 'יצחק פינדרוס', 'בנימין נתניהו', 'אביר קארה', 'קריאה', 'אלינור ימין', 'מירב בן ארי', 'קריאות', 'יואב קיש', \"יואב סגלוביץ'\", 'מנסור עבאס', 'מירי מרים רגב', 'סמי אבו שחאדה', 'עאידה תומא סלימאן', \"בצלאל סמוטריץ'\", 'אלעזר שטרן', 'מאיר יצחק הלוי', 'אופיר אקוניס', 'עופר כסיף', 'אופיר כץ', 'מאיר כהן', 'יעל רון בן משה', 'ראדה חסייסי', 'יעקב ליצמן', 'חיים כץ', 'בנימין גנץ', 'יוסף שיין', 'נירה שפק', 'בועז טופורובסקי', 'מאי גולן', 'רם בן ברק', 'ענבר בזק', 'שמחה רוטמן', 'מאזן גנאים', 'מוסי רז', 'אלכס קושניר', 'שרן מרים השכל', 'חילי טרופר', 'שלמה קרעי', 'מיכל שיר סגמן', 'אלון שוסטר', 'יוראי להב הרצנו', 'גלית דיסטל אטבריאן', 'יובל שטייניץ', 'איתמר בן גביר', 'דסטה גדי יברקן', 'מכלוף מיקי זוהר', 'יולי יואל אדלשטיין', 'נעמה לזימי', 'רון כץ', 'גלעד קריב', 'ולדימיר בליאק', 'נחמן שי', 'יאיר גולן', 'אמיר אוחנה', 'ניר אורבך', 'אלי כהן', 'ווליד טאהא', 'יוסף טייב', 'דוד ביטן', 'חוה אתי עטייה', 'רות וסרמן לנדה']\n",
            "\n",
            "Session 138: 91 speakers\n",
            "['איתן גינזבורג', 'אלינור ימין', 'יולי יואל אדלשטיין', 'יוראי להב הרצנו', 'חמד עמאר', 'עודד פורר', 'דוד אמסלם', 'יעקב מרגי', 'מיכל וולדיגר', 'יבגני סובה', 'יובל שטייניץ', 'משה אבוטבול', 'מאיר פרוש', 'יוליה מלינובסקי', 'חיים ביטון', 'איתמר בן גביר', 'סמי אבו שחאדה', 'מיכל שיר סגמן', 'קריאות', 'עלי סלאלחה', 'קריאה', 'פטין מולא', 'דסטה גדי יברקן', 'אוריאל בוסו', 'יעקב אשר', 'יריב לוין', 'קטי קטרין שטרית', 'יעקב טסלר', 'חיים כץ', 'ראדה חסייסי', 'גדעון סער', 'צבי האוזר', 'גלית דיסטל אטבריאן', 'יואב קיש', 'אבי מעוז', 'עופר כסיף', 'שמחה רוטמן', 'עאידה תומא סלימאן', 'יואב בן צור', 'איימן עודה', 'אופיר אקוניס', 'משה טור פז', 'משה גפני', 'דוד ביטן', 'ינון אזולאי', 'יצחק פינדרוס', 'עמיחי שיקלי', 'אמיר אוחנה', 'אחמד טיבי', 'ישראל אייכלר', 'אופיר כץ', 'אורי מקלב', 'מירי מרים רגב', 'פנינה תמנו', 'אלי כהן', 'יואב גלנט', 'זאב בנימין בגין', \"בצלאל סמוטריץ'\", 'קרן ברק', 'יוסף שיין', 'ישראל כץ', 'מיכאל מלכיאלי', 'אוסאמה סעדי', 'מאי גולן', 'צחי הנגבי', 'אופיר סופר', 'זאב אלקין', 'יוסף טייב', 'שלמה קרעי', 'בועז טופורובסקי', 'יאיר גולן', 'ניר אורבך', 'מאזן גנאים', 'אזורי עיסאווי', 'רון כץ', 'מירב בן ארי', 'מיכאל מרדכי ביטון', 'אורלי לוי אבקסיס', \"ג'ידא רינאוי זועבי\", 'משה ארבל', 'חוה אתי עטייה', 'אלעזר שטרן', 'אבי דיכטר', 'נפתלי בנט', 'מאיר כהן', 'בנימין גנץ', 'יאיר לפיד', 'אילת שקד', 'מנסור עבאס', 'רם שפע', 'נעמה לזימי']\n",
            "\n",
            "Session 139: 21 speakers\n",
            "['איתן גינזבורג', 'אלינור ימין', 'בועז טופורובסקי', 'אוריאל בוסו', 'יעל רון בן משה', 'אבי מעוז', 'ענבר בזק', 'משה אבוטבול', 'אחמד טיבי', 'אופיר אקוניס', 'יריב לוין', 'דוד ביטן', 'יצחק פינדרוס', 'איתמר בן גביר', 'יואל רזבוזוב', 'עידית סילמן', 'אוסאמה סעדי', 'מיכל רוזין', 'עלי סלאלחה', 'קריאה', \"ג'ידא רינאוי זועבי\"]\n",
            "\n"
          ]
        }
      ]
    },
    {
      "cell_type": "code",
      "source": [
        "# Group by session and speaker_to_party, then count occurrences\n",
        "party_counts = combined_df.groupby([\"session\", \"party\"]).size().reset_index(name=\"party_per_session_count\")\n",
        "\n",
        "# Display the result\n",
        "print(party_counts)"
      ],
      "metadata": {
        "colab": {
          "base_uri": "https://localhost:8080/"
        },
        "id": "g08KHdygDaZD",
        "outputId": "aa3fd010-d593-43a2-fbf2-7e8821d621d0"
      },
      "execution_count": 27,
      "outputs": [
        {
          "output_type": "stream",
          "name": "stdout",
          "text": [
            "     session           party  party_per_session_count\n",
            "0        127        no party                        1\n",
            "1        127          הליכוד                       94\n",
            "2        127          העבודה                       21\n",
            "3        127   הציונות הדתית                        2\n",
            "4        127  הרשימה המשותפת                       11\n",
            "..       ...             ...                      ...\n",
            "166      139           ימינה                        4\n",
            "167      139         יש עתיד                        3\n",
            "168      139        כחול לבן                       12\n",
            "169      139             מרצ                        7\n",
            "170      139             ש\"ס                        7\n",
            "\n",
            "[171 rows x 3 columns]\n"
          ]
        }
      ]
    },
    {
      "cell_type": "markdown",
      "source": [
        "אפשר לראות שיש תיוג מלא של הדוברים והמפלגות וגם נושאי הדיון במליאה.\n",
        "\n",
        "שימי לב שחסר בעמודת ה\n",
        "\n",
        "text\n",
        "\n",
        "מה עוד יש לעשות:\n",
        "\n",
        "1. לבדוק מי המפלגות שמופיעות עבור ה4 שורות עם טקסט חסר, גם אותן צריך לספור להבנתי. אפשר לוודא עם יובל.\n",
        "לפי יובל זה תלוי בפיצ'רים כי אם הם תלויים בטקסט אז מן הסתם שתהיה בעיה כי אין טקסט.\n",
        "\n",
        "2. בבלוק קוד האחרון צריך שהקוד גם יחלק את הדוברים שמופיעים בכל מליאה, למפלגות שלהם ויספור כמה מאותה מפלגה יש באותה מליאה. זה אגב מתקשר ל y label\n",
        "\n",
        "3. לנסות לפענח מי זה הדובר שרשמתי תחת מפלגה unknown speaker\n",
        "אולי באמצעות מילות מפתח, יש הרבה \"שקר\" שם ואולי גם באמצעות\n",
        "count vectorizer\n",
        "ובעצם לאחר שנבין מי הדובר אז נוכל לתייג את המפלגה שלו. יש לא מעט שורות כאלו ולכן זה חשוב.\n",
        "\n",
        "4. הכנת פיצ'ר בינארי של 1 הליכוד וכל שאר המפלגות יקבלו 0\n",
        "\n",
        "5. הכנת פיצ'ר שסופר את כמות המפלגות בכל מליאה שזה המשתנה מטרה למעשה\n",
        "\n",
        "6. הכנת פיצ'רים שסופרים את כמות התווים בטקסט ו/או את כמות התווים שאינם אותיות כמו סימני קריאה\n",
        "\n",
        "7. לנקות עמודות שלא צריך, לדעתי את role, sub subject, knesset\n",
        "לדעתי גם צריך לעשות משהו עם הרעש של \"ללא מפלגה\" כי זה לא רלוונטי לתרגיל בכלל.\n",
        "\n",
        "8. לשים אינדקס ?\n",
        "\n",
        "9. להמשיך למודל ראשון ברגרסיה לינארית"
      ],
      "metadata": {
        "id": "CBpuq_LTCrXj"
      }
    },
    {
      "cell_type": "code",
      "source": [
        "import pandas as pd\n",
        "\n",
        "# Load the dataset\n",
        "df = pd.read_csv(\"processed_combined_data.csv\")\n",
        "\n",
        "# Group by Session and Party\n",
        "grouped = df.groupby([\"session\", \"party\"]).size().reset_index(name=\"count\")\n",
        "\n",
        "# Pivot the table\n",
        "table = grouped.pivot(index=\"session\", columns=\"party\", values=\"count\").fillna(0)\n",
        "\n",
        "# Rename columns (if needed)\n",
        "table.rename(columns={\"no party\": \"no party\", \"unknown speaker\": \"unknown speaker\", \"הליכוד\": \"הליכוד\", \"יש עתיד\": \"יש עתיד\", \"ש\\\"ס\":\"ש\\\"ס\", \"כחול לבן\":\"כחול לבן\", \"יהדות התורה\":\"יהדות התורה\", \"ימינה\":\"ימינה\",\"הרשימה המשותפת\":\"הרשימה המשותפת\", \"מרצ\":\"מרצ\", \"הציונות הדתית\":\"הציונות הדתית\", \"תקווה חדשה\":\"תקווה חדשה\", \"הרשימה הערבית המאוחדת\":\"הרשימה הערבית המאוחדת\", \"העבודה\":\"העבודה\",\"ישראל ביתנו\":\"ישראל ביתנו\"}, inplace=True)\n",
        "\n",
        "# Ensure all values are integers\n",
        "table = table.astype(int)\n",
        "\n",
        "# Save the table to a new CSV file\n",
        "table.to_csv(\"session_party_counts.csv\")\n",
        "\n",
        "print(\"Table saved to session_party_counts.csv\")\n",
        "\n",
        "print(table)\n",
        "\n",
        "\n"
      ],
      "metadata": {
        "colab": {
          "base_uri": "https://localhost:8080/"
        },
        "id": "iUYQWgevKcZ9",
        "outputId": "38eed81f-4693-40d6-d6c5-be72c881d078"
      },
      "execution_count": 32,
      "outputs": [
        {
          "output_type": "stream",
          "name": "stdout",
          "text": [
            "Table saved to session_party_counts.csv\n",
            "party    no party  unknown speaker  הליכוד  העבודה  הציונות הדתית  \\\n",
            "session                                                             \n",
            "127             1                0      94      21              2   \n",
            "128            18               84     375      67             95   \n",
            "129             8              100     632      26            120   \n",
            "130             1                1       1       0              2   \n",
            "131             0               10      90       6             23   \n",
            "132            11               60     718      17             95   \n",
            "133             1                0       2       0              1   \n",
            "134            42               73     437      41             64   \n",
            "135            14                8     232      10             63   \n",
            "136             1                2      63       0              1   \n",
            "137            65              153     643     123            126   \n",
            "138            20              123     441       7             58   \n",
            "139             2                2      55       0              2   \n",
            "\n",
            "party    הרשימה המשותפת  הרשימה הערבית המאוחדת  יהדות התורה  ימינה  יש עתיד  \\\n",
            "session                                                                       \n",
            "127                  11                      0            6      1       50   \n",
            "128                  67                      0           67      6      250   \n",
            "129                  62                    111           66    103       62   \n",
            "130                   2                      0            0      0       37   \n",
            "131                  60                      3           37     15       59   \n",
            "132                 106                      0           70      0      235   \n",
            "133                   0                      0            1      0       29   \n",
            "134                  99                     63           79     37       94   \n",
            "135                  65                      6           44     35      192   \n",
            "136                  18                      0            0      3       86   \n",
            "137                 298                    108           75     47      442   \n",
            "138                  87                      2          162     12       46   \n",
            "139                  18                      0           14      4        3   \n",
            "\n",
            "party    ישראל ביתנו  כחול לבן  מרצ  ש\"ס  תקווה חדשה  \n",
            "session                                               \n",
            "127               14        17   19   17           7  \n",
            "128              277       107  124   85         166  \n",
            "129              170        48   14  221         215  \n",
            "130                1        15    3    8           0  \n",
            "131              231        15   25    4          52  \n",
            "132              285        81  144  188         120  \n",
            "133                0         4    5    7           1  \n",
            "134               76       117  143  113         248  \n",
            "135              131        86    2  106          35  \n",
            "136               43        23   22   49           7  \n",
            "137               15        68   31  120          98  \n",
            "138              113       300  124  145         279  \n",
            "139                0        12    7    7           0  \n"
          ]
        }
      ]
    }
  ],
  "metadata": {
    "colab": {
      "provenance": []
    },
    "kernelspec": {
      "display_name": "base",
      "language": "python",
      "name": "python3"
    },
    "language_info": {
      "codemirror_mode": {
        "name": "ipython",
        "version": 3
      },
      "file_extension": ".py",
      "mimetype": "text/x-python",
      "name": "python",
      "nbconvert_exporter": "python",
      "pygments_lexer": "ipython3",
      "version": "3.12.3"
    }
  },
  "nbformat": 4,
  "nbformat_minor": 0
}